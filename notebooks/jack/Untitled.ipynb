{
 "cells": [
  {
   "cell_type": "code",
   "execution_count": 3,
   "id": "c5d3787b-548f-4423-aff6-7573824897eb",
   "metadata": {},
   "outputs": [],
   "source": [
    "import pooch"
   ]
  },
  {
   "cell_type": "code",
   "execution_count": 2,
   "id": "a57b3b90-ddc1-4438-8c6b-2b19861fee4a",
   "metadata": {},
   "outputs": [
    {
     "name": "stdout",
     "output_type": "stream",
     "text": [
      "Collecting pooch\n",
      "  Using cached pooch-1.8.2-py3-none-any.whl (64 kB)\n",
      "Requirement already satisfied: requests>=2.19.0 in /opt/jupyterhub/lib/python3.10/site-packages (from pooch) (2.32.3)\n",
      "Requirement already satisfied: platformdirs>=2.5.0 in /opt/jupyterhub/lib/python3.10/site-packages (from pooch) (4.2.2)\n",
      "Requirement already satisfied: packaging>=20.0 in /opt/jupyterhub/lib/python3.10/site-packages (from pooch) (24.1)\n",
      "Requirement already satisfied: charset-normalizer<4,>=2 in /opt/jupyterhub/lib/python3.10/site-packages (from requests>=2.19.0->pooch) (3.3.2)\n",
      "Requirement already satisfied: idna<4,>=2.5 in /opt/jupyterhub/lib/python3.10/site-packages (from requests>=2.19.0->pooch) (3.7)\n",
      "Requirement already satisfied: urllib3<3,>=1.21.1 in /opt/jupyterhub/lib/python3.10/site-packages (from requests>=2.19.0->pooch) (2.2.2)\n",
      "Requirement already satisfied: certifi>=2017.4.17 in /opt/jupyterhub/lib/python3.10/site-packages (from requests>=2.19.0->pooch) (2024.6.2)\n",
      "Installing collected packages: pooch\n",
      "Successfully installed pooch-1.8.2\n",
      "Note: you may need to restart the kernel to use updated packages.\n"
     ]
    }
   ],
   "source": [
    "pip install pooch"
   ]
  },
  {
   "cell_type": "code",
   "execution_count": 4,
   "id": "4925ddf1-dd4a-4a90-ac33-2bdd0ecd062e",
   "metadata": {},
   "outputs": [],
   "source": [
    "import requests"
   ]
  },
  {
   "cell_type": "code",
   "execution_count": 5,
   "id": "c5e81c03-f909-4343-bad8-48bd6beabcff",
   "metadata": {},
   "outputs": [
    {
     "name": "stdout",
     "output_type": "stream",
     "text": [
      "Collecting scikit-image\n",
      "  Using cached scikit_image-0.24.0-cp310-cp310-manylinux_2_17_x86_64.manylinux2014_x86_64.whl (14.9 MB)\n",
      "Requirement already satisfied: networkx>=2.8 in /opt/jupyterhub/lib/python3.10/site-packages (from scikit-image) (3.3)\n",
      "Requirement already satisfied: scipy>=1.9 in /opt/jupyterhub/lib/python3.10/site-packages (from scikit-image) (1.13.1)\n",
      "Collecting lazy-loader>=0.4\n",
      "  Using cached lazy_loader-0.4-py3-none-any.whl (12 kB)\n",
      "Requirement already satisfied: numpy>=1.23 in /opt/jupyterhub/lib/python3.10/site-packages (from scikit-image) (1.26.4)\n",
      "Collecting tifffile>=2022.8.12\n",
      "  Using cached tifffile-2024.7.24-py3-none-any.whl (226 kB)\n",
      "Collecting imageio>=2.33\n",
      "  Using cached imageio-2.34.2-py3-none-any.whl (313 kB)\n",
      "Requirement already satisfied: pillow>=9.1 in /opt/jupyterhub/lib/python3.10/site-packages (from scikit-image) (10.3.0)\n",
      "Requirement already satisfied: packaging>=21 in /opt/jupyterhub/lib/python3.10/site-packages (from scikit-image) (24.1)\n",
      "Installing collected packages: tifffile, lazy-loader, imageio, scikit-image\n",
      "Successfully installed imageio-2.34.2 lazy-loader-0.4 scikit-image-0.24.0 tifffile-2024.7.24\n",
      "Note: you may need to restart the kernel to use updated packages.\n"
     ]
    }
   ],
   "source": [
    "pip install scikit-image"
   ]
  },
  {
   "cell_type": "code",
   "execution_count": 6,
   "id": "92c63165-35f2-432b-809e-f07276e382f3",
   "metadata": {},
   "outputs": [
    {
     "name": "stdout",
     "output_type": "stream",
     "text": [
      "Collecting tensorrt\n",
      "  Downloading tensorrt-10.2.0.post1.tar.gz (16 kB)\n",
      "  Preparing metadata (setup.py) ... \u001b[?25ldone\n",
      "\u001b[?25hCollecting tensorrt-cu12==10.2.0.post1\n",
      "  Downloading tensorrt-cu12-10.2.0.post1.tar.gz (18 kB)\n",
      "  Preparing metadata (setup.py) ... \u001b[?25ldone\n",
      "\u001b[?25hBuilding wheels for collected packages: tensorrt, tensorrt-cu12\n",
      "  Building wheel for tensorrt (setup.py) ... \u001b[?25ldone\n",
      "\u001b[?25h  Created wheel for tensorrt: filename=tensorrt-10.2.0.post1-py2.py3-none-any.whl size=16434 sha256=51561b96e96646de1f005cf57ed6f9348b6e695aaa61e03ab163685cdc32f3fb\n",
      "  Stored in directory: /home/jack/.cache/pip/wheels/61/5f/d0/e0184ce80b75930f1376ad398ee9e08a45861d0057ee358e2d\n",
      "  Building wheel for tensorrt-cu12 (setup.py) ... \u001b[?25ldone\n",
      "\u001b[?25h  Created wheel for tensorrt-cu12: filename=tensorrt_cu12-10.2.0.post1-py2.py3-none-any.whl size=17650 sha256=2606ade300f75c8a70e811dd763c9c4dcf1e7872b26b9fe54786b8941be9cf81\n",
      "  Stored in directory: /home/jack/.cache/pip/wheels/bc/be/a0/0708e6c9c1b108c54cbe0425eb84c7e9a49b5e1d31bb2115fd\n",
      "Successfully built tensorrt tensorrt-cu12\n",
      "Installing collected packages: tensorrt-cu12, tensorrt\n",
      "Successfully installed tensorrt-10.2.0.post1 tensorrt-cu12-10.2.0.post1\n",
      "Note: you may need to restart the kernel to use updated packages.\n"
     ]
    }
   ],
   "source": [
    "pip install tensorrt"
   ]
  },
  {
   "cell_type": "code",
   "execution_count": null,
   "id": "8380e1e9-4c24-4774-b3f9-280a3c3c85ce",
   "metadata": {},
   "outputs": [],
   "source": []
  }
 ],
 "metadata": {
  "kernelspec": {
   "display_name": "Python 3 (ipykernel)",
   "language": "python",
   "name": "python3"
  },
  "language_info": {
   "codemirror_mode": {
    "name": "ipython",
    "version": 3
   },
   "file_extension": ".py",
   "mimetype": "text/x-python",
   "name": "python",
   "nbconvert_exporter": "python",
   "pygments_lexer": "ipython3",
   "version": "3.10.12"
  }
 },
 "nbformat": 4,
 "nbformat_minor": 5
}
