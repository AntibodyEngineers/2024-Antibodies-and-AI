{
 "cells": [
  {
   "cell_type": "markdown",
   "id": "a95dd8f0-30d4-44e7-bd86-c951366f30cc",
   "metadata": {},
   "source": [
    "# Install Librarires"
   ]
  },
  {
   "cell_type": "markdown",
   "id": "ee4ac2e8-099f-4886-936f-e9fb5f5d75f6",
   "metadata": {},
   "source": [
    "# General Steps \n",
    "To import and prepare your data for analysis with machine learning models, focusing on VH (variable heavy chain) and VL (variable light chain) sequences along with their corresponding labels, follow these structured steps:\n",
    "\n",
    "1. Import Libraries: Include necessary libraries for data manipulation (e.g., pandas), machine learning, and any specific libraries for handling VH and VL sequences, such as ablang and ablang2 for embedding generation.\n",
    "2. Load Your Data: Use pandas or a similar library to load your dataset from a CSV file or another data source. This dataset should include VH and VL sequences and their corresponding labels indicating antigen neutralization.\n",
    "3. Preprocess Data: Prepare the sequence data according to the input requirements of your pretrained models (ablang and ablang2). This might involve sequence cleaning, encoding, or formatting.\n",
    "4. Load Pretrained Models: Initialize ablang and ablang2 models with pretrained weights, ready to generate embeddings for your sequences.\n",
    "5. Generate Embeddings: Apply the pretrained models to your preprocessed VH and VL sequences to produce embeddings. These embeddings transform the sequence data into a numerical format suitable for machine learning analysis.\n",
    "6. Prepare Final Dataset: Combine the generated embeddings with the corresponding labels into a final dataset. This dataset will serve as the input for subsequent machine learning tasks, such as classification or clustering.\n",
    "7. Machine Learning Analysis: Use the prepared dataset to train machine learning models, evaluate their performance, and perform predictions or exploratory data analysis.\n",
    "\n",
    "## VH (Variable Heavy) and VL (Variable Light)\n",
    "Antibodies, also known as immunoglobulins, are Y-shaped molecules composed of two identical heavy chains and two identical light chains. Each chain consists of variable (V) and constant (C) regions. The variable regions of the heavy and light chains (VH and VL, respectively) are critical for the antibody's specificity because they contain the antigen-binding site. This site binds to specific parts of an antigen, called epitopes, allowing the antibody to recognize and bind to a vast array of pathogens.\n",
    "\n",
    "## VHH (Single Domain Antibodies)\n",
    "VHH refers to a special type of antibody fragment derived from heavy-chain-only antibodies (HcAbs) found in camelids (camels, llamas, and alpacas). Unlike conventional antibodies, HcAbs do not have light chains, so their antigen-binding site consists solely of the variable domain of the heavy chain (VHH). VHH antibodies, also known as nanobodies, are much smaller than regular antibodies, which allows them to reach and bind to hidden epitopes that are inaccessible to conventional antibodies. Their small size, high stability, solubility, and ease of production in microbial systems make VHH antibodies particularly attractive for research, diagnostic, and therapeutic applications.\n",
    "\n",
    "VHorVHH seems to contain both heavy and light weight variables. ablang2_model requires both VH and VL as input sequences to conduct embedding."
   ]
  },
  {
   "cell_type": "code",
   "execution_count": 2,
   "id": "15e490a7-d3a8-40ca-a593-226a81a2b713",
   "metadata": {},
   "outputs": [
    {
     "name": "stderr",
     "output_type": "stream",
     "text": [
      "2024-08-07 15:36:51.860603: I tensorflow/core/platform/cpu_feature_guard.cc:210] This TensorFlow binary is optimized to use available CPU instructions in performance-critical operations.\n",
      "To enable the following instructions: AVX2 FMA, in other operations, rebuild TensorFlow with the appropriate compiler flags.\n",
      "2024-08-07 15:36:52.744901: W tensorflow/compiler/tf2tensorrt/utils/py_utils.cc:38] TF-TRT Warning: Could not find TensorRT\n"
     ]
    }
   ],
   "source": [
    "# Core libraries\n",
    "import numpy as np\n",
    "import pandas as pd\n",
    "\n",
    "# Visualization libraries\n",
    "import matplotlib.pyplot as plt\n",
    "import seaborn as sns\n",
    "\n",
    "# Machine Learning / Data Processing libraries\n",
    "from sklearn.decomposition import PCA\n",
    "from sklearn.linear_model import LogisticRegression\n",
    "from sklearn.manifold import TSNE\n",
    "from sklearn.metrics import classification_report, confusion_matrix, accuracy_score, f1_score\n",
    "from sklearn.model_selection import GridSearchCV, KFold, StratifiedKFold, train_test_split\n",
    "from sklearn.preprocessing import StandardScaler\n",
    "from sklearn.utils import class_weight\n",
    "\n",
    "# Deep Learning libraries\n",
    "import tensorflow as tf\n",
    "from tensorflow.keras import regularizers\n",
    "import keras  \n",
    "\n",
    "# Specialized libraries (assuming these are either third-party or local)\n",
    "# import ablang  \n",
    "import ablang2  \n",
    "# import icn3dpy  "
   ]
  },
  {
   "cell_type": "code",
   "execution_count": 3,
   "id": "8bb91438-f176-4bf2-a8ba-72ed62f982a8",
   "metadata": {},
   "outputs": [
    {
     "data": {
      "text/html": [
       "<div>\n",
       "<style scoped>\n",
       "    .dataframe tbody tr th:only-of-type {\n",
       "        vertical-align: middle;\n",
       "    }\n",
       "\n",
       "    .dataframe tbody tr th {\n",
       "        vertical-align: top;\n",
       "    }\n",
       "\n",
       "    .dataframe thead th {\n",
       "        text-align: right;\n",
       "    }\n",
       "</style>\n",
       "<table border=\"1\" class=\"dataframe\">\n",
       "  <thead>\n",
       "    <tr style=\"text-align: right;\">\n",
       "      <th></th>\n",
       "      <th>Name</th>\n",
       "      <th>Ab or Nb</th>\n",
       "      <th>Binds to</th>\n",
       "      <th>Doesn't Bind to</th>\n",
       "      <th>Neutralising Vs</th>\n",
       "      <th>Not Neutralising Vs</th>\n",
       "      <th>Protein + Epitope</th>\n",
       "      <th>Origin</th>\n",
       "      <th>VHorVHH</th>\n",
       "      <th>VL</th>\n",
       "      <th>...</th>\n",
       "      <th>Light J Gene</th>\n",
       "      <th>CDRH3</th>\n",
       "      <th>CDRL3</th>\n",
       "      <th>Structures</th>\n",
       "      <th>ABB Homology Model (if no structure)</th>\n",
       "      <th>Sources</th>\n",
       "      <th>Date Added</th>\n",
       "      <th>Last Updated</th>\n",
       "      <th>Update Description</th>\n",
       "      <th>Notes/Following Up?</th>\n",
       "    </tr>\n",
       "  </thead>\n",
       "  <tbody>\n",
       "    <tr>\n",
       "      <th>0</th>\n",
       "      <td>Curtis_3548_S-2</td>\n",
       "      <td>Ab</td>\n",
       "      <td>SARS-CoV2_WT;SARS-CoV2_Beta</td>\n",
       "      <td>SARS-CoV2_Omicron-BA1;HKU1</td>\n",
       "      <td>SARS-CoV2_WT (weak)</td>\n",
       "      <td>NaN</td>\n",
       "      <td>S; RBD/non-RBD</td>\n",
       "      <td>B-cells; SARS-CoV2 Human Patient</td>\n",
       "      <td>ND</td>\n",
       "      <td>ND</td>\n",
       "      <td>...</td>\n",
       "      <td>ND</td>\n",
       "      <td>ARGSRNDLRDFDY</td>\n",
       "      <td>QSYNSSLSGLVV</td>\n",
       "      <td>ND</td>\n",
       "      <td>NaN</td>\n",
       "      <td>Nicholas Curtis et al., 2023 (https://www.bior...</td>\n",
       "      <td>Feb 8, 2024</td>\n",
       "      <td>Feb 8, 2024</td>\n",
       "      <td>NaN</td>\n",
       "      <td>Complete</td>\n",
       "    </tr>\n",
       "    <tr>\n",
       "      <th>1</th>\n",
       "      <td>Curtis_3548_S-7</td>\n",
       "      <td>Ab</td>\n",
       "      <td>SARS-CoV2_WT;SARS-CoV2_Beta</td>\n",
       "      <td>SARS-CoV2_Omicron-BA1;HKU1</td>\n",
       "      <td>NaN</td>\n",
       "      <td>SARS-CoV2_WT</td>\n",
       "      <td>S; non-RBD</td>\n",
       "      <td>B-cells; SARS-CoV2 Human Patient</td>\n",
       "      <td>ND</td>\n",
       "      <td>ND</td>\n",
       "      <td>...</td>\n",
       "      <td>ND</td>\n",
       "      <td>AREPYSSGMGGRDY</td>\n",
       "      <td>QQYGSSPYT</td>\n",
       "      <td>ND</td>\n",
       "      <td>NaN</td>\n",
       "      <td>Nicholas Curtis et al., 2023 (https://www.bior...</td>\n",
       "      <td>Feb 8, 2024</td>\n",
       "      <td>Feb 8, 2024</td>\n",
       "      <td>NaN</td>\n",
       "      <td>Complete</td>\n",
       "    </tr>\n",
       "    <tr>\n",
       "      <th>2</th>\n",
       "      <td>Curtis_3548_RBD-15</td>\n",
       "      <td>Ab</td>\n",
       "      <td>SARS-CoV2_WT</td>\n",
       "      <td>SARS-CoV2_Beta;SARS-CoV2_Omicron-BA1;HKU1</td>\n",
       "      <td>NaN</td>\n",
       "      <td>SARS-CoV2_WT</td>\n",
       "      <td>S; iso-RBD</td>\n",
       "      <td>B-cells; SARS-CoV2 Human Patient</td>\n",
       "      <td>ND</td>\n",
       "      <td>ND</td>\n",
       "      <td>...</td>\n",
       "      <td>ND</td>\n",
       "      <td>AKGIYSSSSYWFGP</td>\n",
       "      <td>QAWDSSTVV</td>\n",
       "      <td>ND</td>\n",
       "      <td>NaN</td>\n",
       "      <td>Nicholas Curtis et al., 2023 (https://www.bior...</td>\n",
       "      <td>Feb 8, 2024</td>\n",
       "      <td>Feb 8, 2024</td>\n",
       "      <td>NaN</td>\n",
       "      <td>Binds only non-prefusion stabilised RBD. Complete</td>\n",
       "    </tr>\n",
       "    <tr>\n",
       "      <th>3</th>\n",
       "      <td>8-D9</td>\n",
       "      <td>Ab</td>\n",
       "      <td>SARS-CoV2_WT;SARS-CoV2_Alpha;SARS-CoV2_Beta;SA...</td>\n",
       "      <td>NaN</td>\n",
       "      <td>SARS-CoV2_WT;SARS-CoV2_Alpha;SARS-CoV2_Beta;SA...</td>\n",
       "      <td>NaN</td>\n",
       "      <td>S; RBD</td>\n",
       "      <td>B-cells; SARS-CoV2 Human Vaccinee (BBIBP-CorV)</td>\n",
       "      <td>VQLVESGGGLVQPGGSLRLSCAASGLTVSSNYMNWVRQAPGKGLEW...</td>\n",
       "      <td>DIQMTQSPSFLSASVGDRVTITCRASQGISSYLAWYQQKPGKAPKL...</td>\n",
       "      <td>...</td>\n",
       "      <td>IGKJ3 (Human)</td>\n",
       "      <td>ARDHSGHALDI</td>\n",
       "      <td>QHLNSYPSMYT</td>\n",
       "      <td>https://www.rcsb.org/structure/8J1T;https://ww...</td>\n",
       "      <td>NaN</td>\n",
       "      <td>Wanbo Tai et al., 2023 (https://www.nature.com...</td>\n",
       "      <td>Feb 8, 2024</td>\n",
       "      <td>Feb 8, 2024</td>\n",
       "      <td>NaN</td>\n",
       "      <td>Complete</td>\n",
       "    </tr>\n",
       "    <tr>\n",
       "      <th>4</th>\n",
       "      <td>Sun_1G11</td>\n",
       "      <td>Ab</td>\n",
       "      <td>SARS-CoV2_WT;SARS-CoV2_Alpha;SARS-CoV2_Beta;SA...</td>\n",
       "      <td>NaN</td>\n",
       "      <td>SARS-CoV2_WT;SARS-CoV2_Alpha;SARS-CoV2_Beta;SA...</td>\n",
       "      <td>SARS-CoV2_Omicron-BQ1;SARS-CoV2_Omicron-BQ1.1;...</td>\n",
       "      <td>S; RBD</td>\n",
       "      <td>B-cells; SARS-CoV2 Human Patient</td>\n",
       "      <td>EVQLVESGGGLVQPGRSLRLSCAASGFKFDDYAMHWVRQAPGKGLE...</td>\n",
       "      <td>DIQLTQSPSFLSASVGDRVTITCRASQGIDKYLAWYQQKPGQAPKV...</td>\n",
       "      <td>...</td>\n",
       "      <td>IGKJ3 (Human)</td>\n",
       "      <td>VKDSNYDSSGYLINNFDY</td>\n",
       "      <td>QQLYTFPVT</td>\n",
       "      <td>https://www.rcsb.org/structure/8IX3</td>\n",
       "      <td>NaN</td>\n",
       "      <td>Hui Sun et al., 2023 (https://journals.asm.org...</td>\n",
       "      <td>Feb 8, 2024</td>\n",
       "      <td>Feb 8, 2024</td>\n",
       "      <td>NaN</td>\n",
       "      <td>Complete</td>\n",
       "    </tr>\n",
       "  </tbody>\n",
       "</table>\n",
       "<p>5 rows × 23 columns</p>\n",
       "</div>"
      ],
      "text/plain": [
       "                 Name Ab or Nb  \\\n",
       "0     Curtis_3548_S-2       Ab   \n",
       "1     Curtis_3548_S-7       Ab   \n",
       "2  Curtis_3548_RBD-15       Ab   \n",
       "3                8-D9       Ab   \n",
       "4            Sun_1G11       Ab   \n",
       "\n",
       "                                            Binds to  \\\n",
       "0                        SARS-CoV2_WT;SARS-CoV2_Beta   \n",
       "1                        SARS-CoV2_WT;SARS-CoV2_Beta   \n",
       "2                                       SARS-CoV2_WT   \n",
       "3  SARS-CoV2_WT;SARS-CoV2_Alpha;SARS-CoV2_Beta;SA...   \n",
       "4  SARS-CoV2_WT;SARS-CoV2_Alpha;SARS-CoV2_Beta;SA...   \n",
       "\n",
       "                             Doesn't Bind to  \\\n",
       "0                 SARS-CoV2_Omicron-BA1;HKU1   \n",
       "1                 SARS-CoV2_Omicron-BA1;HKU1   \n",
       "2  SARS-CoV2_Beta;SARS-CoV2_Omicron-BA1;HKU1   \n",
       "3                                        NaN   \n",
       "4                                        NaN   \n",
       "\n",
       "                                     Neutralising Vs  \\\n",
       "0                                SARS-CoV2_WT (weak)   \n",
       "1                                                NaN   \n",
       "2                                                NaN   \n",
       "3  SARS-CoV2_WT;SARS-CoV2_Alpha;SARS-CoV2_Beta;SA...   \n",
       "4  SARS-CoV2_WT;SARS-CoV2_Alpha;SARS-CoV2_Beta;SA...   \n",
       "\n",
       "                                 Not Neutralising Vs Protein + Epitope  \\\n",
       "0                                                NaN    S; RBD/non-RBD   \n",
       "1                                       SARS-CoV2_WT        S; non-RBD   \n",
       "2                                       SARS-CoV2_WT        S; iso-RBD   \n",
       "3                                                NaN            S; RBD   \n",
       "4  SARS-CoV2_Omicron-BQ1;SARS-CoV2_Omicron-BQ1.1;...            S; RBD   \n",
       "\n",
       "                                           Origin  \\\n",
       "0                B-cells; SARS-CoV2 Human Patient   \n",
       "1                B-cells; SARS-CoV2 Human Patient   \n",
       "2                B-cells; SARS-CoV2 Human Patient   \n",
       "3  B-cells; SARS-CoV2 Human Vaccinee (BBIBP-CorV)   \n",
       "4                B-cells; SARS-CoV2 Human Patient   \n",
       "\n",
       "                                             VHorVHH  \\\n",
       "0                                                 ND   \n",
       "1                                                 ND   \n",
       "2                                                 ND   \n",
       "3  VQLVESGGGLVQPGGSLRLSCAASGLTVSSNYMNWVRQAPGKGLEW...   \n",
       "4  EVQLVESGGGLVQPGRSLRLSCAASGFKFDDYAMHWVRQAPGKGLE...   \n",
       "\n",
       "                                                  VL  ...   Light J Gene  \\\n",
       "0                                                 ND  ...             ND   \n",
       "1                                                 ND  ...             ND   \n",
       "2                                                 ND  ...             ND   \n",
       "3  DIQMTQSPSFLSASVGDRVTITCRASQGISSYLAWYQQKPGKAPKL...  ...  IGKJ3 (Human)   \n",
       "4  DIQLTQSPSFLSASVGDRVTITCRASQGIDKYLAWYQQKPGQAPKV...  ...  IGKJ3 (Human)   \n",
       "\n",
       "                CDRH3         CDRL3  \\\n",
       "0       ARGSRNDLRDFDY  QSYNSSLSGLVV   \n",
       "1      AREPYSSGMGGRDY     QQYGSSPYT   \n",
       "2      AKGIYSSSSYWFGP     QAWDSSTVV   \n",
       "3         ARDHSGHALDI   QHLNSYPSMYT   \n",
       "4  VKDSNYDSSGYLINNFDY     QQLYTFPVT   \n",
       "\n",
       "                                          Structures  \\\n",
       "0                                                 ND   \n",
       "1                                                 ND   \n",
       "2                                                 ND   \n",
       "3  https://www.rcsb.org/structure/8J1T;https://ww...   \n",
       "4                https://www.rcsb.org/structure/8IX3   \n",
       "\n",
       "  ABB Homology Model (if no structure)  \\\n",
       "0                                  NaN   \n",
       "1                                  NaN   \n",
       "2                                  NaN   \n",
       "3                                  NaN   \n",
       "4                                  NaN   \n",
       "\n",
       "                                             Sources   Date Added  \\\n",
       "0  Nicholas Curtis et al., 2023 (https://www.bior...  Feb 8, 2024   \n",
       "1  Nicholas Curtis et al., 2023 (https://www.bior...  Feb 8, 2024   \n",
       "2  Nicholas Curtis et al., 2023 (https://www.bior...  Feb 8, 2024   \n",
       "3  Wanbo Tai et al., 2023 (https://www.nature.com...  Feb 8, 2024   \n",
       "4  Hui Sun et al., 2023 (https://journals.asm.org...  Feb 8, 2024   \n",
       "\n",
       "   Last Updated Update Description  \\\n",
       "0   Feb 8, 2024                NaN   \n",
       "1   Feb 8, 2024                NaN   \n",
       "2   Feb 8, 2024                NaN   \n",
       "3   Feb 8, 2024                NaN   \n",
       "4   Feb 8, 2024                NaN   \n",
       "\n",
       "                                 Notes/Following Up?  \n",
       "0                                           Complete  \n",
       "1                                           Complete  \n",
       "2  Binds only non-prefusion stabilised RBD. Complete  \n",
       "3                                           Complete  \n",
       "4                                           Complete  \n",
       "\n",
       "[5 rows x 23 columns]"
      ]
     },
     "execution_count": 3,
     "metadata": {},
     "output_type": "execute_result"
    }
   ],
   "source": [
    "df = pd.read_csv(\"data/CoV-AbDab_240208.csv\") # 12K rows\n",
    "df.head(5)"
   ]
  },
  {
   "cell_type": "code",
   "execution_count": 7,
   "id": "31ecc31d-c04f-4112-93e6-04f8c34ec371",
   "metadata": {},
   "outputs": [
    {
     "name": "stdout",
     "output_type": "stream",
     "text": [
      "Lines: 3000\n",
      "['VQLVESGGGLVQPGGSLRLSCAASGLTVSSNYMNWVRQAPGKGLEWVSVFYPGGSTFYADSVRGRFTISRDNSKNTLYLQMNSLRAEDTAVYYCARDHSGHALDIWGQGTMVTVS', 'EVQLVESGGGLVQPGRSLRLSCAASGFKFDDYAMHWVRQAPGKGLEWVSGTSWNSGTTGYADSVRGRFTISRDNAKKSLYLQMNSLGVEDTAFYYCVKDSNYDSSGYLINNFDYWGQGILVTVSS']\n",
      "['DIQMTQSPSFLSASVGDRVTITCRASQGISSYLAWYQQKPGKAPKLLIYAASTLQSGVPSRFSGSGSGTEFTLTISSLQPEDFATYYCQHLNSYPSMYTFGQGTKVDI', 'DIQLTQSPSFLSASVGDRVTITCRASQGIDKYLAWYQQKPGQAPKVLIYAASTLHSGVPSRFSGSGSGTDFTLTISSLQPEDFATYYCQQLYTFPVTFGPGTKVDVR']\n",
      "[1, 1]\n",
      "['', '']\n"
     ]
    }
   ],
   "source": [
    "# get the heavy chain sequence \"seqs\", the neutralising data (0 or 1) \"neutralising\", and PDB IDs \"pdbids\"\n",
    "seqsvh = []\n",
    "seqsvl = []\n",
    "neutralising = []\n",
    "pdbids = []\n",
    "\n",
    "frame_size = len(df.index)\n",
    "\n",
    "# There are some problems in some sequences,let's try the first 3000 records for now\n",
    "#MAXCNT = frame_size\n",
    "MAXCNT = len(df)\n",
    "MAXCNT = 3000\n",
    "cnt = 0\n",
    "for i in range(frame_size):\n",
    "    if (str(df.iloc[i]['Origin']).lower().find('human') != -1 and df.iloc[i]['CDRH3'] != 'ND' and df.iloc[i]['CDRL3'] != 'ND' \n",
    "       and not pd.isnull(df.iloc[i]['CDRL3']) and str(df.iloc[i]['CDRH3']).lower().find(' ') == -1 and str(df.iloc[i]['CDRL3']).lower().find(' ') == -1):\n",
    "        seqsvh.append(df.iloc[i]['CDRH3'])\n",
    "        seqsvl.append(df.iloc[i]['CDRL3'])\n",
    "        # somehow the empty string became \"nan\"\n",
    "        if(str(df.iloc[i]['Neutralising Vs']) != \"nan\"):\n",
    "            neutralising.append(1)\n",
    "        else:\n",
    "            neutralising.append(0)\n",
    "            \n",
    "        if(str(df.iloc[i]['Structures']).find('PDB entry') != -1):\n",
    "            pdbids.append(str(df.iloc[i]['Structures'])[10:14])\n",
    "        else:\n",
    "            pdbids.append('')\n",
    "            \n",
    "        cnt = cnt + 1\n",
    "\n",
    "print (\"Lines:\", len(seqsvh))\n",
    "print (seqsvh[0:2])\n",
    "print (seqsvl[0:2])\n",
    "print (neutralising[0:2])\n",
    "print (pdbids[0:2])"
   ]
  },
  {
   "cell_type": "markdown",
   "id": "c84e6687-70cd-4ec1-8064-14b666af8662",
   "metadata": {},
   "source": [
    "# Data exploration\n",
    "First we can compare the distibution of those data related to binidng and non binding and see if there is a different between them\n",
    "We can use simple box plot or even PC to check it."
   ]
  },
  {
   "cell_type": "code",
   "execution_count": 8,
   "id": "f195d6c2-5fc0-4096-b8f2-94d5414ee484",
   "metadata": {},
   "outputs": [
    {
     "data": {
      "text/html": [
       "<div>\n",
       "<style scoped>\n",
       "    .dataframe tbody tr th:only-of-type {\n",
       "        vertical-align: middle;\n",
       "    }\n",
       "\n",
       "    .dataframe tbody tr th {\n",
       "        vertical-align: top;\n",
       "    }\n",
       "\n",
       "    .dataframe thead th {\n",
       "        text-align: right;\n",
       "    }\n",
       "</style>\n",
       "<table border=\"1\" class=\"dataframe\">\n",
       "  <thead>\n",
       "    <tr style=\"text-align: right;\">\n",
       "      <th></th>\n",
       "      <th>seqsvh</th>\n",
       "      <th>seqsvl</th>\n",
       "      <th>neutralising</th>\n",
       "    </tr>\n",
       "  </thead>\n",
       "  <tbody>\n",
       "    <tr>\n",
       "      <th>0</th>\n",
       "      <td>VQLVESGGGLVQPGGSLRLSCAASGLTVSSNYMNWVRQAPGKGLEW...</td>\n",
       "      <td>DIQMTQSPSFLSASVGDRVTITCRASQGISSYLAWYQQKPGKAPKL...</td>\n",
       "      <td>1</td>\n",
       "    </tr>\n",
       "    <tr>\n",
       "      <th>1</th>\n",
       "      <td>EVQLVESGGGLVQPGRSLRLSCAASGFKFDDYAMHWVRQAPGKGLE...</td>\n",
       "      <td>DIQLTQSPSFLSASVGDRVTITCRASQGIDKYLAWYQQKPGQAPKV...</td>\n",
       "      <td>1</td>\n",
       "    </tr>\n",
       "    <tr>\n",
       "      <th>2</th>\n",
       "      <td>QVQIQQWGAGLLKPSETLSLTCAVYDESFSDYFWTWIRQSPGMGLE...</td>\n",
       "      <td>DIQMTQSPSSLSASVGDRVTVTCQASQGITNYVNWYQQKPGKAPKL...</td>\n",
       "      <td>1</td>\n",
       "    </tr>\n",
       "    <tr>\n",
       "      <th>3</th>\n",
       "      <td>QVQLQESGPGLVKPSETLSLTCTVSGGFIGPHYWSWVRQPPGKGLE...</td>\n",
       "      <td>DIVMTQSPLSLPVTPGEPASISCRSSQSLLQNNGYNYLAWYLQKPG...</td>\n",
       "      <td>1</td>\n",
       "    </tr>\n",
       "    <tr>\n",
       "      <th>4</th>\n",
       "      <td>EVQLVQSGAEVKKPGASVKVSCKASGYTFTGYYFHWVRQAPGQGLE...</td>\n",
       "      <td>SYVLTQPASVSGSPGQSITISCTGTSSDVGVYNYVSWYQQHPGKAP...</td>\n",
       "      <td>1</td>\n",
       "    </tr>\n",
       "  </tbody>\n",
       "</table>\n",
       "</div>"
      ],
      "text/plain": [
       "                                              seqsvh  \\\n",
       "0  VQLVESGGGLVQPGGSLRLSCAASGLTVSSNYMNWVRQAPGKGLEW...   \n",
       "1  EVQLVESGGGLVQPGRSLRLSCAASGFKFDDYAMHWVRQAPGKGLE...   \n",
       "2  QVQIQQWGAGLLKPSETLSLTCAVYDESFSDYFWTWIRQSPGMGLE...   \n",
       "3  QVQLQESGPGLVKPSETLSLTCTVSGGFIGPHYWSWVRQPPGKGLE...   \n",
       "4  EVQLVQSGAEVKKPGASVKVSCKASGYTFTGYYFHWVRQAPGQGLE...   \n",
       "\n",
       "                                              seqsvl  neutralising  \n",
       "0  DIQMTQSPSFLSASVGDRVTITCRASQGISSYLAWYQQKPGKAPKL...             1  \n",
       "1  DIQLTQSPSFLSASVGDRVTITCRASQGIDKYLAWYQQKPGQAPKV...             1  \n",
       "2  DIQMTQSPSSLSASVGDRVTVTCQASQGITNYVNWYQQKPGKAPKL...             1  \n",
       "3  DIVMTQSPLSLPVTPGEPASISCRSSQSLLQNNGYNYLAWYLQKPG...             1  \n",
       "4  SYVLTQPASVSGSPGQSITISCTGTSSDVGVYNYVSWYQQHPGKAP...             1  "
      ]
     },
     "execution_count": 8,
     "metadata": {},
     "output_type": "execute_result"
    }
   ],
   "source": [
    "df = pd.DataFrame({'seqsvh': seqsvh, 'seqsvl':seqsvl, 'neutralising': neutralising})\n",
    "df.head()"
   ]
  },
  {
   "cell_type": "code",
   "execution_count": 9,
   "id": "1cf6bd16-4cde-48ca-9e3e-30be854283cf",
   "metadata": {},
   "outputs": [
    {
     "name": "stdout",
     "output_type": "stream",
     "text": [
      "count    3000.000000\n",
      "mean        0.728000\n",
      "std         0.445064\n",
      "min         0.000000\n",
      "25%         0.000000\n",
      "50%         1.000000\n",
      "75%         1.000000\n",
      "max         1.000000\n",
      "Name: neutralising, dtype: float64\n",
      "neutralising\n",
      "1    2184\n",
      "0     816\n",
      "Name: count, dtype: int64\n"
     ]
    },
    {
     "data": {
      "text/plain": [
       "<Axes: >"
      ]
     },
     "execution_count": 9,
     "metadata": {},
     "output_type": "execute_result"
    },
    {
     "data": {
      "image/png": "[encoded data removed]",
      "text/plain": [
       "<Figure size 640x480 with 1 Axes>"
      ]
     },
     "metadata": {},
     "output_type": "display_data"
    }
   ],
   "source": [
    "# Summary statistics for the neutralising column\n",
    "print(df['neutralising'].describe())\n",
    "\n",
    "# Count the distribution of the 'neutralising' labels\n",
    "print(df['neutralising'].value_counts())\n",
    "df['neutralising'].hist()"
   ]
  },
  {
   "cell_type": "code",
   "execution_count": 10,
   "id": "680de0be-b441-42d7-9533-a91a96ac851b",
   "metadata": {},
   "outputs": [
    {
     "data": {
      "text/plain": [
       "array([[<Axes: title={'center': 'seqsvh_length'}>,\n",
       "        <Axes: title={'center': 'seqsvl_length'}>]], dtype=object)"
      ]
     },
     "execution_count": 10,
     "metadata": {},
     "output_type": "execute_result"
    },
    {
     "data": {
      "image/png": "[encoded data removed]",
      "text/plain": [
       "<Figure size 640x480 with 2 Axes>"
      ]
     },
     "metadata": {},
     "output_type": "display_data"
    }
   ],
   "source": [
    "# Calculate and plot the distribution of sequence lengths for VH and VL\n",
    "df['seqsvh_length'] = df['seqsvh'].apply(len)\n",
    "df['seqsvl_length'] = df['seqsvl'].apply(len)\n",
    "\n",
    "# Plotting\n",
    "df[['seqsvh_length', 'seqsvl_length']].hist(bins=30, alpha=0.5)"
   ]
  },
  {
   "cell_type": "code",
   "execution_count": 11,
   "id": "f17ba992-cea8-4906-be30-0fca52a28928",
   "metadata": {},
   "outputs": [
    {
     "name": "stdout",
     "output_type": "stream",
     "text": [
      "S    0.122760\n",
      "G    0.111188\n",
      "V    0.081359\n",
      "L    0.074811\n",
      "A    0.059771\n",
      "R    0.043235\n",
      "T    0.077975\n",
      "Y    0.064518\n",
      "Q    0.049741\n",
      "N    0.031506\n",
      "D    0.039664\n",
      "P    0.031614\n",
      "E    0.033120\n",
      "M    0.019961\n",
      "W    0.036385\n",
      "F    0.026441\n",
      "C    0.018235\n",
      "K    0.034593\n",
      "I    0.031447\n",
      "H    0.011677\n",
      "dtype: float64\n"
     ]
    }
   ],
   "source": [
    "# Example: Frequency of amino acids in 'seqsvh'\n",
    "# This is a more complex analysis, depending on your needs. Here's a simplified approach:\n",
    "def amino_acid_frequency(sequence):\n",
    "    return pd.Series(list(sequence)).value_counts(normalize=True)\n",
    "\n",
    "# Apply the function to a small sample for demonstration\n",
    "sample_freqs_vh = df['seqsvh'].head().apply(amino_acid_frequency)\n",
    "print(sample_freqs_vh.mean())  # Averaging frequencies across the sample"
   ]
  },
  {
   "cell_type": "code",
   "execution_count": 12,
   "id": "7d5ca60e-5762-4514-baec-f001d863e9ce",
   "metadata": {},
   "outputs": [
    {
     "name": "stdout",
     "output_type": "stream",
     "text": [
      "               seqsvh_length  seqsvl_length  neutralising\n",
      "seqsvh_length       1.000000       0.362865      0.034221\n",
      "seqsvl_length       0.362865       1.000000      0.034285\n",
      "neutralising        0.034221       0.034285      1.000000\n"
     ]
    }
   ],
   "source": [
    "# Simple correlation between sequence length and neutralising status\n",
    "print(df[['seqsvh_length', 'seqsvl_length', 'neutralising']].corr())"
   ]
  },
  {
   "cell_type": "code",
   "execution_count": 13,
   "id": "759f5105-86b1-43dd-acf7-045b715b887c",
   "metadata": {},
   "outputs": [
    {
     "data": {
      "text/plain": [
       "Text(0.5, 1.0, 'Sequence Length Distribution')"
      ]
     },
     "execution_count": 13,
     "metadata": {},
     "output_type": "execute_result"
    },
    {
     "data": {
      "image/png": "[encoded data removed]",
      "text/plain": [
       "<Figure size 640x480 with 1 Axes>"
      ]
     },
     "metadata": {},
     "output_type": "display_data"
    }
   ],
   "source": [
    "# Class balance\n",
    "sns.countplot(x='neutralising', data=df)\n",
    "plt.title('Class Distribution')\n",
    "\n",
    "# Sequence length distribution\n",
    "sns.histplot(data=df, x='seqsvh_length', color='blue', kde=True, label='VH Length', alpha=0.6)\n",
    "sns.histplot(data=df, x='seqsvl_length', color='red', kde=True, label='VL Length', alpha=0.6)\n",
    "plt.legend()\n",
    "plt.title('Sequence Length Distribution')"
   ]
  },
  {
   "cell_type": "markdown",
   "id": "30688b8f-460a-4825-b570-957309c2fdc9",
   "metadata": {},
   "source": [
    "# Embedding \n",
    "Loading a pretrained model to perform embedding on antibody sequences involves converting the string representation of these sequences (which consists of amino acid characters) into a numerical format that machine learning models can process. \n",
    "\n",
    "- How Embedding Works\n",
    "Pretrained Models: A pretrained model, such as ablang or ablang2 mentioned earlier, is typically a deep learning model that has been previously trained on a large dataset of antibody sequences. During its training, the model learns to capture the complex patterns and relationships between the amino acids in these sequences, effectively understanding the biological significance behind different sequence motifs and structures.\n",
    "\n",
    "- Sequence to Numerical Representation: When you pass an antibody sequence to such a pretrained model, the model processes the sequence and converts it into a high-dimensional vector (or array) of numbers. This vector is called an \"embedding\". The embedding process captures the essential features of the sequence, such as the presence of certain motifs or the overall sequence structure, in a form that is useful for further computational analysis."
   ]
  },
  {
   "cell_type": "markdown",
   "id": "bb3e53ee-d83f-448f-9116-e46f3b4afbda",
   "metadata": {},
   "source": [
    "## Ablang "
   ]
  },
  {
   "cell_type": "code",
   "execution_count": 14,
   "id": "70432404-5091-4271-9f57-40e82239a147",
   "metadata": {},
   "outputs": [],
   "source": [
    "# heavy chain sequence\n",
    "# heavy_ablang = ablang.pretrained(\"heavy\")\n",
    "# heavy_ablang.freeze()"
   ]
  },
  {
   "cell_type": "code",
   "execution_count": 15,
   "id": "740a98ea-c6da-49e3-9883-7bc31a97a88b",
   "metadata": {},
   "outputs": [],
   "source": [
    "# use the \"Seq-coding\" example to get an array for each sequence\n",
    "# seqcodings = heavy_ablang(seqs, mode='seqcoding')"
   ]
  },
  {
   "cell_type": "markdown",
   "id": "6734a7e0-81d2-43e1-b408-db186d32f763",
   "metadata": {},
   "source": [
    "## Ablang2"
   ]
  },
  {
   "cell_type": "markdown",
   "id": "082c4c96-dbfe-404e-ba0f-b6b47a702b94",
   "metadata": {},
   "source": [
    "Note: VHorVHH seems contain both heavy and light weight variable. ablang2_model reuires both VH and VL as input sequence to conduct embedding."
   ]
  },
  {
   "cell_type": "code",
   "execution_count": 17,
   "id": "0ffa2992-3f67-4ad2-92a6-6130804c0b5b",
   "metadata": {},
   "outputs": [
    {
     "name": "stderr",
     "output_type": "stream",
     "text": [
      "/opt/jupyterhub/lib/python3.10/site-packages/ablang2/load_model.py:112: FutureWarning: You are using `torch.load` with `weights_only=False` (the current default value), which uses the default pickle module implicitly. It is possible to construct malicious pickle data which will execute arbitrary code during unpickling (See https://github.com/pytorch/pytorch/blob/main/SECURITY.md#untrusted-models for more details). In a future release, the default value for `weights_only` will be flipped to `True`. This limits the functions that could be executed during unpickling. Arbitrary objects will no longer be allowed to be loaded via this mode unless they are explicitly allowlisted by the user via `torch.serialization.add_safe_globals`. We recommend you start setting `weights_only=True` for any use case where you don't have full control of the loaded file. Please open an issue on GitHub for any issues related to this experimental feature.\n",
      "  torch.load(\n"
     ]
    }
   ],
   "source": [
    "# load Ablang2 model to create embedding the sequence\n",
    "ablang2_model = ablang2.pretrained()"
   ]
  },
  {
   "cell_type": "code",
   "execution_count": 18,
   "id": "99a293bf-43b9-4d34-8551-9ecf4d4fa3ab",
   "metadata": {},
   "outputs": [],
   "source": [
    "# Ablang2 data format [VH sequence, VL sequence]\n",
    "# Test the model embedding\n",
    "seq1 = [\n",
    "    'EVQLLESGGEVKKPGASVKVSCRASGYTFRNYGLTWVRQAPGQGLEWMGWISAYNGNTNYAQKFQGRVTLTTDTSTSTAYMELRSLRSDDTAVYFCARDVPGHGAAFMDVWGTGTTVTVSS', # VH sequence\n",
    "    'DIQLTQSPLSLPVTLGQPASISCRSSQSLEASDTNIYLSWFQQRPGQSPRRLIYKISNRDSGVPDRFSGSGSGTHFTLRISRVEADDVAVYYCMQGTHWPPAFGQGTKVDIK' # VL sequence\n",
    "]\n",
    "seq2 = [\n",
    "    'EVQLLESGGEVKKPGASVKVSCRASGYTFRNYGLTWVRQAPGQGLEWMGWISAYNGNTNYAQKFQGRVTLTTDTSTSTAYMELRSLRSDDTAVYFCARDVPGHGAAFMDVWGTGTT',\n",
    "    'PVTLGQPASISCRSSQSLEASDTNIYLSWFQQRPGQSPRRLIYKISNRDSGVPDRFSGSGSGTHFTLRISRVEADDVAVYYCMQGTHWPPAFGQGTKVDIK'\n",
    "]\n",
    "seq3 = [\n",
    "    'EVQLLESGGEVKKPGASVKVSCRASGYTFRNYGLTWVRQAPGQGLEWMGWISAYNGNTNYAQKFQGRVTLTTDTSTSTAYMELRSLRSDDTAVYFCARDVPGHGAAFMDVWGTGTTVTVSS',\n",
    "    '' # The VL sequence is not known, so an empty string is left instead. \n",
    "]\n",
    "seq4 = [\n",
    "    '',\n",
    "    'DIQLTQSPLSLPVTLGQPASISCRSSQSLEASDTNIYLSWFQQRPGQSPRRLIYKISNRDSGVPDRFSGSGSGTHFTLRISRVEADDVAVYYCMQGTHWPPAFGQGTKVDIK'\n",
    "]\n",
    "seq5 = [\n",
    "    'EVQ***SGGEVKKPGASVKVSCRASGYTFRNYGLTWVRQAPGQGLEWMGWISAYNGNTNYAQKFQGRVTLTTDTSTSTAYMELRSLRSDDTAVYFCAR**PGHGAAFMDVWGTGTTVTVSS', # (*) is used to mask certain residues\n",
    "    'DIQLTQSPLSLPVTLGQPASISCRSS*SLEASDTNIYLSWFQQRPGQSPRRLIYKI*NRDSGVPDRFSGSGSGTHFTLRISRVEADDVAVYYCMQGTHWPPAFGQGTKVDIK'\n",
    "]\n",
    "\n",
    "all_seqs = [seq1, seq2, seq3, seq4, seq5]\n",
    "only_both_chains_seqs = [seq1, seq2, seq5]\n",
    "encoded = ablang2_model(all_seqs, mode='seqcoding')"
   ]
  },
  {
   "cell_type": "code",
   "execution_count": 19,
   "id": "df4ff8c4-f5e6-4d51-97a9-ac889a619b25",
   "metadata": {},
   "outputs": [
    {
     "data": {
      "text/html": [
       "<div>\n",
       "<style scoped>\n",
       "    .dataframe tbody tr th:only-of-type {\n",
       "        vertical-align: middle;\n",
       "    }\n",
       "\n",
       "    .dataframe tbody tr th {\n",
       "        vertical-align: top;\n",
       "    }\n",
       "\n",
       "    .dataframe thead th {\n",
       "        text-align: right;\n",
       "    }\n",
       "</style>\n",
       "<table border=\"1\" class=\"dataframe\">\n",
       "  <thead>\n",
       "    <tr style=\"text-align: right;\">\n",
       "      <th></th>\n",
       "      <th>seqsvh</th>\n",
       "      <th>seqsvl</th>\n",
       "      <th>neutralising</th>\n",
       "      <th>seqsvh_length</th>\n",
       "      <th>seqsvl_length</th>\n",
       "      <th>seq</th>\n",
       "    </tr>\n",
       "  </thead>\n",
       "  <tbody>\n",
       "    <tr>\n",
       "      <th>0</th>\n",
       "      <td>VQLVESGGGLVQPGGSLRLSCAASGLTVSSNYMNWVRQAPGKGLEW...</td>\n",
       "      <td>DIQMTQSPSFLSASVGDRVTITCRASQGISSYLAWYQQKPGKAPKL...</td>\n",
       "      <td>1</td>\n",
       "      <td>115</td>\n",
       "      <td>108</td>\n",
       "      <td>[VQLVESGGGLVQPGGSLRLSCAASGLTVSSNYMNWVRQAPGKGLE...</td>\n",
       "    </tr>\n",
       "    <tr>\n",
       "      <th>1</th>\n",
       "      <td>EVQLVESGGGLVQPGRSLRLSCAASGFKFDDYAMHWVRQAPGKGLE...</td>\n",
       "      <td>DIQLTQSPSFLSASVGDRVTITCRASQGIDKYLAWYQQKPGQAPKV...</td>\n",
       "      <td>1</td>\n",
       "      <td>125</td>\n",
       "      <td>107</td>\n",
       "      <td>[EVQLVESGGGLVQPGRSLRLSCAASGFKFDDYAMHWVRQAPGKGL...</td>\n",
       "    </tr>\n",
       "    <tr>\n",
       "      <th>2</th>\n",
       "      <td>QVQIQQWGAGLLKPSETLSLTCAVYDESFSDYFWTWIRQSPGMGLE...</td>\n",
       "      <td>DIQMTQSPSSLSASVGDRVTVTCQASQGITNYVNWYQQKPGKAPKL...</td>\n",
       "      <td>1</td>\n",
       "      <td>121</td>\n",
       "      <td>107</td>\n",
       "      <td>[QVQIQQWGAGLLKPSETLSLTCAVYDESFSDYFWTWIRQSPGMGL...</td>\n",
       "    </tr>\n",
       "    <tr>\n",
       "      <th>3</th>\n",
       "      <td>QVQLQESGPGLVKPSETLSLTCTVSGGFIGPHYWSWVRQPPGKGLE...</td>\n",
       "      <td>DIVMTQSPLSLPVTPGEPASISCRSSQSLLQNNGYNYLAWYLQKPG...</td>\n",
       "      <td>1</td>\n",
       "      <td>120</td>\n",
       "      <td>112</td>\n",
       "      <td>[QVQLQESGPGLVKPSETLSLTCTVSGGFIGPHYWSWVRQPPGKGL...</td>\n",
       "    </tr>\n",
       "    <tr>\n",
       "      <th>4</th>\n",
       "      <td>EVQLVQSGAEVKKPGASVKVSCKASGYTFTGYYFHWVRQAPGQGLE...</td>\n",
       "      <td>SYVLTQPASVSGSPGQSITISCTGTSSDVGVYNYVSWYQQHPGKAP...</td>\n",
       "      <td>1</td>\n",
       "      <td>122</td>\n",
       "      <td>109</td>\n",
       "      <td>[EVQLVQSGAEVKKPGASVKVSCKASGYTFTGYYFHWVRQAPGQGL...</td>\n",
       "    </tr>\n",
       "  </tbody>\n",
       "</table>\n",
       "</div>"
      ],
      "text/plain": [
       "                                              seqsvh  \\\n",
       "0  VQLVESGGGLVQPGGSLRLSCAASGLTVSSNYMNWVRQAPGKGLEW...   \n",
       "1  EVQLVESGGGLVQPGRSLRLSCAASGFKFDDYAMHWVRQAPGKGLE...   \n",
       "2  QVQIQQWGAGLLKPSETLSLTCAVYDESFSDYFWTWIRQSPGMGLE...   \n",
       "3  QVQLQESGPGLVKPSETLSLTCTVSGGFIGPHYWSWVRQPPGKGLE...   \n",
       "4  EVQLVQSGAEVKKPGASVKVSCKASGYTFTGYYFHWVRQAPGQGLE...   \n",
       "\n",
       "                                              seqsvl  neutralising  \\\n",
       "0  DIQMTQSPSFLSASVGDRVTITCRASQGISSYLAWYQQKPGKAPKL...             1   \n",
       "1  DIQLTQSPSFLSASVGDRVTITCRASQGIDKYLAWYQQKPGQAPKV...             1   \n",
       "2  DIQMTQSPSSLSASVGDRVTVTCQASQGITNYVNWYQQKPGKAPKL...             1   \n",
       "3  DIVMTQSPLSLPVTPGEPASISCRSSQSLLQNNGYNYLAWYLQKPG...             1   \n",
       "4  SYVLTQPASVSGSPGQSITISCTGTSSDVGVYNYVSWYQQHPGKAP...             1   \n",
       "\n",
       "   seqsvh_length  seqsvl_length  \\\n",
       "0            115            108   \n",
       "1            125            107   \n",
       "2            121            107   \n",
       "3            120            112   \n",
       "4            122            109   \n",
       "\n",
       "                                                 seq  \n",
       "0  [VQLVESGGGLVQPGGSLRLSCAASGLTVSSNYMNWVRQAPGKGLE...  \n",
       "1  [EVQLVESGGGLVQPGRSLRLSCAASGFKFDDYAMHWVRQAPGKGL...  \n",
       "2  [QVQIQQWGAGLLKPSETLSLTCAVYDESFSDYFWTWIRQSPGMGL...  \n",
       "3  [QVQLQESGPGLVKPSETLSLTCTVSGGFIGPHYWSWVRQPPGKGL...  \n",
       "4  [EVQLVQSGAEVKKPGASVKVSCKASGYTFTGYYFHWVRQAPGQGL...  "
      ]
     },
     "execution_count": 19,
     "metadata": {},
     "output_type": "execute_result"
    }
   ],
   "source": [
    "df['seq'] = df.apply(lambda row: [row['seqsvh'], row['seqsvl']], axis=1)\n",
    "df.head()"
   ]
  },
  {
   "cell_type": "code",
   "execution_count": 20,
   "id": "3a3c9eec-abea-4edd-b44c-512da780b59f",
   "metadata": {},
   "outputs": [],
   "source": [
    "seqs = list(df['seq'])\n",
    "seqsvh_list = [[item, ''] for item in seqsvh]\n",
    "seqsvl_list = [['', item] for item in seqsvl]"
   ]
  },
  {
   "cell_type": "code",
   "execution_count": 21,
   "id": "62dc0711-9ab9-4569-8853-8fc89a097b26",
   "metadata": {},
   "outputs": [
    {
     "data": {
      "text/plain": [
       "[]"
      ]
     },
     "execution_count": 21,
     "metadata": {},
     "output_type": "execute_result"
    }
   ],
   "source": [
    "non_string_values = [item for item in seqsvl if not isinstance(item, str)]\n",
    "non_string_values"
   ]
  },
  {
   "cell_type": "code",
   "execution_count": null,
   "id": "78353972-9b56-4996-83bd-8c251803aed9",
   "metadata": {},
   "outputs": [],
   "source": [
    "# prepare the sequence in a format that can be read by ablang2 model\n",
    "seqcodings = ablang2_model(seqs, mode='seqcoding')\n",
    "print(\"The output shape of the seq-codings:\", seqcodings.shape)\n",
    "print(seqcodings)"
   ]
  },
  {
   "cell_type": "code",
   "execution_count": null,
   "id": "0073532e-cc06-4d53-b3e4-c8b63bd17e50",
   "metadata": {},
   "outputs": [],
   "source": [
    "# Perform PCA with the desired number of components (let's say 2 components for visualization)\n",
    "num_components = 2\n",
    "pca = PCA(n_components=num_components)\n",
    "pca_result = pca.fit_transform(seqcodings)\n",
    "\n",
    "# Create a DataFrame to store the PCA results\n",
    "pca_df = pd.DataFrame(data=pca_result, columns=[f'PC{i + 1}' for i in range(num_components)])\n",
    "\n",
    "# # Add the neutralising columns back to the PCA DataFrame\n",
    "pca_df['neutralising'] = neutralising\n",
    "\n",
    "# # Plot the PCA results\n",
    "plt.figure(figsize=(10, 8))\n",
    "plt.scatter(pca_df['PC1'][pca_df['neutralising'] == 0], pca_df['PC2'][pca_df['neutralising'] == 0], color='r', label='Not Neutralising')\n",
    "plt.scatter(pca_df['PC1'][pca_df['neutralising'] == 1], pca_df['PC2'][pca_df['neutralising'] == 1], color='g', label='Neutralising')\n",
    "plt.title('Scatter plot of PC1 vs PC2')\n",
    "plt.xlabel('PC1')\n",
    "plt.ylabel('PC2')\n",
    "plt.legend()\n",
    "plt.show()"
   ]
  },
  {
   "cell_type": "code",
   "execution_count": null,
   "id": "32000b25-f649-434f-ba42-0833d6205fc1",
   "metadata": {},
   "outputs": [],
   "source": [
    "pca_df.head()"
   ]
  },
  {
   "cell_type": "code",
   "execution_count": null,
   "id": "00fb3356-9155-43f3-bc3d-c80e2f53dd02",
   "metadata": {},
   "outputs": [],
   "source": [
    "# Perform t-SNE\n",
    "tsne = TSNE(n_components=2, random_state=42)\n",
    "tsne_results = tsne.fit_transform(seqcodings)\n",
    "\n",
    "# Plotting\n",
    "plt.figure(figsize=(8, 5))\n",
    "plt.scatter(tsne_results[:, 0], tsne_results[:, 1], c=df['neutralising'], cmap='viridis')\n",
    "plt.colorbar(label='Neutralising')\n",
    "plt.xlabel('t-SNE 1')\n",
    "plt.ylabel('t-SNE 2')\n",
    "plt.title('t-SNE Visualization')\n",
    "plt.show()"
   ]
  },
  {
   "cell_type": "markdown",
   "id": "cd218e7c-6f14-4fea-82fb-f28a3c73c9b2",
   "metadata": {},
   "source": [
    "# Modeling Strategy \n",
    "For binary classification tasks, initiating the modeling process with a simple logistic regression model before progressing to more complex architectures like neural networks (NN) or fully connected (FC) models is a practical approach.\n",
    "\n",
    "Here’s an expanded view on developing a robust machine learning model, incorporating both simple and complex methodologies:\n",
    "\n",
    "- Initial Simple Model: Starting with logistic regression is beneficial due to its simplicity, interpretability, and efficiency in training. This step allows for a preliminary assessment of the dataset's characteristics and the feasibility of achieving meaningful classification.\n",
    "- Progression to Complex Models: After evaluating the performance of the logistic regression model, transitioning to a neural network or a fully connected model can offer deeper insights and potentially improved accuracy. These complex models are capable of capturing nonlinear relationships and interactions within the data.\n",
    "\n",
    "When developing these models, consider several important factors:\n",
    "\n",
    "Data Imbalance: Acknowledge the presence of data imbalance and its potential effects on model performance.\n",
    "Balancing the Dataset: Employ appropriate techniques to balance the dataset, such as resampling methods, to ensure equitable representation of classes.\n",
    "Balancing the Dataset: Employ appropriate techniques to balance the dataset, such as resampling methods, to ensure equitable representation of classes.\n",
    "Data Division: Strategically divide the data into training, validation, and testing sets. Utilize the training and validation sets for fine-tuning the hyperparameters of the models.\n"
   ]
  },
  {
   "cell_type": "code",
   "execution_count": 22,
   "id": "d37167b9-bee6-418b-b351-d75077949db0",
   "metadata": {},
   "outputs": [],
   "source": [
    "# Set the random seeds for numpy and tensorflow to ensure reproducible results\n",
    "np.random.seed(42)\n",
    "tf.random.set_seed(42)"
   ]
  },
  {
   "cell_type": "code",
   "execution_count": 23,
   "id": "ea3d2ed7-117b-4dce-a7db-23871e950326",
   "metadata": {},
   "outputs": [],
   "source": [
    "# This split ensures balanced classes in the train and test sets\n",
    "X_train, X_test, y_train, y_test = train_test_split(\n",
    "    seqcodings, neutralising, test_size=0.1, random_state=0, stratify=neutralising\n",
    ")"
   ]
  },
  {
   "cell_type": "code",
   "execution_count": 24,
   "id": "427121e6-41bd-4c0b-b74d-958db4b15ac7",
   "metadata": {},
   "outputs": [],
   "source": [
    "sc = StandardScaler()\n",
    "X_train = sc.fit_transform(X_train)\n",
    "X_test = sc.transform(X_test)\n",
    "X_train = np.array(X_train)\n",
    "X_test = np.array(X_test)\n",
    "y_train = np.array(y_train)\n",
    "y_test = np.array(y_test)"
   ]
  },
  {
   "cell_type": "markdown",
   "id": "c10b4c90-abfc-4888-8518-8445848b3fff",
   "metadata": {},
   "source": [
    "### logistic Regression model "
   ]
  },
  {
   "cell_type": "code",
   "execution_count": 25,
   "id": "15d7c367-ac7d-4a1a-9dc2-b0bc04ca32cb",
   "metadata": {},
   "outputs": [],
   "source": [
    "# Initialize an empty DataFrame to store simplified metrics\n",
    "metrics_df = pd.DataFrame(columns=['Model','Accuracy', 'f1_Score'])"
   ]
  },
  {
   "cell_type": "code",
   "execution_count": 26,
   "id": "3b38a05c-2dd3-462d-b677-b837b60ff75e",
   "metadata": {},
   "outputs": [
    {
     "name": "stdout",
     "output_type": "stream",
     "text": [
      "Accuracy: 0.7866666666666666\n",
      "f1_score: 0.5294117647058824\n",
      "              precision    recall  f1-score   support\n",
      "\n",
      "           0       0.85      0.87      0.86       229\n",
      "           1       0.55      0.51      0.53        71\n",
      "\n",
      "    accuracy                           0.79       300\n",
      "   macro avg       0.70      0.69      0.70       300\n",
      "weighted avg       0.78      0.79      0.78       300\n",
      "\n"
     ]
    },
    {
     "name": "stderr",
     "output_type": "stream",
     "text": [
      "/tmp/ipykernel_41697/247066646.py:13: FutureWarning: The behavior of DataFrame concatenation with empty or all-NA entries is deprecated. In a future version, this will no longer exclude empty or all-NA columns when determining the result dtypes. To retain the old behavior, exclude the relevant entries before the concat operation.\n",
      "  metrics_df = pd.concat([metrics_df, new_row_df], ignore_index=True)\n"
     ]
    }
   ],
   "source": [
    "# Create and train the Logistic Regression model\n",
    "model = LogisticRegression(max_iter=1000, C=1.0)\n",
    "model.fit(X_train, y_train)\n",
    "\n",
    "# Predict the labels for the test set\n",
    "y_pred = model.predict(X_test)\n",
    "\n",
    "# # Evaluate the model\n",
    "accuracy = accuracy_score(y_test, y_pred)\n",
    "f1 = f1_score(y_test, y_pred, average='binary')  # Ensure average='binary' for binary classification\n",
    "new_row = {'Model': 'LogisticRegression', 'Accuracy': accuracy, 'f1_Score': f1}\n",
    "new_row_df = pd.DataFrame([new_row])\n",
    "metrics_df = pd.concat([metrics_df, new_row_df], ignore_index=True)\n",
    "print(f'Accuracy: {accuracy}')\n",
    "print(f'f1_score: {f1}')\n",
    "print(classification_report(y_test, y_pred))"
   ]
  },
  {
   "cell_type": "code",
   "execution_count": 27,
   "id": "3b97626f-866b-41ef-9b13-30e9145b4943",
   "metadata": {},
   "outputs": [
    {
     "data": {
      "text/html": [
       "<div>\n",
       "<style scoped>\n",
       "    .dataframe tbody tr th:only-of-type {\n",
       "        vertical-align: middle;\n",
       "    }\n",
       "\n",
       "    .dataframe tbody tr th {\n",
       "        vertical-align: top;\n",
       "    }\n",
       "\n",
       "    .dataframe thead th {\n",
       "        text-align: right;\n",
       "    }\n",
       "</style>\n",
       "<table border=\"1\" class=\"dataframe\">\n",
       "  <thead>\n",
       "    <tr style=\"text-align: right;\">\n",
       "      <th></th>\n",
       "      <th>Model</th>\n",
       "      <th>Accuracy</th>\n",
       "      <th>f1_Score</th>\n",
       "    </tr>\n",
       "  </thead>\n",
       "  <tbody>\n",
       "    <tr>\n",
       "      <th>0</th>\n",
       "      <td>LogisticRegression</td>\n",
       "      <td>0.786667</td>\n",
       "      <td>0.529412</td>\n",
       "    </tr>\n",
       "  </tbody>\n",
       "</table>\n",
       "</div>"
      ],
      "text/plain": [
       "                Model  Accuracy  f1_Score\n",
       "0  LogisticRegression  0.786667  0.529412"
      ]
     },
     "execution_count": 27,
     "metadata": {},
     "output_type": "execute_result"
    }
   ],
   "source": [
    "metrics_df"
   ]
  },
  {
   "cell_type": "markdown",
   "id": "e2ab1db3-afca-42d4-bfc2-ec6c74c69549",
   "metadata": {},
   "source": [
    "### A NN model "
   ]
  },
  {
   "cell_type": "code",
   "execution_count": 28,
   "id": "c2b2cabc-f182-4e46-a5b4-c3fdb8d44ed9",
   "metadata": {},
   "outputs": [],
   "source": [
    "# set parameters:\n",
    "n_epochs = 20\n",
    "batch_size = 50"
   ]
  },
  {
   "cell_type": "code",
   "execution_count": 29,
   "id": "19bd1e2f-c53a-478c-b80b-a29bd77f6fc0",
   "metadata": {},
   "outputs": [],
   "source": [
    "ann = tf.keras.models.Sequential([\n",
    "    tf.keras.layers.Dense(units=6, activation='relu'),\n",
    "    tf.keras.layers.Dense(units=6, activation='relu'),\n",
    "    tf.keras.layers.Dense(units=1, activation='sigmoid')\n",
    "])\n",
    "# Compiling the ANN\n",
    "ann.compile(optimizer = 'adam', loss = 'binary_crossentropy', metrics = ['accuracy'])"
   ]
  },
  {
   "cell_type": "code",
   "execution_count": 30,
   "id": "53b45e60-ad01-430e-bb84-7797169042ca",
   "metadata": {
    "scrolled": true
   },
   "outputs": [
    {
     "name": "stdout",
     "output_type": "stream",
     "text": [
      "Epoch 1/20\n",
      "44/44 [==============================] - 1s 5ms/step - loss: 0.5335 - accuracy: 0.7671 - val_loss: 0.4522 - val_accuracy: 0.7870\n",
      "Epoch 2/20\n",
      "44/44 [==============================] - 0s 2ms/step - loss: 0.4300 - accuracy: 0.7981 - val_loss: 0.4324 - val_accuracy: 0.7926\n",
      "Epoch 3/20\n",
      "44/44 [==============================] - 0s 2ms/step - loss: 0.4137 - accuracy: 0.8144 - val_loss: 0.4293 - val_accuracy: 0.7907\n",
      "Epoch 4/20\n",
      "44/44 [==============================] - 0s 2ms/step - loss: 0.4121 - accuracy: 0.8171 - val_loss: 0.4216 - val_accuracy: 0.7963\n",
      "Epoch 5/20\n",
      "44/44 [==============================] - 0s 2ms/step - loss: 0.3988 - accuracy: 0.8213 - val_loss: 0.4157 - val_accuracy: 0.7907\n",
      "Epoch 6/20\n",
      "44/44 [==============================] - 0s 2ms/step - loss: 0.3937 - accuracy: 0.8222 - val_loss: 0.4150 - val_accuracy: 0.7944\n",
      "Epoch 7/20\n",
      "44/44 [==============================] - 0s 2ms/step - loss: 0.3864 - accuracy: 0.8269 - val_loss: 0.4101 - val_accuracy: 0.7889\n",
      "Epoch 8/20\n",
      "44/44 [==============================] - 0s 2ms/step - loss: 0.3798 - accuracy: 0.8264 - val_loss: 0.4081 - val_accuracy: 0.7981\n",
      "Epoch 9/20\n",
      "44/44 [==============================] - 0s 1ms/step - loss: 0.3749 - accuracy: 0.8338 - val_loss: 0.4075 - val_accuracy: 0.7981\n",
      "Epoch 10/20\n",
      "44/44 [==============================] - 0s 2ms/step - loss: 0.3672 - accuracy: 0.8394 - val_loss: 0.4129 - val_accuracy: 0.7889\n",
      "Epoch 11/20\n",
      "44/44 [==============================] - 0s 2ms/step - loss: 0.3633 - accuracy: 0.8380 - val_loss: 0.4114 - val_accuracy: 0.7907\n",
      "Epoch 12/20\n",
      "44/44 [==============================] - 0s 2ms/step - loss: 0.3582 - accuracy: 0.8380 - val_loss: 0.4072 - val_accuracy: 0.7944\n",
      "Epoch 13/20\n",
      "44/44 [==============================] - 0s 2ms/step - loss: 0.3532 - accuracy: 0.8486 - val_loss: 0.4073 - val_accuracy: 0.7944\n",
      "Epoch 14/20\n",
      "44/44 [==============================] - 0s 1ms/step - loss: 0.3474 - accuracy: 0.8481 - val_loss: 0.4061 - val_accuracy: 0.7981\n",
      "Epoch 15/20\n",
      "44/44 [==============================] - 0s 2ms/step - loss: 0.3477 - accuracy: 0.8477 - val_loss: 0.4114 - val_accuracy: 0.8019\n",
      "Epoch 16/20\n",
      "44/44 [==============================] - 0s 1ms/step - loss: 0.3408 - accuracy: 0.8542 - val_loss: 0.4077 - val_accuracy: 0.8019\n",
      "Epoch 17/20\n",
      "44/44 [==============================] - 0s 2ms/step - loss: 0.3347 - accuracy: 0.8560 - val_loss: 0.4081 - val_accuracy: 0.8074\n",
      "Epoch 18/20\n",
      "44/44 [==============================] - 0s 1ms/step - loss: 0.3317 - accuracy: 0.8602 - val_loss: 0.4094 - val_accuracy: 0.8000\n",
      "Epoch 19/20\n",
      "44/44 [==============================] - 0s 1ms/step - loss: 0.3253 - accuracy: 0.8569 - val_loss: 0.4070 - val_accuracy: 0.8000\n",
      "Epoch 20/20\n",
      "44/44 [==============================] - 0s 2ms/step - loss: 0.3237 - accuracy: 0.8634 - val_loss: 0.4128 - val_accuracy: 0.7981\n"
     ]
    }
   ],
   "source": [
    "# Training the ANN on the Training set\n",
    "history = ann.fit(X_train, y_train, batch_size=batch_size, epochs=n_epochs, validation_split=0.2)"
   ]
  },
  {
   "cell_type": "code",
   "execution_count": 31,
   "id": "2cf0283f-520d-4369-9122-d3e2c6f4103b",
   "metadata": {},
   "outputs": [
    {
     "data": {
      "image/png": "[encoded data removed]",
      "text/plain": [
       "<Figure size 1000x600 with 1 Axes>"
      ]
     },
     "metadata": {},
     "output_type": "display_data"
    }
   ],
   "source": [
    "# Extracting loss and validation loss from the history object\n",
    "training_loss = history.history['loss']\n",
    "validation_loss = history.history['val_loss']\n",
    "epochs = range(1, len(training_loss) + 1)\n",
    "\n",
    "# Plotting training and validation loss\n",
    "plt.figure(figsize=(10, 6))\n",
    "plt.plot(epochs, training_loss, 'bo-', label='Training Loss')\n",
    "plt.plot(epochs, validation_loss, 'ro-', label='Validation Loss')\n",
    "plt.title('Training vs. Validation Loss')\n",
    "plt.xlabel('Epochs')\n",
    "plt.ylabel('Loss')\n",
    "plt.legend()\n",
    "plt.show()"
   ]
  },
  {
   "cell_type": "markdown",
   "id": "dc6becc2-3432-4849-a73e-065789c5e2ff",
   "metadata": {},
   "source": [
    "### How should we interpert this plot?\n",
    "\n",
    "1. Training Loss vs. Validation Loss:\n",
    "- The training loss measures how well the model is fitting the training data. As the training progresses (more epochs), the model learns and the training loss typically decreases.\n",
    "- The validation loss measures how well the model performs on a separate set of data not seen during training, giving an indication of how well the model generalizes.\n",
    "\n",
    "2. Interpretation of the Loss Trends:\n",
    "- Initially, both training and validation losses decrease, which is good—it means the model is learning and generalizing well.\n",
    "- However, after a certain number of epochs, the validation loss stops decreasing and starts to fluctuate or even increase slightly while the training loss continues to decrease. This is a classic sign of overfitting.\n",
    "\n",
    "3. Overfitting:\n",
    "- Overfitting occurs when the model learns the training data too well, including noise and details that do not generalize to new data. It's like memorizing the answers instead of understanding the subject.\n",
    "- In the plot, overfitting is suggested because the model's loss on the validation set is no longer decreasing alongside the training loss. The model is improving on the training data but not on the validation data.\n",
    "\n",
    "### Improving the Model:\n",
    "- Early Stopping: Implement early stopping to terminate the training process when the validation loss stops decreasing, preventing overfitting by not allowing the model to train excessively.\n",
    "- Regularization: Introduce regularization methods like L1 or L2 regularization to constrain the magnitude of the model weights, which can discourage overfitting by imposing complexity penalties on the model's loss function.\n",
    "- Dropout: Add dropout layers to the neural network architecture to introduce regularization by randomly setting a fraction of the input units to 0 at each update during training, which can help prevent overfitting.\n",
    "- Data Augmentation: Employ data augmentation techniques to synthetically expand the training dataset by applying random, yet realistic, transformations to the training data. This can lead to a model that generalizes better.\n",
    "- Reduce Model Complexity: Simplify the model's architecture by reducing the number of layers or the number of neurons in each layer if the model is too complicated and overfitting the training data.\n",
    "- Adjust Learning Rate and Batch Size: Fine-tune the learning rate and batch size to control the training dynamics. A learning rate that's too high can cause the model to converge too quickly to suboptimal solutions, whereas one that's too low can slow down the training process. Similarly, an appropriate batch size can balance between computational efficiency and the regularizing effect of stochasticity in the gradient descent.\n",
    "- Perform Hyperparameter Tuning: Run systematic experiments to find the best model parameters, including the learning rate, batch size, and other model-specific hyperparameters. This can be done using techniques like grid search or random search, or more sophisticated methods like Bayesian optimization. By tuning hyperparameters, you can potentially improve the model's performance and robustness.\n",
    "    \n",
    "For beginners, it's important to monitor both training and validation loss and look for signs of overfitting. Interventions like those mentioned above can help ensure that your model learns to generalize well, rather than just memorizing the training dataset."
   ]
  },
  {
   "cell_type": "code",
   "execution_count": 32,
   "id": "520e99c5-820b-40af-a307-6cb5177a31eb",
   "metadata": {},
   "outputs": [
    {
     "name": "stdout",
     "output_type": "stream",
     "text": [
      "10/10 [==============================] - 0s 778us/step\n",
      "Accuracy: 0.82\n",
      "f1_score: 0.6197183098591549\n",
      "              precision    recall  f1-score   support\n",
      "\n",
      "           0       0.88      0.88      0.88       229\n",
      "           1       0.62      0.62      0.62        71\n",
      "\n",
      "    accuracy                           0.82       300\n",
      "   macro avg       0.75      0.75      0.75       300\n",
      "weighted avg       0.82      0.82      0.82       300\n",
      "\n"
     ]
    },
    {
     "data": {
      "text/html": [
       "<div>\n",
       "<style scoped>\n",
       "    .dataframe tbody tr th:only-of-type {\n",
       "        vertical-align: middle;\n",
       "    }\n",
       "\n",
       "    .dataframe tbody tr th {\n",
       "        vertical-align: top;\n",
       "    }\n",
       "\n",
       "    .dataframe thead th {\n",
       "        text-align: right;\n",
       "    }\n",
       "</style>\n",
       "<table border=\"1\" class=\"dataframe\">\n",
       "  <thead>\n",
       "    <tr style=\"text-align: right;\">\n",
       "      <th></th>\n",
       "      <th>Model</th>\n",
       "      <th>Accuracy</th>\n",
       "      <th>f1_Score</th>\n",
       "    </tr>\n",
       "  </thead>\n",
       "  <tbody>\n",
       "    <tr>\n",
       "      <th>0</th>\n",
       "      <td>LogisticRegression</td>\n",
       "      <td>0.786667</td>\n",
       "      <td>0.529412</td>\n",
       "    </tr>\n",
       "    <tr>\n",
       "      <th>1</th>\n",
       "      <td>nn_shallow</td>\n",
       "      <td>0.820000</td>\n",
       "      <td>0.619718</td>\n",
       "    </tr>\n",
       "  </tbody>\n",
       "</table>\n",
       "</div>"
      ],
      "text/plain": [
       "                Model  Accuracy  f1_Score\n",
       "0  LogisticRegression  0.786667  0.529412\n",
       "1          nn_shallow  0.820000  0.619718"
      ]
     },
     "execution_count": 32,
     "metadata": {},
     "output_type": "execute_result"
    }
   ],
   "source": [
    "# Predict the labels for the test set\n",
    "predictions_prob = ann.predict(X_test)\n",
    "\n",
    "# Assuming `predictions` are the output probabilities from your model\n",
    "y_pred = (predictions_prob > 0.5).astype(int)\n",
    "\n",
    "# Evaluate the model\n",
    "accuracy = accuracy_score(y_test, y_pred)\n",
    "f1 = f1_score(y_test, y_pred, average='binary')  # Ensure average='binary' for binary classification\n",
    "new_row = {'Model': 'nn_shallow', 'Accuracy': accuracy, 'f1_Score': f1}\n",
    "new_row_df = pd.DataFrame([new_row])\n",
    "metrics_df = pd.concat([metrics_df, new_row_df], ignore_index=True)\n",
    "print(f'Accuracy: {accuracy}')\n",
    "print(f'f1_score: {f1}')\n",
    "print(classification_report(y_test, y_pred))\n",
    "metrics_df"
   ]
  },
  {
   "cell_type": "markdown",
   "id": "01e5df4e-45d2-477f-a178-a052f6c503f7",
   "metadata": {},
   "source": [
    "The original model is a simple neural network with two hidden layers, each consisting of 6 units. This design may be too simplistic, especially if the input dimensionality is high (e.g., 480 features). With only 6 units in each layer, the model may not have enough capacity to learn complex patterns in the data, which could lead to underfitting.\n",
    "\n",
    "Increased Layer Units:\n",
    "- The proposed model begins with a significantly larger number of units (240) in the first hidden layer. Starting with more units can help the model capture a wide variety of patterns and relationships in the data, given the high dimensionality of the inputs.\n",
    "-mGradually decreasing the number of units in subsequent layers (from 240 to 120, then 60, and finally 30) before reaching the output layer allows the model to refine and distill these patterns into more abstract representations. This approach is akin to funneling the information in a controlled manner, which can be particularly effective in learning from a large number of features.\n",
    "\n",
    "Regularization:\n",
    "- Regularization is applied to each layer in the form of L2 regularization with a factor of 0.01. L2 regularization penalizes the weights' magnitudes by adding a term to the loss function proportional to the sum of the squared weights. This encourages the model to keep the weights small, which can help prevent overfitting by discouraging the model from relying too heavily on any single feature or combination of features.\n",
    "- Regularization can be crucial when increasing the number of units in the layers as it helps to maintain the generalization ability of the model despite the added complexity.\n",
    "\n",
    "Learning rate:\n",
    "- Adjusting the learning rate to 0.001 for better performance. A smaller learning rate can make the optimization process more gradual and precise, potentially leading to better convergence on a minimum of the loss function.\n",
    "\n",
    "\n",
    "While the proposed model has the potential to learn complex patterns better, it is also more prone to overfitting due to its increased capacity. Therefore, it is essential to monitor the model's performance on both training and validation datasets and consider implementing additional strategies such as dropout, early stopping, or further hyperparameter tuning to find the optimal model configuration."
   ]
  },
  {
   "cell_type": "code",
   "execution_count": 33,
   "id": "15afbb37-c06c-44e6-ae82-068e35db9a5a",
   "metadata": {},
   "outputs": [],
   "source": [
    "# Define the model architecture\n",
    "ann = tf.keras.models.Sequential([\n",
    "    tf.keras.layers.Dense(units=240, activation='relu', kernel_regularizer=regularizers.l2(0.01)),\n",
    "    tf.keras.layers.Dense(units=120, activation='relu', kernel_regularizer=regularizers.l2(0.01)),\n",
    "    tf.keras.layers.Dense(units=60, activation='relu', kernel_regularizer=regularizers.l2(0.01)),\n",
    "    tf.keras.layers.Dense(units=30, activation='relu', kernel_regularizer=regularizers.l2(0.01)),\n",
    "    tf.keras.layers.Dense(units=1, activation='sigmoid')\n",
    "])\n",
    "# Compiling the ANN\n",
    "ann.compile(optimizer = keras.optimizers.Adam(learning_rate=0.001), loss = 'binary_crossentropy', metrics = ['accuracy'])"
   ]
  },
  {
   "cell_type": "code",
   "execution_count": 34,
   "id": "2ca22b1e-9fd4-4e2a-a1da-dd86f585b5cd",
   "metadata": {},
   "outputs": [
    {
     "name": "stdout",
     "output_type": "stream",
     "text": [
      "Epoch 1/20\n",
      "44/44 [==============================] - 1s 6ms/step - loss: 4.7357 - accuracy: 0.7852 - val_loss: 3.1627 - val_accuracy: 0.7926\n",
      "Epoch 2/20\n",
      "44/44 [==============================] - 0s 4ms/step - loss: 2.2711 - accuracy: 0.8171 - val_loss: 1.5972 - val_accuracy: 0.8056\n",
      "Epoch 3/20\n",
      "44/44 [==============================] - 0s 3ms/step - loss: 1.2488 - accuracy: 0.8134 - val_loss: 0.9872 - val_accuracy: 0.7963\n",
      "Epoch 4/20\n",
      "44/44 [==============================] - 0s 3ms/step - loss: 0.8312 - accuracy: 0.8199 - val_loss: 0.7322 - val_accuracy: 0.8000\n",
      "Epoch 5/20\n",
      "44/44 [==============================] - 0s 3ms/step - loss: 0.6470 - accuracy: 0.8176 - val_loss: 0.6155 - val_accuracy: 0.8000\n",
      "Epoch 6/20\n",
      "44/44 [==============================] - 0s 3ms/step - loss: 0.5694 - accuracy: 0.8259 - val_loss: 0.5651 - val_accuracy: 0.8111\n",
      "Epoch 7/20\n",
      "44/44 [==============================] - 0s 3ms/step - loss: 0.5289 - accuracy: 0.8241 - val_loss: 0.5233 - val_accuracy: 0.8000\n",
      "Epoch 8/20\n",
      "44/44 [==============================] - 0s 3ms/step - loss: 0.5012 - accuracy: 0.8139 - val_loss: 0.5015 - val_accuracy: 0.8037\n",
      "Epoch 9/20\n",
      "44/44 [==============================] - 0s 3ms/step - loss: 0.4981 - accuracy: 0.8074 - val_loss: 0.5004 - val_accuracy: 0.7889\n",
      "Epoch 10/20\n",
      "44/44 [==============================] - 0s 3ms/step - loss: 0.4744 - accuracy: 0.8227 - val_loss: 0.4989 - val_accuracy: 0.8000\n",
      "Epoch 11/20\n",
      "44/44 [==============================] - 0s 3ms/step - loss: 0.4723 - accuracy: 0.8292 - val_loss: 0.4839 - val_accuracy: 0.8000\n",
      "Epoch 12/20\n",
      "44/44 [==============================] - 0s 3ms/step - loss: 0.4610 - accuracy: 0.8218 - val_loss: 0.4754 - val_accuracy: 0.8000\n",
      "Epoch 13/20\n",
      "44/44 [==============================] - 0s 3ms/step - loss: 0.4537 - accuracy: 0.8278 - val_loss: 0.4804 - val_accuracy: 0.7926\n",
      "Epoch 14/20\n",
      "44/44 [==============================] - 0s 3ms/step - loss: 0.4476 - accuracy: 0.8245 - val_loss: 0.4781 - val_accuracy: 0.7759\n",
      "Epoch 15/20\n",
      "44/44 [==============================] - 0s 3ms/step - loss: 0.4510 - accuracy: 0.8204 - val_loss: 0.4810 - val_accuracy: 0.7870\n",
      "Epoch 16/20\n",
      "44/44 [==============================] - 0s 3ms/step - loss: 0.4398 - accuracy: 0.8208 - val_loss: 0.4673 - val_accuracy: 0.8056\n",
      "Epoch 17/20\n",
      "44/44 [==============================] - 0s 3ms/step - loss: 0.4335 - accuracy: 0.8407 - val_loss: 0.4673 - val_accuracy: 0.8130\n",
      "Epoch 18/20\n",
      "44/44 [==============================] - 0s 3ms/step - loss: 0.4355 - accuracy: 0.8366 - val_loss: 0.4826 - val_accuracy: 0.7981\n",
      "Epoch 19/20\n",
      "44/44 [==============================] - 0s 3ms/step - loss: 0.4324 - accuracy: 0.8356 - val_loss: 0.4815 - val_accuracy: 0.7796\n",
      "Epoch 20/20\n",
      "44/44 [==============================] - 0s 3ms/step - loss: 0.4369 - accuracy: 0.8315 - val_loss: 0.4878 - val_accuracy: 0.8037\n"
     ]
    }
   ],
   "source": [
    "# Training the ANN on the Training set\n",
    "history = ann.fit(X_train, y_train, batch_size=batch_size, epochs=n_epochs, validation_split=0.2)"
   ]
  },
  {
   "cell_type": "code",
   "execution_count": 35,
   "id": "bbc55ad5-e279-42d1-b07f-eb2be21ce864",
   "metadata": {},
   "outputs": [
    {
     "data": {
      "image/png": "[encoded data removed]",
      "text/plain": [
       "<Figure size 1000x600 with 1 Axes>"
      ]
     },
     "metadata": {},
     "output_type": "display_data"
    }
   ],
   "source": [
    "# Extracting loss and validation loss from the history object\n",
    "training_loss = history.history['loss']\n",
    "validation_loss = history.history['val_loss']\n",
    "epochs = range(1, len(training_loss) + 1)\n",
    "\n",
    "# Plotting training and validation loss\n",
    "plt.figure(figsize=(10, 6))\n",
    "plt.plot(epochs, training_loss, 'bo-', label='Training Loss')\n",
    "plt.plot(epochs, validation_loss, 'ro-', label='Validation Loss')\n",
    "plt.title('Training vs. Validation Loss')\n",
    "plt.xlabel('Epochs')\n",
    "plt.ylabel('Loss')\n",
    "plt.legend()\n",
    "plt.show()"
   ]
  },
  {
   "cell_type": "code",
   "execution_count": 36,
   "id": "ddfe486a-eb8c-47cc-aa83-3cb63a61c8bc",
   "metadata": {},
   "outputs": [
    {
     "name": "stdout",
     "output_type": "stream",
     "text": [
      "10/10 [==============================] - 0s 1ms/step\n",
      "Accuracy: 0.8\n",
      "f1_score: 0.5384615384615384\n",
      "              precision    recall  f1-score   support\n",
      "\n",
      "           0       0.85      0.90      0.87       229\n",
      "           1       0.59      0.49      0.54        71\n",
      "\n",
      "    accuracy                           0.80       300\n",
      "   macro avg       0.72      0.69      0.71       300\n",
      "weighted avg       0.79      0.80      0.79       300\n",
      "\n"
     ]
    },
    {
     "data": {
      "text/html": [
       "<div>\n",
       "<style scoped>\n",
       "    .dataframe tbody tr th:only-of-type {\n",
       "        vertical-align: middle;\n",
       "    }\n",
       "\n",
       "    .dataframe tbody tr th {\n",
       "        vertical-align: top;\n",
       "    }\n",
       "\n",
       "    .dataframe thead th {\n",
       "        text-align: right;\n",
       "    }\n",
       "</style>\n",
       "<table border=\"1\" class=\"dataframe\">\n",
       "  <thead>\n",
       "    <tr style=\"text-align: right;\">\n",
       "      <th></th>\n",
       "      <th>Model</th>\n",
       "      <th>Accuracy</th>\n",
       "      <th>f1_Score</th>\n",
       "    </tr>\n",
       "  </thead>\n",
       "  <tbody>\n",
       "    <tr>\n",
       "      <th>0</th>\n",
       "      <td>LogisticRegression</td>\n",
       "      <td>0.786667</td>\n",
       "      <td>0.529412</td>\n",
       "    </tr>\n",
       "    <tr>\n",
       "      <th>1</th>\n",
       "      <td>nn_shallow</td>\n",
       "      <td>0.820000</td>\n",
       "      <td>0.619718</td>\n",
       "    </tr>\n",
       "    <tr>\n",
       "      <th>2</th>\n",
       "      <td>nn_deep</td>\n",
       "      <td>0.800000</td>\n",
       "      <td>0.538462</td>\n",
       "    </tr>\n",
       "  </tbody>\n",
       "</table>\n",
       "</div>"
      ],
      "text/plain": [
       "                Model  Accuracy  f1_Score\n",
       "0  LogisticRegression  0.786667  0.529412\n",
       "1          nn_shallow  0.820000  0.619718\n",
       "2             nn_deep  0.800000  0.538462"
      ]
     },
     "execution_count": 36,
     "metadata": {},
     "output_type": "execute_result"
    }
   ],
   "source": [
    "# Predict the labels for the test set\n",
    "predictions_prob = ann.predict(X_test)\n",
    "\n",
    "# Assuming `predictions` are the output probabilities from your model\n",
    "y_pred = (predictions_prob > 0.5).astype(int)\n",
    "\n",
    "# Evaluate the model\n",
    "accuracy = accuracy_score(y_test, y_pred)\n",
    "f1 = f1_score(y_test, y_pred, average='binary')  # Ensure average='binary' for binary classification\n",
    "new_row = {'Model': 'nn_deep', 'Accuracy': accuracy, 'f1_Score': f1}\n",
    "new_row_df = pd.DataFrame([new_row])\n",
    "metrics_df = pd.concat([metrics_df, new_row_df], ignore_index=True)\n",
    "print(f'Accuracy: {accuracy}')\n",
    "print(f'f1_score: {f1}')\n",
    "print(classification_report(y_test, y_pred))\n",
    "metrics_df"
   ]
  },
  {
   "cell_type": "markdown",
   "id": "7201898e-63c1-479e-adaf-720e0e178337",
   "metadata": {},
   "source": [
    "### balancing data using weight adjustment "
   ]
  },
  {
   "cell_type": "code",
   "execution_count": 37,
   "id": "bd6ba3b5",
   "metadata": {},
   "outputs": [],
   "source": [
    "# let's improve the model by adjusting the weight of low sample data.\n",
    "# Calculate class weights\n",
    "weights = class_weight.compute_class_weight(\n",
    "    'balanced',\n",
    "    classes=np.unique(y_train),\n",
    "    y=y_train\n",
    ")\n",
    "class_weights = dict(enumerate(weights))"
   ]
  },
  {
   "cell_type": "code",
   "execution_count": 38,
   "id": "1adf7429-fd1d-4c52-9126-3fe8274a0e28",
   "metadata": {},
   "outputs": [
    {
     "data": {
      "text/plain": [
       "{0: 0.6543868153174988, 1: 2.119309262166405}"
      ]
     },
     "execution_count": 38,
     "metadata": {},
     "output_type": "execute_result"
    }
   ],
   "source": [
    "class_weights"
   ]
  },
  {
   "cell_type": "code",
   "execution_count": 39,
   "id": "7b392966-f7b9-4123-92bb-55d057345565",
   "metadata": {},
   "outputs": [],
   "source": [
    "# Define the model architecture\n",
    "ann = tf.keras.models.Sequential([\n",
    "    tf.keras.layers.Dense(units=240, activation='relu', kernel_regularizer=regularizers.l2(0.01)),\n",
    "    tf.keras.layers.Dense(units=120, activation='relu', kernel_regularizer=regularizers.l2(0.01)),\n",
    "    tf.keras.layers.Dense(units=60, activation='relu', kernel_regularizer=regularizers.l2(0.01)),\n",
    "    tf.keras.layers.Dense(units=30, activation='relu', kernel_regularizer=regularizers.l2(0.01)),\n",
    "    tf.keras.layers.Dense(units=1, activation='sigmoid')\n",
    "])\n",
    "# Compiling the ANN\n",
    "ann.compile(optimizer = keras.optimizers.Adam(learning_rate=0.001), loss = 'binary_crossentropy', metrics = ['accuracy'])"
   ]
  },
  {
   "cell_type": "code",
   "execution_count": 40,
   "id": "7d6a3c08-9d6b-46a2-98ec-d754416c3acf",
   "metadata": {
    "scrolled": true
   },
   "outputs": [
    {
     "name": "stdout",
     "output_type": "stream",
     "text": [
      "Epoch 1/20\n",
      "44/44 [==============================] - 1s 6ms/step - loss: 4.6669 - accuracy: 0.7190 - val_loss: 3.0690 - val_accuracy: 0.7463\n",
      "Epoch 2/20\n",
      "44/44 [==============================] - 0s 3ms/step - loss: 2.1629 - accuracy: 0.7792 - val_loss: 1.6256 - val_accuracy: 0.7259\n",
      "Epoch 3/20\n",
      "44/44 [==============================] - 0s 3ms/step - loss: 1.2393 - accuracy: 0.7537 - val_loss: 0.9807 - val_accuracy: 0.7963\n",
      "Epoch 4/20\n",
      "44/44 [==============================] - 0s 3ms/step - loss: 0.8861 - accuracy: 0.7769 - val_loss: 0.7757 - val_accuracy: 0.7815\n",
      "Epoch 5/20\n",
      "44/44 [==============================] - 0s 3ms/step - loss: 0.7229 - accuracy: 0.7884 - val_loss: 0.7156 - val_accuracy: 0.7815\n",
      "Epoch 6/20\n",
      "44/44 [==============================] - 0s 3ms/step - loss: 0.6537 - accuracy: 0.7875 - val_loss: 0.7354 - val_accuracy: 0.7333\n",
      "Epoch 7/20\n",
      "44/44 [==============================] - 0s 3ms/step - loss: 0.6234 - accuracy: 0.7940 - val_loss: 0.6242 - val_accuracy: 0.7833\n",
      "Epoch 8/20\n",
      "44/44 [==============================] - 0s 3ms/step - loss: 0.5949 - accuracy: 0.7875 - val_loss: 0.5814 - val_accuracy: 0.8000\n",
      "Epoch 9/20\n",
      "44/44 [==============================] - 0s 3ms/step - loss: 0.6009 - accuracy: 0.7745 - val_loss: 0.6287 - val_accuracy: 0.7556\n",
      "Epoch 10/20\n",
      "44/44 [==============================] - 0s 3ms/step - loss: 0.5710 - accuracy: 0.7870 - val_loss: 0.6055 - val_accuracy: 0.7315\n",
      "Epoch 11/20\n",
      "44/44 [==============================] - 0s 3ms/step - loss: 0.5594 - accuracy: 0.7764 - val_loss: 0.5762 - val_accuracy: 0.7833\n",
      "Epoch 12/20\n",
      "44/44 [==============================] - 0s 3ms/step - loss: 0.5520 - accuracy: 0.7870 - val_loss: 0.5831 - val_accuracy: 0.7500\n",
      "Epoch 13/20\n",
      "44/44 [==============================] - 0s 3ms/step - loss: 0.5500 - accuracy: 0.7935 - val_loss: 0.5792 - val_accuracy: 0.7407\n",
      "Epoch 14/20\n",
      "44/44 [==============================] - 0s 3ms/step - loss: 0.5412 - accuracy: 0.7847 - val_loss: 0.6322 - val_accuracy: 0.7333\n",
      "Epoch 15/20\n",
      "44/44 [==============================] - 0s 3ms/step - loss: 0.5361 - accuracy: 0.7949 - val_loss: 0.5950 - val_accuracy: 0.7574\n",
      "Epoch 16/20\n",
      "44/44 [==============================] - 0s 3ms/step - loss: 0.5328 - accuracy: 0.7968 - val_loss: 0.6223 - val_accuracy: 0.7778\n",
      "Epoch 17/20\n",
      "44/44 [==============================] - 0s 3ms/step - loss: 0.5301 - accuracy: 0.7926 - val_loss: 0.6025 - val_accuracy: 0.7426\n",
      "Epoch 18/20\n",
      "44/44 [==============================] - 0s 3ms/step - loss: 0.5216 - accuracy: 0.8009 - val_loss: 0.5786 - val_accuracy: 0.7370\n",
      "Epoch 19/20\n",
      "44/44 [==============================] - 0s 3ms/step - loss: 0.5170 - accuracy: 0.8051 - val_loss: 0.5840 - val_accuracy: 0.7759\n",
      "Epoch 20/20\n",
      "44/44 [==============================] - 0s 3ms/step - loss: 0.5106 - accuracy: 0.7977 - val_loss: 0.5477 - val_accuracy: 0.7741\n"
     ]
    }
   ],
   "source": [
    "# Training the ANN on the Training set with class weight adjustment\n",
    "history = ann.fit(X_train, y_train, batch_size=batch_size, epochs=n_epochs, validation_split=0.2, class_weight=class_weights)"
   ]
  },
  {
   "cell_type": "code",
   "execution_count": 41,
   "id": "ffd32a64-b0e1-4492-a5a8-5e878b70b115",
   "metadata": {},
   "outputs": [
    {
     "data": {
      "image/png": "[encoded data removed]",
      "text/plain": [
       "<Figure size 1000x600 with 1 Axes>"
      ]
     },
     "metadata": {},
     "output_type": "display_data"
    }
   ],
   "source": [
    "# Extracting loss and validation loss from the history object\n",
    "training_loss = history.history['loss']\n",
    "validation_loss = history.history['val_loss']\n",
    "epochs = range(1, len(training_loss) + 1)\n",
    "\n",
    "# Plotting training and validation loss\n",
    "plt.figure(figsize=(10, 6))\n",
    "plt.plot(epochs, training_loss, 'bo-', label='Training Loss')\n",
    "plt.plot(epochs, validation_loss, 'ro-', label='Validation Loss')\n",
    "plt.title('Training vs. Validation Loss')\n",
    "plt.xlabel('Epochs')\n",
    "plt.ylabel('Loss')\n",
    "plt.legend()\n",
    "plt.show()"
   ]
  },
  {
   "cell_type": "code",
   "execution_count": 42,
   "id": "ba30ad81-336c-44f6-98bb-e97249d86af3",
   "metadata": {},
   "outputs": [
    {
     "name": "stdout",
     "output_type": "stream",
     "text": [
      "10/10 [==============================] - 0s 984us/step\n",
      "Accuracy: 0.7666666666666667\n",
      "f1_score: 0.5882352941176471\n",
      "              precision    recall  f1-score   support\n",
      "\n",
      "           0       0.90      0.79      0.84       229\n",
      "           1       0.51      0.70      0.59        71\n",
      "\n",
      "    accuracy                           0.77       300\n",
      "   macro avg       0.70      0.75      0.71       300\n",
      "weighted avg       0.80      0.77      0.78       300\n",
      "\n"
     ]
    },
    {
     "data": {
      "text/html": [
       "<div>\n",
       "<style scoped>\n",
       "    .dataframe tbody tr th:only-of-type {\n",
       "        vertical-align: middle;\n",
       "    }\n",
       "\n",
       "    .dataframe tbody tr th {\n",
       "        vertical-align: top;\n",
       "    }\n",
       "\n",
       "    .dataframe thead th {\n",
       "        text-align: right;\n",
       "    }\n",
       "</style>\n",
       "<table border=\"1\" class=\"dataframe\">\n",
       "  <thead>\n",
       "    <tr style=\"text-align: right;\">\n",
       "      <th></th>\n",
       "      <th>Model</th>\n",
       "      <th>Accuracy</th>\n",
       "      <th>f1_Score</th>\n",
       "    </tr>\n",
       "  </thead>\n",
       "  <tbody>\n",
       "    <tr>\n",
       "      <th>0</th>\n",
       "      <td>LogisticRegression</td>\n",
       "      <td>0.786667</td>\n",
       "      <td>0.529412</td>\n",
       "    </tr>\n",
       "    <tr>\n",
       "      <th>1</th>\n",
       "      <td>nn_shallow</td>\n",
       "      <td>0.820000</td>\n",
       "      <td>0.619718</td>\n",
       "    </tr>\n",
       "    <tr>\n",
       "      <th>2</th>\n",
       "      <td>nn_deep</td>\n",
       "      <td>0.800000</td>\n",
       "      <td>0.538462</td>\n",
       "    </tr>\n",
       "    <tr>\n",
       "      <th>3</th>\n",
       "      <td>nn_deep_weighted</td>\n",
       "      <td>0.766667</td>\n",
       "      <td>0.588235</td>\n",
       "    </tr>\n",
       "  </tbody>\n",
       "</table>\n",
       "</div>"
      ],
      "text/plain": [
       "                Model  Accuracy  f1_Score\n",
       "0  LogisticRegression  0.786667  0.529412\n",
       "1          nn_shallow  0.820000  0.619718\n",
       "2             nn_deep  0.800000  0.538462\n",
       "3    nn_deep_weighted  0.766667  0.588235"
      ]
     },
     "execution_count": 42,
     "metadata": {},
     "output_type": "execute_result"
    }
   ],
   "source": [
    "# Predict the labels for the test set\n",
    "predictions_prob = ann.predict(X_test)\n",
    "\n",
    "# Assuming `predictions` are the output probabilities from your model\n",
    "y_pred = (predictions_prob > 0.5).astype(int)\n",
    "\n",
    "# Evaluate the model\n",
    "accuracy = accuracy_score(y_test, y_pred)\n",
    "f1 = f1_score(y_test, y_pred, average='binary')  # Ensure average='binary' for binary classification\n",
    "new_row = {'Model': 'nn_deep_weighted', 'Accuracy': accuracy, 'f1_Score': f1}\n",
    "new_row_df = pd.DataFrame([new_row])\n",
    "metrics_df = pd.concat([metrics_df, new_row_df], ignore_index=True)\n",
    "print(f'Accuracy: {accuracy}')\n",
    "print(f'f1_score: {f1}')\n",
    "print(classification_report(y_test, y_pred))\n",
    "metrics_df"
   ]
  },
  {
   "cell_type": "code",
   "execution_count": 43,
   "id": "44287cec-b566-4637-8bc3-b44329ea124c",
   "metadata": {
    "scrolled": true
   },
   "outputs": [
    {
     "name": "stdout",
     "output_type": "stream",
     "text": [
      "Training for fold 1 ...\n",
      "Epoch 1/20\n",
      "44/44 [==============================] - 1s 6ms/step - loss: 4.7043 - accuracy: 0.7935 - val_loss: 3.1504 - val_accuracy: 0.7796\n",
      "Epoch 2/20\n",
      "44/44 [==============================] - 0s 3ms/step - loss: 2.2487 - accuracy: 0.8190 - val_loss: 1.6019 - val_accuracy: 0.7870\n",
      "Epoch 3/20\n",
      "44/44 [==============================] - 0s 3ms/step - loss: 1.2278 - accuracy: 0.8167 - val_loss: 1.0016 - val_accuracy: 0.7852\n",
      "Epoch 4/20\n",
      "44/44 [==============================] - 0s 3ms/step - loss: 0.8144 - accuracy: 0.8139 - val_loss: 0.7444 - val_accuracy: 0.7889\n",
      "Epoch 5/20\n",
      "44/44 [==============================] - 0s 3ms/step - loss: 0.6413 - accuracy: 0.8213 - val_loss: 0.6300 - val_accuracy: 0.7944\n",
      "Epoch 6/20\n",
      "44/44 [==============================] - 0s 3ms/step - loss: 0.5583 - accuracy: 0.8231 - val_loss: 0.5778 - val_accuracy: 0.7870\n",
      "Epoch 7/20\n",
      "44/44 [==============================] - 0s 3ms/step - loss: 0.5126 - accuracy: 0.8241 - val_loss: 0.5581 - val_accuracy: 0.7704\n",
      "Epoch 8/20\n",
      "44/44 [==============================] - 0s 3ms/step - loss: 0.4877 - accuracy: 0.8250 - val_loss: 0.5240 - val_accuracy: 0.7944\n",
      "Epoch 9/20\n",
      "44/44 [==============================] - 0s 3ms/step - loss: 0.4809 - accuracy: 0.8245 - val_loss: 0.5333 - val_accuracy: 0.7981\n",
      "Epoch 10/20\n",
      "44/44 [==============================] - 0s 3ms/step - loss: 0.4758 - accuracy: 0.8287 - val_loss: 0.5049 - val_accuracy: 0.7981\n",
      "Epoch 11/20\n",
      "44/44 [==============================] - 0s 3ms/step - loss: 0.4482 - accuracy: 0.8338 - val_loss: 0.5351 - val_accuracy: 0.7704\n",
      "Epoch 12/20\n",
      "44/44 [==============================] - 0s 3ms/step - loss: 0.4459 - accuracy: 0.8333 - val_loss: 0.5097 - val_accuracy: 0.8074\n",
      "Epoch 13/20\n",
      "44/44 [==============================] - 0s 3ms/step - loss: 0.4390 - accuracy: 0.8287 - val_loss: 0.5238 - val_accuracy: 0.7944\n",
      "Epoch 14/20\n",
      "44/44 [==============================] - 0s 3ms/step - loss: 0.4295 - accuracy: 0.8361 - val_loss: 0.5066 - val_accuracy: 0.7870\n",
      "Epoch 15/20\n",
      "44/44 [==============================] - 0s 3ms/step - loss: 0.4382 - accuracy: 0.8319 - val_loss: 0.5113 - val_accuracy: 0.7852\n",
      "Epoch 16/20\n",
      "44/44 [==============================] - 0s 3ms/step - loss: 0.4297 - accuracy: 0.8333 - val_loss: 0.4962 - val_accuracy: 0.7907\n",
      "Epoch 17/20\n",
      "44/44 [==============================] - 0s 3ms/step - loss: 0.4269 - accuracy: 0.8403 - val_loss: 0.5026 - val_accuracy: 0.7870\n",
      "Epoch 18/20\n",
      "44/44 [==============================] - 0s 3ms/step - loss: 0.4278 - accuracy: 0.8440 - val_loss: 0.5003 - val_accuracy: 0.8037\n",
      "Epoch 19/20\n",
      "44/44 [==============================] - 0s 3ms/step - loss: 0.4239 - accuracy: 0.8366 - val_loss: 0.5163 - val_accuracy: 0.7833\n",
      "Epoch 20/20\n",
      "44/44 [==============================] - 0s 3ms/step - loss: 0.4269 - accuracy: 0.8375 - val_loss: 0.4937 - val_accuracy: 0.8000\n",
      "Training for fold 2 ...\n",
      "Epoch 1/20\n",
      "44/44 [==============================] - 1s 12ms/step - loss: 4.6746 - accuracy: 0.7741 - val_loss: 2.9798 - val_accuracy: 0.8148\n",
      "Epoch 2/20\n",
      "44/44 [==============================] - 0s 3ms/step - loss: 2.1384 - accuracy: 0.8014 - val_loss: 1.4566 - val_accuracy: 0.8185\n",
      "Epoch 3/20\n",
      "44/44 [==============================] - 0s 3ms/step - loss: 1.1559 - accuracy: 0.8116 - val_loss: 0.8947 - val_accuracy: 0.8185\n",
      "Epoch 4/20\n",
      "44/44 [==============================] - 0s 3ms/step - loss: 0.7837 - accuracy: 0.8134 - val_loss: 0.6735 - val_accuracy: 0.8241\n",
      "Epoch 5/20\n",
      "44/44 [==============================] - 0s 3ms/step - loss: 0.6281 - accuracy: 0.8148 - val_loss: 0.5715 - val_accuracy: 0.8296\n",
      "Epoch 6/20\n",
      "44/44 [==============================] - 0s 3ms/step - loss: 0.5586 - accuracy: 0.8208 - val_loss: 0.5180 - val_accuracy: 0.8333\n",
      "Epoch 7/20\n",
      "44/44 [==============================] - 0s 3ms/step - loss: 0.5195 - accuracy: 0.8162 - val_loss: 0.4992 - val_accuracy: 0.8241\n",
      "Epoch 8/20\n",
      "44/44 [==============================] - 0s 3ms/step - loss: 0.4925 - accuracy: 0.8185 - val_loss: 0.4737 - val_accuracy: 0.8204\n",
      "Epoch 9/20\n",
      "44/44 [==============================] - 0s 3ms/step - loss: 0.4865 - accuracy: 0.8167 - val_loss: 0.4725 - val_accuracy: 0.8167\n",
      "Epoch 10/20\n",
      "44/44 [==============================] - 0s 3ms/step - loss: 0.4721 - accuracy: 0.8213 - val_loss: 0.4609 - val_accuracy: 0.8204\n",
      "Epoch 11/20\n",
      "44/44 [==============================] - 0s 3ms/step - loss: 0.4625 - accuracy: 0.8241 - val_loss: 0.4616 - val_accuracy: 0.8204\n",
      "Epoch 12/20\n",
      "44/44 [==============================] - 0s 3ms/step - loss: 0.4595 - accuracy: 0.8236 - val_loss: 0.4647 - val_accuracy: 0.8148\n",
      "Epoch 13/20\n",
      "44/44 [==============================] - 0s 3ms/step - loss: 0.4664 - accuracy: 0.8167 - val_loss: 0.4582 - val_accuracy: 0.8074\n",
      "Epoch 14/20\n",
      "44/44 [==============================] - 0s 3ms/step - loss: 0.4597 - accuracy: 0.8162 - val_loss: 0.4430 - val_accuracy: 0.8333\n",
      "Epoch 15/20\n",
      "44/44 [==============================] - 0s 3ms/step - loss: 0.4470 - accuracy: 0.8222 - val_loss: 0.4411 - val_accuracy: 0.8296\n",
      "Epoch 16/20\n",
      "44/44 [==============================] - 0s 3ms/step - loss: 0.4498 - accuracy: 0.8222 - val_loss: 0.4382 - val_accuracy: 0.8204\n",
      "Epoch 17/20\n",
      "44/44 [==============================] - 0s 3ms/step - loss: 0.4452 - accuracy: 0.8287 - val_loss: 0.4398 - val_accuracy: 0.8389\n",
      "Epoch 18/20\n",
      "44/44 [==============================] - 0s 3ms/step - loss: 0.4404 - accuracy: 0.8287 - val_loss: 0.4462 - val_accuracy: 0.8222\n",
      "Epoch 19/20\n",
      "44/44 [==============================] - 0s 3ms/step - loss: 0.4427 - accuracy: 0.8194 - val_loss: 0.4512 - val_accuracy: 0.8241\n",
      "Epoch 20/20\n",
      "44/44 [==============================] - 0s 3ms/step - loss: 0.4426 - accuracy: 0.8255 - val_loss: 0.4372 - val_accuracy: 0.8241\n",
      "Training for fold 3 ...\n",
      "Epoch 1/20\n",
      "44/44 [==============================] - 1s 6ms/step - loss: 4.6435 - accuracy: 0.7787 - val_loss: 3.0157 - val_accuracy: 0.8074\n",
      "Epoch 2/20\n",
      "44/44 [==============================] - 0s 3ms/step - loss: 2.1844 - accuracy: 0.8111 - val_loss: 1.5208 - val_accuracy: 0.8037\n",
      "Epoch 3/20\n",
      "44/44 [==============================] - 0s 3ms/step - loss: 1.2115 - accuracy: 0.8139 - val_loss: 0.9478 - val_accuracy: 0.8074\n",
      "Epoch 4/20\n",
      "44/44 [==============================] - 0s 3ms/step - loss: 0.8195 - accuracy: 0.8162 - val_loss: 0.7209 - val_accuracy: 0.7981\n",
      "Epoch 5/20\n",
      "44/44 [==============================] - 0s 3ms/step - loss: 0.6541 - accuracy: 0.8157 - val_loss: 0.5881 - val_accuracy: 0.8056\n",
      "Epoch 6/20\n",
      "44/44 [==============================] - 0s 3ms/step - loss: 0.5739 - accuracy: 0.8176 - val_loss: 0.5424 - val_accuracy: 0.8037\n",
      "Epoch 7/20\n",
      "44/44 [==============================] - 0s 3ms/step - loss: 0.5303 - accuracy: 0.8227 - val_loss: 0.5140 - val_accuracy: 0.8019\n",
      "Epoch 8/20\n",
      "44/44 [==============================] - 0s 3ms/step - loss: 0.5023 - accuracy: 0.8213 - val_loss: 0.4922 - val_accuracy: 0.8056\n",
      "Epoch 9/20\n",
      "44/44 [==============================] - 0s 3ms/step - loss: 0.4859 - accuracy: 0.8208 - val_loss: 0.4701 - val_accuracy: 0.8111\n",
      "Epoch 10/20\n",
      "44/44 [==============================] - 0s 3ms/step - loss: 0.4834 - accuracy: 0.8227 - val_loss: 0.4738 - val_accuracy: 0.8056\n",
      "Epoch 11/20\n",
      "44/44 [==============================] - 0s 3ms/step - loss: 0.4663 - accuracy: 0.8199 - val_loss: 0.4489 - val_accuracy: 0.8037\n",
      "Epoch 12/20\n",
      "44/44 [==============================] - 0s 3ms/step - loss: 0.4581 - accuracy: 0.8282 - val_loss: 0.4462 - val_accuracy: 0.8111\n",
      "Epoch 13/20\n",
      "44/44 [==============================] - 0s 3ms/step - loss: 0.4600 - accuracy: 0.8236 - val_loss: 0.4508 - val_accuracy: 0.8111\n",
      "Epoch 14/20\n",
      "44/44 [==============================] - 0s 3ms/step - loss: 0.4452 - accuracy: 0.8264 - val_loss: 0.4636 - val_accuracy: 0.8130\n",
      "Epoch 15/20\n",
      "44/44 [==============================] - 0s 3ms/step - loss: 0.4564 - accuracy: 0.8227 - val_loss: 0.4385 - val_accuracy: 0.8074\n",
      "Epoch 16/20\n",
      "44/44 [==============================] - 0s 3ms/step - loss: 0.4472 - accuracy: 0.8259 - val_loss: 0.4512 - val_accuracy: 0.8074\n",
      "Epoch 17/20\n",
      "44/44 [==============================] - 0s 3ms/step - loss: 0.4507 - accuracy: 0.8162 - val_loss: 0.4418 - val_accuracy: 0.8111\n",
      "Epoch 18/20\n",
      "44/44 [==============================] - 0s 3ms/step - loss: 0.4397 - accuracy: 0.8301 - val_loss: 0.4437 - val_accuracy: 0.7981\n",
      "Epoch 19/20\n",
      "44/44 [==============================] - 0s 3ms/step - loss: 0.4362 - accuracy: 0.8282 - val_loss: 0.4329 - val_accuracy: 0.8037\n",
      "Epoch 20/20\n",
      "44/44 [==============================] - 0s 3ms/step - loss: 0.4294 - accuracy: 0.8361 - val_loss: 0.4343 - val_accuracy: 0.8111\n",
      "Training for fold 4 ...\n",
      "Epoch 1/20\n",
      "44/44 [==============================] - 1s 6ms/step - loss: 4.7635 - accuracy: 0.7847 - val_loss: 3.1921 - val_accuracy: 0.7981\n",
      "Epoch 2/20\n",
      "44/44 [==============================] - 0s 3ms/step - loss: 2.3009 - accuracy: 0.8125 - val_loss: 1.6460 - val_accuracy: 0.8093\n",
      "Epoch 3/20\n",
      "44/44 [==============================] - 0s 3ms/step - loss: 1.2725 - accuracy: 0.8231 - val_loss: 1.0409 - val_accuracy: 0.8093\n",
      "Epoch 4/20\n",
      "44/44 [==============================] - 0s 3ms/step - loss: 0.8547 - accuracy: 0.8227 - val_loss: 0.7806 - val_accuracy: 0.8019\n",
      "Epoch 5/20\n",
      "44/44 [==============================] - 0s 3ms/step - loss: 0.6674 - accuracy: 0.8315 - val_loss: 0.6596 - val_accuracy: 0.8111\n",
      "Epoch 6/20\n",
      "44/44 [==============================] - 0s 3ms/step - loss: 0.5787 - accuracy: 0.8296 - val_loss: 0.6015 - val_accuracy: 0.8056\n",
      "Epoch 7/20\n",
      "44/44 [==============================] - 0s 3ms/step - loss: 0.5411 - accuracy: 0.8139 - val_loss: 0.5611 - val_accuracy: 0.8037\n",
      "Epoch 8/20\n",
      "44/44 [==============================] - 0s 3ms/step - loss: 0.5035 - accuracy: 0.8227 - val_loss: 0.5660 - val_accuracy: 0.7889\n",
      "Epoch 9/20\n",
      "44/44 [==============================] - 0s 3ms/step - loss: 0.4780 - accuracy: 0.8259 - val_loss: 0.5200 - val_accuracy: 0.8093\n",
      "Epoch 10/20\n",
      "44/44 [==============================] - 0s 3ms/step - loss: 0.4667 - accuracy: 0.8306 - val_loss: 0.5214 - val_accuracy: 0.8074\n",
      "Epoch 11/20\n",
      "44/44 [==============================] - 0s 3ms/step - loss: 0.4526 - accuracy: 0.8306 - val_loss: 0.5062 - val_accuracy: 0.7981\n",
      "Epoch 12/20\n",
      "44/44 [==============================] - 0s 3ms/step - loss: 0.4503 - accuracy: 0.8157 - val_loss: 0.5009 - val_accuracy: 0.8074\n",
      "Epoch 13/20\n",
      "44/44 [==============================] - 0s 3ms/step - loss: 0.4423 - accuracy: 0.8329 - val_loss: 0.5113 - val_accuracy: 0.8037\n",
      "Epoch 14/20\n",
      "44/44 [==============================] - 0s 3ms/step - loss: 0.4270 - accuracy: 0.8356 - val_loss: 0.4941 - val_accuracy: 0.8130\n",
      "Epoch 15/20\n",
      "44/44 [==============================] - 0s 3ms/step - loss: 0.4331 - accuracy: 0.8347 - val_loss: 0.4913 - val_accuracy: 0.8148\n",
      "Epoch 16/20\n",
      "44/44 [==============================] - 0s 3ms/step - loss: 0.4382 - accuracy: 0.8190 - val_loss: 0.4885 - val_accuracy: 0.7963\n",
      "Epoch 17/20\n",
      "44/44 [==============================] - 0s 3ms/step - loss: 0.4267 - accuracy: 0.8380 - val_loss: 0.5015 - val_accuracy: 0.8000\n",
      "Epoch 18/20\n",
      "44/44 [==============================] - 0s 3ms/step - loss: 0.4282 - accuracy: 0.8347 - val_loss: 0.5027 - val_accuracy: 0.7944\n",
      "Epoch 19/20\n",
      "44/44 [==============================] - 0s 3ms/step - loss: 0.4349 - accuracy: 0.8241 - val_loss: 0.5163 - val_accuracy: 0.7907\n",
      "Epoch 20/20\n",
      "44/44 [==============================] - 0s 3ms/step - loss: 0.4279 - accuracy: 0.8301 - val_loss: 0.5110 - val_accuracy: 0.8056\n",
      "Training for fold 5 ...\n",
      "Epoch 1/20\n",
      "44/44 [==============================] - 1s 6ms/step - loss: 4.4716 - accuracy: 0.7722 - val_loss: 2.7709 - val_accuracy: 0.8370\n",
      "Epoch 2/20\n",
      "44/44 [==============================] - 0s 3ms/step - loss: 1.9962 - accuracy: 0.8000 - val_loss: 1.3438 - val_accuracy: 0.8333\n",
      "Epoch 3/20\n",
      "44/44 [==============================] - 0s 3ms/step - loss: 1.0797 - accuracy: 0.8032 - val_loss: 0.8210 - val_accuracy: 0.8389\n",
      "Epoch 4/20\n",
      "44/44 [==============================] - 0s 3ms/step - loss: 0.7511 - accuracy: 0.8079 - val_loss: 0.6358 - val_accuracy: 0.8500\n",
      "Epoch 5/20\n",
      "44/44 [==============================] - 0s 3ms/step - loss: 0.6067 - accuracy: 0.8088 - val_loss: 0.5384 - val_accuracy: 0.8481\n",
      "Epoch 6/20\n",
      "44/44 [==============================] - 0s 3ms/step - loss: 0.5390 - accuracy: 0.8102 - val_loss: 0.4997 - val_accuracy: 0.8481\n",
      "Epoch 7/20\n",
      "44/44 [==============================] - 0s 3ms/step - loss: 0.5202 - accuracy: 0.8046 - val_loss: 0.4857 - val_accuracy: 0.8333\n",
      "Epoch 8/20\n",
      "44/44 [==============================] - 0s 3ms/step - loss: 0.4909 - accuracy: 0.8088 - val_loss: 0.4630 - val_accuracy: 0.8389\n",
      "Epoch 9/20\n",
      "44/44 [==============================] - 0s 3ms/step - loss: 0.4733 - accuracy: 0.8106 - val_loss: 0.4548 - val_accuracy: 0.8444\n",
      "Epoch 10/20\n",
      "44/44 [==============================] - 0s 3ms/step - loss: 0.4682 - accuracy: 0.8139 - val_loss: 0.4419 - val_accuracy: 0.8463\n",
      "Epoch 11/20\n",
      "44/44 [==============================] - 0s 3ms/step - loss: 0.4646 - accuracy: 0.8194 - val_loss: 0.4507 - val_accuracy: 0.8500\n",
      "Epoch 12/20\n",
      "44/44 [==============================] - 0s 3ms/step - loss: 0.4640 - accuracy: 0.8069 - val_loss: 0.4406 - val_accuracy: 0.8444\n",
      "Epoch 13/20\n",
      "44/44 [==============================] - 0s 3ms/step - loss: 0.4499 - accuracy: 0.8176 - val_loss: 0.4483 - val_accuracy: 0.8463\n",
      "Epoch 14/20\n",
      "44/44 [==============================] - 0s 3ms/step - loss: 0.4481 - accuracy: 0.8245 - val_loss: 0.4419 - val_accuracy: 0.8519\n",
      "Epoch 15/20\n",
      "44/44 [==============================] - 0s 3ms/step - loss: 0.4516 - accuracy: 0.8190 - val_loss: 0.4491 - val_accuracy: 0.8130\n",
      "Epoch 16/20\n",
      "44/44 [==============================] - 0s 3ms/step - loss: 0.4497 - accuracy: 0.8269 - val_loss: 0.4391 - val_accuracy: 0.8500\n",
      "Epoch 17/20\n",
      "44/44 [==============================] - 0s 3ms/step - loss: 0.4523 - accuracy: 0.8176 - val_loss: 0.4595 - val_accuracy: 0.8167\n",
      "Epoch 18/20\n",
      "44/44 [==============================] - 0s 3ms/step - loss: 0.4483 - accuracy: 0.8153 - val_loss: 0.4595 - val_accuracy: 0.8037\n",
      "Epoch 19/20\n",
      "44/44 [==============================] - 0s 3ms/step - loss: 0.4510 - accuracy: 0.8171 - val_loss: 0.4441 - val_accuracy: 0.8241\n",
      "Epoch 20/20\n",
      "44/44 [==============================] - 0s 3ms/step - loss: 0.4380 - accuracy: 0.8176 - val_loss: 0.4397 - val_accuracy: 0.8426\n"
     ]
    }
   ],
   "source": [
    "# Define the K-fold cross validator\n",
    "num_folds = 5\n",
    "kfold = KFold(n_splits=num_folds, shuffle=True)\n",
    "\n",
    "# Lists to store results of each fold\n",
    "all_y_test = []\n",
    "all_y_pred = []\n",
    "\n",
    "# K-fold Cross Validation model evaluation\n",
    "fold_no = 1\n",
    "X= X_train\n",
    "y = y_train\n",
    "for train, test in kfold.split(X, y):\n",
    "\n",
    "    # Define the model architecture\n",
    "    ann = tf.keras.models.Sequential([\n",
    "        tf.keras.layers.Dense(units=240, activation='relu', kernel_regularizer=regularizers.l2(0.01), input_shape=(X.shape[1],)),\n",
    "        tf.keras.layers.Dense(units=120, activation='relu', kernel_regularizer=regularizers.l2(0.01)),\n",
    "        tf.keras.layers.Dense(units=60, activation='relu', kernel_regularizer=regularizers.l2(0.01)),\n",
    "        tf.keras.layers.Dense(units=30, activation='relu', kernel_regularizer=regularizers.l2(0.01)),\n",
    "        tf.keras.layers.Dense(units=1, activation='sigmoid')\n",
    "    ])\n",
    "\n",
    "    # Compile the model\n",
    "    ann.compile(optimizer=keras.optimizers.Adam(learning_rate=0.001), loss='binary_crossentropy', metrics=['accuracy'])\n",
    "  \n",
    "    # Fit the model\n",
    "    print(f'Training for fold {fold_no} ...')\n",
    "    ann.fit(X[train], y[train], batch_size=batch_size, epochs=n_epochs, verbose=1, validation_data=(X[test], y[test]))\n",
    "    \n",
    "    # Generate predictions\n",
    "    y_pred = model.predict(X[test])\n",
    "    y_pred_binary = (y_pred > 0.5).astype(int)\n",
    "    \n",
    "    # Store the true labels and predictions\n",
    "    all_y_test.extend(y[test])\n",
    "    all_y_pred.extend(y_pred_binary.flatten())  # Flatten to ensure it's a 1D array\n",
    "\n",
    "    # Increase fold number\n",
    "    fold_no += 1"
   ]
  },
  {
   "cell_type": "code",
   "execution_count": 44,
   "id": "fa1fbe9d-db9f-4b72-b961-97916f0227ba",
   "metadata": {},
   "outputs": [
    {
     "name": "stdout",
     "output_type": "stream",
     "text": [
      "Overall performance:\n",
      "Accuracy: 0.882962962962963\n",
      "f1_score: 0.7308347529812607\n",
      "              precision    recall  f1-score   support\n",
      "\n",
      "           0       0.90      0.95      0.93      2063\n",
      "           1       0.80      0.67      0.73       637\n",
      "\n",
      "    accuracy                           0.88      2700\n",
      "   macro avg       0.85      0.81      0.83      2700\n",
      "weighted avg       0.88      0.88      0.88      2700\n",
      "\n"
     ]
    },
    {
     "data": {
      "text/html": [
       "<div>\n",
       "<style scoped>\n",
       "    .dataframe tbody tr th:only-of-type {\n",
       "        vertical-align: middle;\n",
       "    }\n",
       "\n",
       "    .dataframe tbody tr th {\n",
       "        vertical-align: top;\n",
       "    }\n",
       "\n",
       "    .dataframe thead th {\n",
       "        text-align: right;\n",
       "    }\n",
       "</style>\n",
       "<table border=\"1\" class=\"dataframe\">\n",
       "  <thead>\n",
       "    <tr style=\"text-align: right;\">\n",
       "      <th></th>\n",
       "      <th>Model</th>\n",
       "      <th>Accuracy</th>\n",
       "      <th>f1_Score</th>\n",
       "    </tr>\n",
       "  </thead>\n",
       "  <tbody>\n",
       "    <tr>\n",
       "      <th>0</th>\n",
       "      <td>LogisticRegression</td>\n",
       "      <td>0.786667</td>\n",
       "      <td>0.529412</td>\n",
       "    </tr>\n",
       "    <tr>\n",
       "      <th>1</th>\n",
       "      <td>nn_shallow</td>\n",
       "      <td>0.820000</td>\n",
       "      <td>0.619718</td>\n",
       "    </tr>\n",
       "    <tr>\n",
       "      <th>2</th>\n",
       "      <td>nn_deep</td>\n",
       "      <td>0.800000</td>\n",
       "      <td>0.538462</td>\n",
       "    </tr>\n",
       "    <tr>\n",
       "      <th>3</th>\n",
       "      <td>nn_deep_weighted</td>\n",
       "      <td>0.766667</td>\n",
       "      <td>0.588235</td>\n",
       "    </tr>\n",
       "    <tr>\n",
       "      <th>4</th>\n",
       "      <td>nn_deep_weighted_5fold</td>\n",
       "      <td>0.882963</td>\n",
       "      <td>0.730835</td>\n",
       "    </tr>\n",
       "  </tbody>\n",
       "</table>\n",
       "</div>"
      ],
      "text/plain": [
       "                    Model  Accuracy  f1_Score\n",
       "0      LogisticRegression  0.786667  0.529412\n",
       "1              nn_shallow  0.820000  0.619718\n",
       "2                 nn_deep  0.800000  0.538462\n",
       "3        nn_deep_weighted  0.766667  0.588235\n",
       "4  nn_deep_weighted_5fold  0.882963  0.730835"
      ]
     },
     "execution_count": 44,
     "metadata": {},
     "output_type": "execute_result"
    }
   ],
   "source": [
    "# Performance assessment\n",
    "# Now, all_y_test and all_y_pred contain all the test labels and predictions across all folds\n",
    "print('Overall performance:')\n",
    "# Evaluate the model\n",
    "accuracy = accuracy_score(all_y_test, all_y_pred)\n",
    "f1 = f1_score(all_y_test, all_y_pred, average='binary')  \n",
    "new_row = {'Model': 'nn_deep_weighted_5fold', 'Accuracy': accuracy, 'f1_Score': f1}\n",
    "new_row_df = pd.DataFrame([new_row])\n",
    "metrics_df = pd.concat([metrics_df, new_row_df], ignore_index=True)\n",
    "print(f'Accuracy: {accuracy}')\n",
    "print(f'f1_score: {f1}')\n",
    "print(classification_report(all_y_test, all_y_pred))\n",
    "metrics_df"
   ]
  },
  {
   "cell_type": "code",
   "execution_count": 45,
   "id": "0500cc6c-491e-472b-8c1b-c516ce4f46e0",
   "metadata": {},
   "outputs": [
    {
     "name": "stdout",
     "output_type": "stream",
     "text": [
      "PDB ID: 7M7B, seq: ['QVQLQQWGAGLLKPSETLSLTCAVYGGSFSGYYWSWIRQPPGKGLEWIGEINHSGSTNYNPSLKSRVTISVDTSKNQFSLKLSSVTAADTAVYYCARRWWLRGAFDIWGQGTTVTVSS', 'NFMLTQPHSVSASPGKTVTIPCTGSSGNIASNYVQWYQQRPGSAPTTVIYEDNQRPSGVPDRFSGSIDSSSNSASLTISGLKTEDEADYYCQSYDNNIQVFGGGTKLTVL']\n",
      "totalCnt: 540, matchCnt: 189, Matched ratio: 0.35\n"
     ]
    }
   ],
   "source": [
    "# show 3D structure\n",
    "offset = int(MAXCNT * 0.8)\n",
    "matchCnt = sum([1 for pred, test in zip(y_pred, y_test) if pred == test])\n",
    "totalCnt = len(y_pred)\n",
    "\n",
    "# Find the first non-empty pdbid and its sequence\n",
    "for i, pdbid in enumerate(pdbids[offset:], start=offset):\n",
    "    if pdbid:  # Checks if pdbid is not empty\n",
    "        seq = seqs[i]\n",
    "        print(f\"PDB ID: {pdbid}, seq: {seq}\")\n",
    "\n",
    "        idStr = f'mmdbid={pdbid}'\n",
    "        # Ensure seq is a string for concatenation\n",
    "        seqStr = ''.join(seq) if isinstance(seq, list) else seq\n",
    "        cmdStr = f'select :{seqStr} | name test; color F00; style proteins sphere'\n",
    "        view = icn3dpy.view(q=idStr, command=cmdStr)\n",
    "        view\n",
    "        break  # Exit the loop after the first match\n",
    "\n",
    "print(f\"totalCnt: {totalCnt}, matchCnt: {matchCnt}, Matched ratio: {matchCnt/totalCnt}\")\n"
   ]
  },
  {
   "cell_type": "code",
   "execution_count": 46,
   "id": "cb8fe2ef-5f1b-4639-a71a-1bf94449be7d",
   "metadata": {},
   "outputs": [
    {
     "name": "stdout",
     "output_type": "stream",
     "text": [
      "mmdbid=7M7B select :QVQLQQWGAGLLKPSETLSLTCAVYGGSFSGYYWSWIRQPPGKGLEWIGEINHSGSTNYNPSLKSRVTISVDTSKNQFSLKLSSVTAADTAVYYCARRWWLRGAFDIWGQGTTVTVSSNFMLTQPHSVSASPGKTVTIPCTGSSGNIASNYVQWYQQRPGSAPTTVIYEDNQRPSGVPDRFSGSIDSSSNSASLTISGLKTEDEADYYCQSYDNNIQVFGGGTKLTVL | name test; color F00; style proteins sphere\n"
     ]
    }
   ],
   "source": [
    "idStr = 'mmdbid=' + pdbid\n",
    "cmdStr = 'select :' + seqStr + ' | name test; color F00; style proteins sphere'\n",
    "print (idStr, cmdStr)"
   ]
  },
  {
   "cell_type": "code",
   "execution_count": 47,
   "id": "11b3e5b3-eea3-4a56-a996-ed73e8c4f50a",
   "metadata": {},
   "outputs": [
    {
     "data": {
      "application/3dmoljs_load.v0": "<div id=\"icn3dviewer17093052305273967\" style=\"position: relative; width: 640px; min-height: 530px; height: auto\">\n        <p id=\"icn3dwarning17093052305273967\" style=\"background-color:#ffcccc;color:black\">You appear to be running in JupyterLab (or JavaScript failed to load for some other reason).  You need to install the extension: <br>\n        <tt>jupyter labextension install jupyterlab_3dmol</tt></p>\n        </div>\n<script>\n\nvar loadScriptAsync = function(uri){\n  return new Promise((resolve, reject) => {\n    var tag = document.createElement('script');\n    tag.src = uri;\n    //tag.async = true;\n    tag.onload = () => {\n      resolve();\n    };\n  var firstScriptTag = document.getElementsByTagName('link')[0];\n  firstScriptTag.parentNode.insertBefore(tag, firstScriptTag);\n  });\n};\n\nvar loadCssAsync = function(uri){\n  return new Promise((resolve, reject) => {\nvar tag = document.createElement('link');\ntag.rel = 'stylesheet';\ntag.href = uri;\n//tag.async = true;\ntag.onload = () => {\n  resolve();\n};\nvar firstScriptTag = document.getElementsByTagName('script')[0];\nfirstScriptTag.parentNode.insertBefore(tag, firstScriptTag);\n  });\n};\n\nif(typeof js === 'undefined') {\n  js = loadScriptAsync(\"https://www.ncbi.nlm.nih.gov/Structure/icn3d/es5/icn3d_all_full.min.js\");\n  \n  css1 = loadCssAsync(\"https://www.ncbi.nlm.nih.gov/Structure/icn3d/lib/jquery-ui-1.13.2.min.css\");\n  css2 = loadCssAsync(\"https://www.ncbi.nlm.nih.gov/Structure/icn3d/icn3d.css\");\n}\n\nvar viewer17093052305273967 = null;\nvar warn = document.getElementById(\"icn3dwarning17093052305273967\");\nif(warn) {\n    warn.parentNode.removeChild(warn);\n}\n\ncss1\n.then(function() { return css2; })\n.then(function() { return js; })\n.then(function() {\ncfg = {divid: \"icn3dviewer17093052305273967\", idname: \"mmdbid\", idvalue: \"7M7B\", mmdbid: \"7M7B\", width: \"640px\", height: \"480px\", mobilemenu: 1, notebook: 1, command: 'select :QVQLQQWGAGLLKPSETLSLTCAVYGGSFSGYYWSWIRQPPGKGLEWIGEINHSGSTNYNPSLKSRVTISVDTSKNQFSLKLSSVTAADTAVYYCARRWWLRGAFDIWGQGTTVTVSSNFMLTQPHSVSASPGKTVTIPCTGSSGNIASNYVQWYQQRPGSAPTTVIYEDNQRPSGVPDRFSGSIDSSSNSASLTISGLKTEDEADYYCQSYDNNIQVFGGGTKLTVL | name test; color F00; style proteins sphere', };\nviewer17093052305273967 = new icn3d.iCn3DUI(cfg);\nviewer17093052305273967.show3DStructure(cfg.pdb);\n});\n</script>",
      "text/html": [
       "<div id=\"icn3dviewer17093052305273967\" style=\"position: relative; width: 640px; min-height: 530px; height: auto\">\n",
       "        <p id=\"icn3dwarning17093052305273967\" style=\"background-color:#ffcccc;color:black\">You appear to be running in JupyterLab (or JavaScript failed to load for some other reason).  You need to install the extension: <br>\n",
       "        <tt>jupyter labextension install jupyterlab_3dmol</tt></p>\n",
       "        </div>\n",
       "<script>\n",
       "\n",
       "var loadScriptAsync = function(uri){\n",
       "  return new Promise((resolve, reject) => {\n",
       "    var tag = document.createElement('script');\n",
       "    tag.src = uri;\n",
       "    //tag.async = true;\n",
       "    tag.onload = () => {\n",
       "      resolve();\n",
       "    };\n",
       "  var firstScriptTag = document.getElementsByTagName('link')[0];\n",
       "  firstScriptTag.parentNode.insertBefore(tag, firstScriptTag);\n",
       "  });\n",
       "};\n",
       "\n",
       "var loadCssAsync = function(uri){\n",
       "  return new Promise((resolve, reject) => {\n",
       "var tag = document.createElement('link');\n",
       "tag.rel = 'stylesheet';\n",
       "tag.href = uri;\n",
       "//tag.async = true;\n",
       "tag.onload = () => {\n",
       "  resolve();\n",
       "};\n",
       "var firstScriptTag = document.getElementsByTagName('script')[0];\n",
       "firstScriptTag.parentNode.insertBefore(tag, firstScriptTag);\n",
       "  });\n",
       "};\n",
       "\n",
       "if(typeof js === 'undefined') {\n",
       "  js = loadScriptAsync(\"https://www.ncbi.nlm.nih.gov/Structure/icn3d/es5/icn3d_all_full.min.js\");\n",
       "  \n",
       "  css1 = loadCssAsync(\"https://www.ncbi.nlm.nih.gov/Structure/icn3d/lib/jquery-ui-1.13.2.min.css\");\n",
       "  css2 = loadCssAsync(\"https://www.ncbi.nlm.nih.gov/Structure/icn3d/icn3d.css\");\n",
       "}\n",
       "\n",
       "var viewer17093052305273967 = null;\n",
       "var warn = document.getElementById(\"icn3dwarning17093052305273967\");\n",
       "if(warn) {\n",
       "    warn.parentNode.removeChild(warn);\n",
       "}\n",
       "\n",
       "css1\n",
       ".then(function() { return css2; })\n",
       ".then(function() { return js; })\n",
       ".then(function() {\n",
       "cfg = {divid: \"icn3dviewer17093052305273967\", idname: \"mmdbid\", idvalue: \"7M7B\", mmdbid: \"7M7B\", width: \"640px\", height: \"480px\", mobilemenu: 1, notebook: 1, command: 'select :QVQLQQWGAGLLKPSETLSLTCAVYGGSFSGYYWSWIRQPPGKGLEWIGEINHSGSTNYNPSLKSRVTISVDTSKNQFSLKLSSVTAADTAVYYCARRWWLRGAFDIWGQGTTVTVSSNFMLTQPHSVSASPGKTVTIPCTGSSGNIASNYVQWYQQRPGSAPTTVIYEDNQRPSGVPDRFSGSIDSSSNSASLTISGLKTEDEADYYCQSYDNNIQVFGGGTKLTVL | name test; color F00; style proteins sphere', };\n",
       "viewer17093052305273967 = new icn3d.iCn3DUI(cfg);\n",
       "viewer17093052305273967.show3DStructure(cfg.pdb);\n",
       "});\n",
       "</script>"
      ]
     },
     "metadata": {},
     "output_type": "display_data"
    },
    {
     "data": {
      "text/plain": [
       "<icn3dpy.view at 0x7f0d841e1a90>"
      ]
     },
     "execution_count": 47,
     "metadata": {},
     "output_type": "execute_result"
    }
   ],
   "source": [
    "view = icn3dpy.view(q=idStr,command=cmdStr)\n",
    "view"
   ]
  },
  {
   "cell_type": "markdown",
   "id": "bb2526a8-8ca8-4be1-917e-572d2043de0e",
   "metadata": {},
   "source": [
    "# Optional"
   ]
  },
  {
   "cell_type": "code",
   "execution_count": null,
   "id": "338ffb76-d87f-49d6-8f64-3ab283ad9c2a",
   "metadata": {},
   "outputs": [],
   "source": [
    "# let dig more into the results:\n",
    "from sklearn.metrics import roc_curve\n",
    "y_probs = ann.predict(X_test)\n",
    "# Calculate FPR, TPR, and thresholds for the ROC curve\n",
    "fpr, tpr, roc_thresholds = roc_curve(y_test, y_probs)\n",
    "import matplotlib.pyplot as plt\n",
    "\n",
    "# Plotting the ROC curve\n",
    "plt.figure(figsize=(10, 6))\n",
    "plt.plot(fpr, tpr, label='ROC Curve')\n",
    "plt.plot([0, 1], [0, 1], 'k--', label='Random Chance')  # random chance line\n",
    "plt.xlabel('False Positive Rate')\n",
    "plt.ylabel('True Positive Rate')\n",
    "plt.title('ROC Curve')\n",
    "plt.legend(loc='best')\n",
    "plt.show()"
   ]
  },
  {
   "cell_type": "code",
   "execution_count": null,
   "id": "e5717914-5a2a-4052-bf57-56b8042d4585",
   "metadata": {},
   "outputs": [],
   "source": [
    "# Define a range of thresholds to evaluate\n",
    "thresholds = np.linspace(0, 1, 101)\n",
    "\n",
    "# Calculate F1 scores for each threshold\n",
    "f1_scores = [f1_score(y_test, y_probs > threshold) for threshold in thresholds]\n",
    "\n",
    "# Plotting F1 scores against thresholds\n",
    "plt.figure(figsize=(10, 6))\n",
    "plt.plot(thresholds, f1_scores, label='F1 Score')\n",
    "plt.xlabel('Threshold')\n",
    "plt.ylabel('F1 Score')\n",
    "plt.title('F1 Score vs. Threshold')\n",
    "plt.legend(loc='best')\n",
    "plt.show()"
   ]
  },
  {
   "cell_type": "code",
   "execution_count": null,
   "id": "81cc9a8b-7508-47b8-9aad-44b040ffbd1c",
   "metadata": {},
   "outputs": [],
   "source": [
    "# let find the optimal threshold for balancing false positives and false negatives \n",
    "# to do that we are using calibration plot.\n",
    "# Step 1: we should predict the probablities\n",
    "y_probs = ann.predict(X_test)\n",
    "# Step 2: Calculate Precision, Recall, and Thresholds\n",
    "from sklearn.metrics import precision_recall_curve\n",
    "# Calculate precision, recall, and thresholds\n",
    "precision, recall, thresholds = precision_recall_curve(y_test, y_probs)\n",
    "# Step 3: Create a Calibration Plot\n",
    "\n",
    "from sklearn.calibration import calibration_curve\n",
    "import matplotlib.pyplot as plt\n",
    "\n",
    "# Calibration curve\n",
    "prob_true, prob_pred = calibration_curve(y_test, y_probs, n_bins=10)\n",
    "\n",
    "# Plotting the calibration curve\n",
    "plt.plot(prob_pred, prob_true, marker='o', linewidth=1, label='ANN')\n",
    "plt.plot([0, 1], [0, 1], linestyle='--', label='Perfectly calibrated')\n",
    "plt.xlabel('Mean predicted probability')\n",
    "plt.ylabel('Fraction of positives')\n",
    "plt.title('Calibration plot')\n",
    "plt.legend()\n",
    "plt.show()"
   ]
  }
 ],
 "metadata": {
  "kernelspec": {
   "display_name": "Python 3 (ipykernel)",
   "language": "python",
   "name": "python3"
  },
  "language_info": {
   "codemirror_mode": {
    "name": "ipython",
    "version": 3
   },
   "file_extension": ".py",
   "mimetype": "text/x-python",
   "name": "python",
   "nbconvert_exporter": "python",
   "pygments_lexer": "ipython3",
   "version": "3.10.12"
  }
 },
 "nbformat": 4,
 "nbformat_minor": 5
}
