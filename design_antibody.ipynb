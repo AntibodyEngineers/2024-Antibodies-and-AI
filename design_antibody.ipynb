{
 "cells": [
  {
   "cell_type": "markdown",
   "metadata": {},
   "source": [
    "# AI-Driven antibody design: enhancing CoV-AbDab with diffusion models and machine learning\n",
    "## Module 2: Design antibody using diffusion model\n",
    "The goal is to introduce sequence diversity to the CDR3 regions that bind to the paratope (Covid spike protein) for optimizing the binding affinity between antibody and antigen.  "
   ]
  },
  {
   "cell_type": "code",
   "execution_count": 11,
   "metadata": {},
   "outputs": [
    {
     "name": "stdout",
     "output_type": "stream",
     "text": [
      "--2024-08-08 02:10:09--  https://files.rcsb.org/download/7X08.pdb\n",
      "Resolving files.rcsb.org (files.rcsb.org)... 132.249.213.241\n",
      "Connecting to files.rcsb.org (files.rcsb.org)|132.249.213.241|:443... connected.\n",
      "HTTP request sent, awaiting response... 200 OK\n",
      "Length: unspecified [application/octet-stream]\n",
      "Saving to: ‘7X08.pdb.1’\n",
      "\n",
      "7X08.pdb.1              [                <=> ]   3.12M   832KB/s    in 3.7s    \n",
      "\n",
      "2024-08-08 02:10:13 (866 KB/s) - ‘7X08.pdb.1’ saved [3268593]\n",
      "\n"
     ]
    }
   ],
   "source": [
    "\n",
    "# download pdb file: Spike protein of SARS-CoV-2 in complex with antibody (2G1) (PDB ID: 7X08)\n",
    "!wget https://files.rcsb.org/download/7X08.pdb"
   ]
  },
  {
   "cell_type": "markdown",
   "metadata": {},
   "source": [
    "## Fix the PDB file"
   ]
  },
  {
   "cell_type": "code",
   "execution_count": 12,
   "metadata": {},
   "outputs": [],
   "source": [
    "import pdbfixer\n",
    "def prepare_protein(\n",
    "    pdb_file, ignore_missing_residues=True, ignore_terminal_missing_residues=True, ph=7.0\n",
    "):\n",
    "    \"\"\"\n",
    "    Use pdbfixer to prepare the protein from a PDB file. Hetero atoms such as ligands are\n",
    "    removed and non-standard residues replaced. Missing atoms to existing residues are added.\n",
    "    Missing residues are ignored by default, but can be included.\n",
    "\n",
    "    Parameters\n",
    "    ----------\n",
    "    pdb_file: pathlib.Path or str\n",
    "        PDB file containing the system to simulate.\n",
    "    ignore_missing_residues: bool, optional\n",
    "        If missing residues should be ignored or built.\n",
    "    ignore_terminal_missing_residues: bool, optional\n",
    "        If missing residues at the beginning and the end of a chain should be ignored or built.\n",
    "    ph: float, optional\n",
    "        pH value used to determine protonation state of residues\n",
    "\n",
    "    Returns\n",
    "    -------\n",
    "    fixer: pdbfixer.pdbfixer.PDBFixer\n",
    "        Prepared protein system.\n",
    "    \"\"\"\n",
    "    fixer = pdbfixer.PDBFixer(str(pdb_file))\n",
    "    fixer.removeHeterogens()  # co-crystallized ligands are unknown to PDBFixer\n",
    "    fixer.findMissingResidues()  # identify missing residues, needed for identification of missing atoms\n",
    "\n",
    "    # if missing terminal residues shall be ignored, remove them from the dictionary\n",
    "    if ignore_terminal_missing_residues:\n",
    "        chains = list(fixer.topology.chains())\n",
    "        keys = fixer.missingResidues.keys()\n",
    "        for key in list(keys):\n",
    "            chain = chains[key[0]]\n",
    "            if key[1] == 0 or key[1] == len(list(chain.residues())):\n",
    "                del fixer.missingResidues[key]\n",
    "\n",
    "    # if all missing residues shall be ignored ignored, clear the dictionary\n",
    "    if ignore_missing_residues:\n",
    "        fixer.missingResidues = {}\n",
    "\n",
    "    fixer.findNonstandardResidues()  # find non-standard residue\n",
    "    fixer.replaceNonstandardResidues()  # replace non-standard residues with standard one\n",
    "    fixer.findMissingAtoms()  # find missing heavy atoms\n",
    "    fixer.addMissingAtoms()  # add missing atoms and residues\n",
    "    fixer.addMissingHydrogens(ph)  # add missing hydrogens\n",
    "    return fixer"
   ]
  },
  {
   "cell_type": "code",
   "execution_count": 3,
   "metadata": {},
   "outputs": [],
   "source": [
    "pdb_path = '7X08.pdb'\n",
    "prepared_protein = prepare_protein(pdb_path, ignore_missing_residues=False)"
   ]
  },
  {
   "cell_type": "code",
   "execution_count": 4,
   "metadata": {},
   "outputs": [],
   "source": [
    "from openmm.app import PDBFile\n",
    "\n",
    "# Define the path where you want to save the prepared protein\n",
    "output_pdb_path = 'prepared_7X08.pdb'\n",
    "\n",
    "# Save the prepared protein to the specified file\n",
    "with open(output_pdb_path, 'w') as output_file:\n",
    "    PDBFile.writeFile(prepared_protein.topology, prepared_protein.positions, output_file)"
   ]
  },
  {
   "cell_type": "code",
   "execution_count": null,
   "metadata": {},
   "outputs": [],
   "source": [
    "# View the prepared protein\n",
    "import nglview as nv\n",
    "\n",
    "# Create a view object for the prepared protein\n",
    "#view = nv.show_pdbid(\"7x08\")\n",
    "view = nv.show_file(output_pdb_path)\n",
    "# Display the view. The 3D view won't show in the saved notebook.\n",
    "view\n",
    "\n",
    "# make sure to install nglview with the listed version of dependencies from the link below\n",
    "# https://github.com/nglviewer/nglview"
   ]
  },
  {
   "cell_type": "markdown",
   "metadata": {},
   "source": [
    "![title11](ab_spike.png)"
   ]
  },
  {
   "cell_type": "markdown",
   "metadata": {},
   "source": []
  },
  {
   "cell_type": "markdown",
   "metadata": {},
   "source": [
    "## Partial Diffusion of specificed regions or CDR3 regions\n",
    "\n"
   ]
  },
  {
   "cell_type": "code",
   "execution_count": null,
   "metadata": {},
   "outputs": [],
   "source": [
    "# run RFdiffusion partial diffusion module to introduce sequence diversity to antibodies\n",
    "!python-rfd scripts/run_inference.py inference.output_prefix=diversify_ab/diversified_antibody inference.input_pdb=pdb/prepared_spike_heavy_light_chain_trimmed.pdb 'contigmap.contigs=[\"65-65/0 214-214/0 211-211\"]' 'contigmap.provide_seq=[0-64,65-149,175-278,279-366,377-489]' diffuser.partial_T=10 inference.num_designs=10\n",
    "\n"
   ]
  },
  {
   "cell_type": "markdown",
   "metadata": {},
   "source": [
    "### Explaination of `contigmap`\n",
    "`contigmap.contigs=[\"65-65/0 214-214/0 211-211\"]` \n",
    "\n",
    "`contigmap.provide_seq=[0-64,65-149,175-278,279-366,377-489]`\n",
    "\n",
    "In RFdiffusion, `contigmap.contigs` and `contigmap.provide_seq` are used to specify the regions or segments of a protein structure that will be considered during the RFdiffusion run.\n",
    "\n",
    "`contigmap.contigs`: Tell RFDiffusion what're in the input PDB file. The first chain has 65 residues: `65-65`. `/0 ` indicates chain termination (must include the space ` `). The next chain has 214 residues (`214-214/0 `), and the chain after that has 211 residues (`211-211`).  \n",
    "\n",
    "`contigmap.provide_seq`: Specify the residue ranges that will be ignored for diffusion. The residue ID starts from 0 (0-indexed). Here we only partially diffuse residue from 150 to 174, and 367 to 376. The following string exclude those ranges: `0-64,65-149,175-278,279-366,377-489` \n"
   ]
  },
  {
   "cell_type": "code",
   "execution_count": null,
   "metadata": {},
   "outputs": [],
   "source": [
    "view = nv.show_file('diversify_ab/diversified_antibody_0.pdb')\n",
    "# Display the view. The 3D view won't show in the saved notebook.\n",
    "view"
   ]
  },
  {
   "cell_type": "markdown",
   "metadata": {},
   "source": [
    "![](ab_diffused.png)\n",
    "Note that only the light and heavy chain of CDR3 are partially diffused. The rest sequence remained constant. "
   ]
  },
  {
   "cell_type": "markdown",
   "metadata": {},
   "source": [
    "## Use ProteinMPNN to generate sequence for the partially diffused structures\n",
    "Feed `diversified_antibody_0.pdb` to the ProteinMPNN package using the following script.\n",
    "\n",
    "Input the residue ID that needs to be filled with amino acid in `design_only_positions` "
   ]
  },
  {
   "cell_type": "markdown",
   "metadata": {},
   "source": [
    "```bash\n",
    "folder_with_pdbs=\"./pdb\"\n",
    "\n",
    "output_dir=\"./output_ab\"\n",
    "if [ ! -d $output_dir ]\n",
    "then\n",
    "    mkdir -p $output_dir\n",
    "fi\n",
    "\n",
    "\n",
    "path_for_parsed_chains=$output_dir\"/parsed_pdbs.jsonl\"\n",
    "path_for_assigned_chains=$output_dir\"/assigned_pdbs.jsonl\"\n",
    "path_for_fixed_positions=$output_dir\"/fixed_pdbs.jsonl\"\n",
    "chains_to_design=\"A\"\n",
    "#The first amino acid in the chain corresponds to 1 and not PDB residues index for now.\n",
    "design_only_positions=\"151 152 153 154 155 156 157 158 159 160 161 162 163 164 165 166 167 168 169 170 171 172 173 174 175 368 369 370 371 372 373 374 375 376 377\" #design only these residues; use flag --specify_non_fixed\n",
    "\n",
    "python ../helper_scripts/parse_multiple_chains.py --input_path=$folder_with_pdbs --output_path=$path_for_parsed_chains\n",
    "\n",
    "python ../helper_scripts/assign_fixed_chains.py --input_path=$path_for_parsed_chains --output_path=$path_for_assigned_chains --chain_list \"$chains_to_design\"\n",
    "\n",
    "python ../helper_scripts/make_fixed_positions_dict.py --input_path=$path_for_parsed_chains --output_path=$path_for_fixed_positions --chain_list \"$chains_to_design\" --position_list \"$design_only_positions\" --specify_non_fixed\n",
    "\n",
    "python ../protein_mpnn_run.py \\\n",
    "        --jsonl_path $path_for_parsed_chains \\\n",
    "        --chain_id_jsonl $path_for_assigned_chains \\\n",
    "        --fixed_positions_jsonl $path_for_fixed_positions \\\n",
    "        --out_folder $output_dir \\\n",
    "        --num_seq_per_target 2 \\\n",
    "        --sampling_temp \"0.1\" \\\n",
    "        --seed 37 \\\n",
    "        --batch_size 1\n",
    "```"
   ]
  },
  {
   "cell_type": "markdown",
   "metadata": {},
   "source": [
    "Inspect file `output_ab/seqs/diversified_antibody_0.fa` and identify the following new sequences: \n",
    "\n",
    "Old CDRH3 sequence: `ARGLIRGIIMTGAFDI`\n",
    "\n",
    "New CDRH3 sequence: `GKAKELNNKLNPSVTE`\n",
    "\n",
    "Old CDRL3 sequence: `SSYAGSNNWV`\n",
    "\n",
    "New CDRL3 sequence: `QSRTSNGGTK`"
   ]
  }
 ],
 "metadata": {
  "kernelspec": {
   "display_name": "Python 3 (ipykernel)",
   "language": "python",
   "name": "python3"
  },
  "language_info": {
   "codemirror_mode": {
    "name": "ipython",
    "version": 3
   },
   "file_extension": ".py",
   "mimetype": "text/x-python",
   "name": "python",
   "nbconvert_exporter": "python",
   "pygments_lexer": "ipython3",
   "version": "3.8.15"
  }
 },
 "nbformat": 4,
 "nbformat_minor": 4
}
