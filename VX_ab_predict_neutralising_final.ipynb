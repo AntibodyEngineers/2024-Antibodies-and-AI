{
 "cells": [
  {
   "cell_type": "markdown",
   "id": "c1d21c69-18ad-433a-9b03-16a2c5122d11",
   "metadata": {},
   "source": [
    "# Prepare Environment"
   ]
  },
  {
   "cell_type": "markdown",
   "id": "a95dd8f0-30d4-44e7-bd86-c951366f30cc",
   "metadata": {},
   "source": [
    "## Install Requirements"
   ]
  },
  {
   "cell_type": "code",
   "execution_count": 1,
   "id": "6924be1b-972f-40c3-950f-fbcc623ceef8",
   "metadata": {},
   "outputs": [],
   "source": [
    "# uncomment to install libraries as necessary\n",
    "\n",
    "#pip install tensorflow\n",
    "#pip install ablang2\n",
    "#pip install tensorboardX\n",
    "#pip install icn3dpy\n",
    "#pip install jupyterlab\n",
    "#jupyterhub labextension \n",
    "#install jupyterlab_3dmol\n",
    "#pip install transformers"
   ]
  },
  {
   "cell_type": "markdown",
   "id": "2e4d4c20-3af6-4636-a99a-82fb17c6063e",
   "metadata": {},
   "source": [
    "## Import Libraries"
   ]
  },
  {
   "cell_type": "code",
   "execution_count": 2,
   "id": "15e490a7-d3a8-40ca-a593-226a81a2b713",
   "metadata": {},
   "outputs": [
    {
     "name": "stderr",
     "output_type": "stream",
     "text": [
      "2024-08-07 16:24:30.895507: I tensorflow/core/platform/cpu_feature_guard.cc:210] This TensorFlow binary is optimized to use available CPU instructions in performance-critical operations.\n",
      "To enable the following instructions: AVX2 FMA, in other operations, rebuild TensorFlow with the appropriate compiler flags.\n",
      "2024-08-07 16:24:31.851337: W tensorflow/compiler/tf2tensorrt/utils/py_utils.cc:38] TF-TRT Warning: Could not find TensorRT\n"
     ]
    }
   ],
   "source": [
    "# Core libraries\n",
    "import os, gc\n",
    "import re\n",
    "import collections\n",
    "import numpy as np\n",
    "import pandas as pd\n",
    "\n",
    "# Visualization libraries\n",
    "import matplotlib.pyplot as plt\n",
    "import seaborn as sns\n",
    "\n",
    "# Machine Learning / Data Processing libraries\n",
    "from sklearn.decomposition import PCA\n",
    "from sklearn.linear_model import LogisticRegression\n",
    "from sklearn.manifold import TSNE\n",
    "from sklearn.metrics import classification_report, confusion_matrix, accuracy_score, f1_score\n",
    "from sklearn.model_selection import GridSearchCV, KFold, StratifiedKFold, train_test_split\n",
    "from sklearn.preprocessing import StandardScaler\n",
    "from sklearn.utils import class_weight\n",
    "\n",
    "# Deep Learning libraries\n",
    "import tensorflow as tf\n",
    "from tensorflow.keras import regularizers\n",
    "import keras\n",
    "import torch\n",
    "\n",
    "# Specialized libraries (assuming these are either third-party or local)\n",
    "import ablang2  \n",
    "# import icn3dpy  "
   ]
  },
  {
   "cell_type": "markdown",
   "id": "effccbf3-d63c-4dfb-9392-bab3708dbcec",
   "metadata": {},
   "source": [
    "# Project Description - Need Update"
   ]
  },
  {
   "cell_type": "markdown",
   "id": "ee4ac2e8-099f-4886-936f-e9fb5f5d75f6",
   "metadata": {},
   "source": [
    "## Overview\n",
    "\n",
    "## General Steps \n",
    "To import and prepare your data for analysis with machine learning models, focusing on VH (variable heavy chain) and VL (variable light chain) sequences along with their corresponding labels, follow these structured steps:\n",
    "\n",
    "1. Import Libraries: Include necessary libraries for data manipulation (e.g., pandas), machine learning, and any specific libraries for handling VH and VL sequences, such as ablang and ablang2 for embedding generation.\n",
    "2. Load Your Data: Use pandas or a similar library to load your dataset from a CSV file or another data source. This dataset should include VH and VL sequences and their corresponding labels indicating antigen neutralization.\n",
    "3. Preprocess Data: Prepare the sequence data according to the input requirements of your pretrained models (ablang and ablang2). This might involve sequence cleaning, encoding, or formatting.\n",
    "4. Load Pretrained Models: Initialize ablang and ablang2 models with pretrained weights, ready to generate embeddings for your sequences.\n",
    "5. Generate Embeddings: Apply the pretrained models to your preprocessed VH and VL sequences to produce embeddings. These embeddings transform the sequence data into a numerical format suitable for machine learning analysis.\n",
    "6. Prepare Final Dataset: Combine the generated embeddings with the corresponding labels into a final dataset. This dataset will serve as the input for subsequent machine learning tasks, such as classification or clustering.\n",
    "7. Machine Learning Analysis: Use the prepared dataset to train machine learning models, evaluate their performance, and perform predictions or exploratory data analysis.\n",
    "\n",
    "## VH (Variable Heavy) and VL (Variable Light)\n",
    "Antibodies, also known as immunoglobulins, are Y-shaped molecules composed of two identical heavy chains and two identical light chains. Each chain consists of variable (V) and constant (C) regions. The variable regions of the heavy and light chains (VH and VL, respectively) are critical for the antibody's specificity because they contain the antigen-binding site. This site binds to specific parts of an antigen, called epitopes, allowing the antibody to recognize and bind to a vast array of pathogens.\n",
    "\n",
    "## VHH (Single Domain Antibodies)\n",
    "VHH refers to a special type of antibody fragment derived from heavy-chain-only antibodies (HcAbs) found in camelids (camels, llamas, and alpacas). Unlike conventional antibodies, HcAbs do not have light chains, so their antigen-binding site consists solely of the variable domain of the heavy chain (VHH). VHH antibodies, also known as nanobodies, are much smaller than regular antibodies, which allows them to reach and bind to hidden epitopes that are inaccessible to conventional antibodies. Their small size, high stability, solubility, and ease of production in microbial systems make VHH antibodies particularly attractive for research, diagnostic, and therapeutic applications.\n",
    "\n",
    "VHorVHH seems to contain both heavy and light weight variables. ablang2_model requires both VH and VL as input sequences to conduct embedding."
   ]
  },
  {
   "cell_type": "markdown",
   "id": "fdca3e7c-a246-4773-9a1a-aef6a30532a3",
   "metadata": {},
   "source": [
    "# Preprocess Data"
   ]
  },
  {
   "cell_type": "markdown",
   "id": "99bd9223-ca2c-496f-8238-1d811f67d845",
   "metadata": {},
   "source": [
    "## Import Data"
   ]
  },
  {
   "cell_type": "code",
   "execution_count": 71,
   "id": "5bb3f21a-00ab-42d5-998b-f1db920e1651",
   "metadata": {},
   "outputs": [
    {
     "data": {
      "text/html": [
       "<div>\n",
       "<style scoped>\n",
       "    .dataframe tbody tr th:only-of-type {\n",
       "        vertical-align: middle;\n",
       "    }\n",
       "\n",
       "    .dataframe tbody tr th {\n",
       "        vertical-align: top;\n",
       "    }\n",
       "\n",
       "    .dataframe thead th {\n",
       "        text-align: right;\n",
       "    }\n",
       "</style>\n",
       "<table border=\"1\" class=\"dataframe\">\n",
       "  <thead>\n",
       "    <tr style=\"text-align: right;\">\n",
       "      <th></th>\n",
       "      <th>Name</th>\n",
       "      <th>Ab or Nb</th>\n",
       "      <th>Binds to</th>\n",
       "      <th>Doesn't Bind to</th>\n",
       "      <th>Neutralising Vs</th>\n",
       "      <th>Not Neutralising Vs</th>\n",
       "      <th>Protein + Epitope</th>\n",
       "      <th>Origin</th>\n",
       "      <th>VHorVHH</th>\n",
       "      <th>VL</th>\n",
       "      <th>...</th>\n",
       "      <th>Light J Gene</th>\n",
       "      <th>CDRH3</th>\n",
       "      <th>CDRL3</th>\n",
       "      <th>Structures</th>\n",
       "      <th>ABB Homology Model (if no structure)</th>\n",
       "      <th>Sources</th>\n",
       "      <th>Date Added</th>\n",
       "      <th>Last Updated</th>\n",
       "      <th>Update Description</th>\n",
       "      <th>Notes/Following Up?</th>\n",
       "    </tr>\n",
       "  </thead>\n",
       "  <tbody>\n",
       "    <tr>\n",
       "      <th>0</th>\n",
       "      <td>Curtis_3548_S-2</td>\n",
       "      <td>Ab</td>\n",
       "      <td>SARS-CoV2_WT;SARS-CoV2_Beta</td>\n",
       "      <td>SARS-CoV2_Omicron-BA1;HKU1</td>\n",
       "      <td>SARS-CoV2_WT (weak)</td>\n",
       "      <td>NaN</td>\n",
       "      <td>S; RBD/non-RBD</td>\n",
       "      <td>B-cells; SARS-CoV2 Human Patient</td>\n",
       "      <td>ND</td>\n",
       "      <td>ND</td>\n",
       "      <td>...</td>\n",
       "      <td>ND</td>\n",
       "      <td>ARGSRNDLRDFDY</td>\n",
       "      <td>QSYNSSLSGLVV</td>\n",
       "      <td>ND</td>\n",
       "      <td>NaN</td>\n",
       "      <td>Nicholas Curtis et al., 2023 (https://www.bior...</td>\n",
       "      <td>Feb 8, 2024</td>\n",
       "      <td>Feb 8, 2024</td>\n",
       "      <td>NaN</td>\n",
       "      <td>Complete</td>\n",
       "    </tr>\n",
       "    <tr>\n",
       "      <th>1</th>\n",
       "      <td>Curtis_3548_S-7</td>\n",
       "      <td>Ab</td>\n",
       "      <td>SARS-CoV2_WT;SARS-CoV2_Beta</td>\n",
       "      <td>SARS-CoV2_Omicron-BA1;HKU1</td>\n",
       "      <td>NaN</td>\n",
       "      <td>SARS-CoV2_WT</td>\n",
       "      <td>S; non-RBD</td>\n",
       "      <td>B-cells; SARS-CoV2 Human Patient</td>\n",
       "      <td>ND</td>\n",
       "      <td>ND</td>\n",
       "      <td>...</td>\n",
       "      <td>ND</td>\n",
       "      <td>AREPYSSGMGGRDY</td>\n",
       "      <td>QQYGSSPYT</td>\n",
       "      <td>ND</td>\n",
       "      <td>NaN</td>\n",
       "      <td>Nicholas Curtis et al., 2023 (https://www.bior...</td>\n",
       "      <td>Feb 8, 2024</td>\n",
       "      <td>Feb 8, 2024</td>\n",
       "      <td>NaN</td>\n",
       "      <td>Complete</td>\n",
       "    </tr>\n",
       "    <tr>\n",
       "      <th>2</th>\n",
       "      <td>Curtis_3548_RBD-15</td>\n",
       "      <td>Ab</td>\n",
       "      <td>SARS-CoV2_WT</td>\n",
       "      <td>SARS-CoV2_Beta;SARS-CoV2_Omicron-BA1;HKU1</td>\n",
       "      <td>NaN</td>\n",
       "      <td>SARS-CoV2_WT</td>\n",
       "      <td>S; iso-RBD</td>\n",
       "      <td>B-cells; SARS-CoV2 Human Patient</td>\n",
       "      <td>ND</td>\n",
       "      <td>ND</td>\n",
       "      <td>...</td>\n",
       "      <td>ND</td>\n",
       "      <td>AKGIYSSSSYWFGP</td>\n",
       "      <td>QAWDSSTVV</td>\n",
       "      <td>ND</td>\n",
       "      <td>NaN</td>\n",
       "      <td>Nicholas Curtis et al., 2023 (https://www.bior...</td>\n",
       "      <td>Feb 8, 2024</td>\n",
       "      <td>Feb 8, 2024</td>\n",
       "      <td>NaN</td>\n",
       "      <td>Binds only non-prefusion stabilised RBD. Complete</td>\n",
       "    </tr>\n",
       "    <tr>\n",
       "      <th>3</th>\n",
       "      <td>8-D9</td>\n",
       "      <td>Ab</td>\n",
       "      <td>SARS-CoV2_WT;SARS-CoV2_Alpha;SARS-CoV2_Beta;SA...</td>\n",
       "      <td>NaN</td>\n",
       "      <td>SARS-CoV2_WT;SARS-CoV2_Alpha;SARS-CoV2_Beta;SA...</td>\n",
       "      <td>NaN</td>\n",
       "      <td>S; RBD</td>\n",
       "      <td>B-cells; SARS-CoV2 Human Vaccinee (BBIBP-CorV)</td>\n",
       "      <td>VQLVESGGGLVQPGGSLRLSCAASGLTVSSNYMNWVRQAPGKGLEW...</td>\n",
       "      <td>DIQMTQSPSFLSASVGDRVTITCRASQGISSYLAWYQQKPGKAPKL...</td>\n",
       "      <td>...</td>\n",
       "      <td>IGKJ3 (Human)</td>\n",
       "      <td>ARDHSGHALDI</td>\n",
       "      <td>QHLNSYPSMYT</td>\n",
       "      <td>https://www.rcsb.org/structure/8J1T;https://ww...</td>\n",
       "      <td>NaN</td>\n",
       "      <td>Wanbo Tai et al., 2023 (https://www.nature.com...</td>\n",
       "      <td>Feb 8, 2024</td>\n",
       "      <td>Feb 8, 2024</td>\n",
       "      <td>NaN</td>\n",
       "      <td>Complete</td>\n",
       "    </tr>\n",
       "    <tr>\n",
       "      <th>4</th>\n",
       "      <td>Sun_1G11</td>\n",
       "      <td>Ab</td>\n",
       "      <td>SARS-CoV2_WT;SARS-CoV2_Alpha;SARS-CoV2_Beta;SA...</td>\n",
       "      <td>NaN</td>\n",
       "      <td>SARS-CoV2_WT;SARS-CoV2_Alpha;SARS-CoV2_Beta;SA...</td>\n",
       "      <td>SARS-CoV2_Omicron-BQ1;SARS-CoV2_Omicron-BQ1.1;...</td>\n",
       "      <td>S; RBD</td>\n",
       "      <td>B-cells; SARS-CoV2 Human Patient</td>\n",
       "      <td>EVQLVESGGGLVQPGRSLRLSCAASGFKFDDYAMHWVRQAPGKGLE...</td>\n",
       "      <td>DIQLTQSPSFLSASVGDRVTITCRASQGIDKYLAWYQQKPGQAPKV...</td>\n",
       "      <td>...</td>\n",
       "      <td>IGKJ3 (Human)</td>\n",
       "      <td>VKDSNYDSSGYLINNFDY</td>\n",
       "      <td>QQLYTFPVT</td>\n",
       "      <td>https://www.rcsb.org/structure/8IX3</td>\n",
       "      <td>NaN</td>\n",
       "      <td>Hui Sun et al., 2023 (https://journals.asm.org...</td>\n",
       "      <td>Feb 8, 2024</td>\n",
       "      <td>Feb 8, 2024</td>\n",
       "      <td>NaN</td>\n",
       "      <td>Complete</td>\n",
       "    </tr>\n",
       "    <tr>\n",
       "      <th>...</th>\n",
       "      <td>...</td>\n",
       "      <td>...</td>\n",
       "      <td>...</td>\n",
       "      <td>...</td>\n",
       "      <td>...</td>\n",
       "      <td>...</td>\n",
       "      <td>...</td>\n",
       "      <td>...</td>\n",
       "      <td>...</td>\n",
       "      <td>...</td>\n",
       "      <td>...</td>\n",
       "      <td>...</td>\n",
       "      <td>...</td>\n",
       "      <td>...</td>\n",
       "      <td>...</td>\n",
       "      <td>...</td>\n",
       "      <td>...</td>\n",
       "      <td>...</td>\n",
       "      <td>...</td>\n",
       "      <td>...</td>\n",
       "      <td>...</td>\n",
       "    </tr>\n",
       "    <tr>\n",
       "      <th>12913</th>\n",
       "      <td>BD55-6725</td>\n",
       "      <td>Ab</td>\n",
       "      <td>SARS-CoV2_WT</td>\n",
       "      <td>NaN</td>\n",
       "      <td>NaN</td>\n",
       "      <td>SARS-CoV2_WT;SARS-CoV2_Omicron-BA1;SARS-CoV2_O...</td>\n",
       "      <td>S; RBD</td>\n",
       "      <td>SARS convalescents</td>\n",
       "      <td>EVQVVESGGGLVKPGGSLRLSCAASGFTFSSYTMNWVRQAPGKGLE...</td>\n",
       "      <td>EIVLAQSPATLSLSPGERAILSCRASQSVNTYLAWYQQKPGQAPRL...</td>\n",
       "      <td>...</td>\n",
       "      <td>IGKJ4 (Human)</td>\n",
       "      <td>ARDRFGEFIYPGALDI</td>\n",
       "      <td>QQRSNWPLT</td>\n",
       "      <td>ND</td>\n",
       "      <td>NaN</td>\n",
       "      <td>Yunlong Cao et al., 2022 (https://www.biorxiv....</td>\n",
       "      <td>Oct 3, 2022</td>\n",
       "      <td>Dec 31, 2022</td>\n",
       "      <td>NaN</td>\n",
       "      <td>Complete</td>\n",
       "    </tr>\n",
       "    <tr>\n",
       "      <th>12914</th>\n",
       "      <td>BD55-6726</td>\n",
       "      <td>Ab</td>\n",
       "      <td>SARS-CoV2_WT</td>\n",
       "      <td>NaN</td>\n",
       "      <td>NaN</td>\n",
       "      <td>SARS-CoV2_WT;SARS-CoV2_Omicron-BA1;SARS-CoV2_O...</td>\n",
       "      <td>S; RBD</td>\n",
       "      <td>SARS convalescents</td>\n",
       "      <td>QMQLVQSGPEVKRPGTSVKVSCEASGFTFSSSAILWVRQPRGQRLE...</td>\n",
       "      <td>EIVLRQSPATVSLSPGERATLSCRASQSVHNYLAWFQQKPGQAPRL...</td>\n",
       "      <td>...</td>\n",
       "      <td>IGKJ1 (Human)</td>\n",
       "      <td>AAMVRGGWWYFDL</td>\n",
       "      <td>QQRSDWPWT</td>\n",
       "      <td>ND</td>\n",
       "      <td>NaN</td>\n",
       "      <td>Yunlong Cao et al., 2022 (https://www.biorxiv....</td>\n",
       "      <td>Oct 3, 2022</td>\n",
       "      <td>Dec 31, 2022</td>\n",
       "      <td>21st Mar '23: Overwrote gene assignment from s...</td>\n",
       "      <td>Complete</td>\n",
       "    </tr>\n",
       "    <tr>\n",
       "      <th>12915</th>\n",
       "      <td>BD55-6727</td>\n",
       "      <td>Ab</td>\n",
       "      <td>SARS-CoV2_WT;SARS-CoV2_Omicron-BA1;SARS-CoV2_WT</td>\n",
       "      <td>NaN</td>\n",
       "      <td>SARS-CoV2_WT;SARS-CoV2_Omicron-BA1 (weak)</td>\n",
       "      <td>SARS-CoV2_Omicron-BA2;SARS-CoV2_Omicron-BA2.75...</td>\n",
       "      <td>S; RBD</td>\n",
       "      <td>SARS convalescents</td>\n",
       "      <td>QVQLVESGGGLVKPGGSLRLSCAASGFTFSDYYMNWIRQAPGKGLE...</td>\n",
       "      <td>DIQMTQSPSSLSASVGDRVTITCRASQSISNYLNWYQQKPGKAPKL...</td>\n",
       "      <td>...</td>\n",
       "      <td>IGKJ2 (Human)</td>\n",
       "      <td>ASDPGGLSELAAEYFHH</td>\n",
       "      <td>QQSHSTPYT</td>\n",
       "      <td>ND</td>\n",
       "      <td>NaN</td>\n",
       "      <td>Yunlong Cao et al., 2022 (https://www.biorxiv....</td>\n",
       "      <td>Oct 3, 2022</td>\n",
       "      <td>Dec 31, 2022</td>\n",
       "      <td>NaN</td>\n",
       "      <td>Complete</td>\n",
       "    </tr>\n",
       "    <tr>\n",
       "      <th>12916</th>\n",
       "      <td>BD55-6728</td>\n",
       "      <td>Ab</td>\n",
       "      <td>SARS-CoV2_WT</td>\n",
       "      <td>NaN</td>\n",
       "      <td>NaN</td>\n",
       "      <td>SARS-CoV2_WT;SARS-CoV2_Omicron-BA1;SARS-CoV2_O...</td>\n",
       "      <td>S; RBD</td>\n",
       "      <td>SARS convalescents</td>\n",
       "      <td>EVQLVESGGGLVQPGGSLRLSCAASGFTFSRFAMHWVRQAPGKGLE...</td>\n",
       "      <td>DIQMTQSPSSLSASLGDRVTITCRASQTISRYLNWYQQKPGKAPKV...</td>\n",
       "      <td>...</td>\n",
       "      <td>IGKJ1 (Human)</td>\n",
       "      <td>ARESTEVTHWYFDL</td>\n",
       "      <td>QQSYVTPEYT</td>\n",
       "      <td>ND</td>\n",
       "      <td>NaN</td>\n",
       "      <td>Yunlong Cao et al., 2022 (https://www.biorxiv....</td>\n",
       "      <td>Oct 3, 2022</td>\n",
       "      <td>Dec 31, 2022</td>\n",
       "      <td>NaN</td>\n",
       "      <td>Complete</td>\n",
       "    </tr>\n",
       "    <tr>\n",
       "      <th>12917</th>\n",
       "      <td>BD55-6729</td>\n",
       "      <td>Ab</td>\n",
       "      <td>SARS-CoV2_WT</td>\n",
       "      <td>NaN</td>\n",
       "      <td>NaN</td>\n",
       "      <td>SARS-CoV2_WT;SARS-CoV2_Omicron-BA1;SARS-CoV2_O...</td>\n",
       "      <td>S; RBD</td>\n",
       "      <td>SARS convalescents</td>\n",
       "      <td>QVQLVQSGAEVKKPGTSMRVSCKASGYTFSTYGIIWVRQAPGQGLE...</td>\n",
       "      <td>SYELTQPPSVSVSPGQTARITCSGDAVATQFLYWYQQKSGQAPVMV...</td>\n",
       "      <td>...</td>\n",
       "      <td>IGLJ2 (Human)</td>\n",
       "      <td>ARQLLFFGDLSGDNGMDV</td>\n",
       "      <td>QSADSRGVV</td>\n",
       "      <td>ND</td>\n",
       "      <td>NaN</td>\n",
       "      <td>Yunlong Cao et al., 2022 (https://www.biorxiv....</td>\n",
       "      <td>Oct 3, 2022</td>\n",
       "      <td>Dec 31, 2022</td>\n",
       "      <td>NaN</td>\n",
       "      <td>Complete</td>\n",
       "    </tr>\n",
       "  </tbody>\n",
       "</table>\n",
       "<p>12918 rows × 23 columns</p>\n",
       "</div>"
      ],
      "text/plain": [
       "                     Name Ab or Nb  \\\n",
       "0         Curtis_3548_S-2       Ab   \n",
       "1         Curtis_3548_S-7       Ab   \n",
       "2      Curtis_3548_RBD-15       Ab   \n",
       "3                    8-D9       Ab   \n",
       "4                Sun_1G11       Ab   \n",
       "...                   ...      ...   \n",
       "12913           BD55-6725       Ab   \n",
       "12914           BD55-6726       Ab   \n",
       "12915           BD55-6727       Ab   \n",
       "12916           BD55-6728       Ab   \n",
       "12917           BD55-6729       Ab   \n",
       "\n",
       "                                                Binds to  \\\n",
       "0                            SARS-CoV2_WT;SARS-CoV2_Beta   \n",
       "1                            SARS-CoV2_WT;SARS-CoV2_Beta   \n",
       "2                                           SARS-CoV2_WT   \n",
       "3      SARS-CoV2_WT;SARS-CoV2_Alpha;SARS-CoV2_Beta;SA...   \n",
       "4      SARS-CoV2_WT;SARS-CoV2_Alpha;SARS-CoV2_Beta;SA...   \n",
       "...                                                  ...   \n",
       "12913                                       SARS-CoV2_WT   \n",
       "12914                                       SARS-CoV2_WT   \n",
       "12915    SARS-CoV2_WT;SARS-CoV2_Omicron-BA1;SARS-CoV2_WT   \n",
       "12916                                       SARS-CoV2_WT   \n",
       "12917                                       SARS-CoV2_WT   \n",
       "\n",
       "                                 Doesn't Bind to  \\\n",
       "0                     SARS-CoV2_Omicron-BA1;HKU1   \n",
       "1                     SARS-CoV2_Omicron-BA1;HKU1   \n",
       "2      SARS-CoV2_Beta;SARS-CoV2_Omicron-BA1;HKU1   \n",
       "3                                            NaN   \n",
       "4                                            NaN   \n",
       "...                                          ...   \n",
       "12913                                        NaN   \n",
       "12914                                        NaN   \n",
       "12915                                        NaN   \n",
       "12916                                        NaN   \n",
       "12917                                        NaN   \n",
       "\n",
       "                                         Neutralising Vs  \\\n",
       "0                                    SARS-CoV2_WT (weak)   \n",
       "1                                                    NaN   \n",
       "2                                                    NaN   \n",
       "3      SARS-CoV2_WT;SARS-CoV2_Alpha;SARS-CoV2_Beta;SA...   \n",
       "4      SARS-CoV2_WT;SARS-CoV2_Alpha;SARS-CoV2_Beta;SA...   \n",
       "...                                                  ...   \n",
       "12913                                                NaN   \n",
       "12914                                                NaN   \n",
       "12915          SARS-CoV2_WT;SARS-CoV2_Omicron-BA1 (weak)   \n",
       "12916                                                NaN   \n",
       "12917                                                NaN   \n",
       "\n",
       "                                     Not Neutralising Vs Protein + Epitope  \\\n",
       "0                                                    NaN    S; RBD/non-RBD   \n",
       "1                                           SARS-CoV2_WT        S; non-RBD   \n",
       "2                                           SARS-CoV2_WT        S; iso-RBD   \n",
       "3                                                    NaN            S; RBD   \n",
       "4      SARS-CoV2_Omicron-BQ1;SARS-CoV2_Omicron-BQ1.1;...            S; RBD   \n",
       "...                                                  ...               ...   \n",
       "12913  SARS-CoV2_WT;SARS-CoV2_Omicron-BA1;SARS-CoV2_O...            S; RBD   \n",
       "12914  SARS-CoV2_WT;SARS-CoV2_Omicron-BA1;SARS-CoV2_O...            S; RBD   \n",
       "12915  SARS-CoV2_Omicron-BA2;SARS-CoV2_Omicron-BA2.75...            S; RBD   \n",
       "12916  SARS-CoV2_WT;SARS-CoV2_Omicron-BA1;SARS-CoV2_O...            S; RBD   \n",
       "12917  SARS-CoV2_WT;SARS-CoV2_Omicron-BA1;SARS-CoV2_O...            S; RBD   \n",
       "\n",
       "                                               Origin  \\\n",
       "0                    B-cells; SARS-CoV2 Human Patient   \n",
       "1                    B-cells; SARS-CoV2 Human Patient   \n",
       "2                    B-cells; SARS-CoV2 Human Patient   \n",
       "3      B-cells; SARS-CoV2 Human Vaccinee (BBIBP-CorV)   \n",
       "4                    B-cells; SARS-CoV2 Human Patient   \n",
       "...                                               ...   \n",
       "12913                              SARS convalescents   \n",
       "12914                              SARS convalescents   \n",
       "12915                              SARS convalescents   \n",
       "12916                              SARS convalescents   \n",
       "12917                              SARS convalescents   \n",
       "\n",
       "                                                 VHorVHH  \\\n",
       "0                                                     ND   \n",
       "1                                                     ND   \n",
       "2                                                     ND   \n",
       "3      VQLVESGGGLVQPGGSLRLSCAASGLTVSSNYMNWVRQAPGKGLEW...   \n",
       "4      EVQLVESGGGLVQPGRSLRLSCAASGFKFDDYAMHWVRQAPGKGLE...   \n",
       "...                                                  ...   \n",
       "12913  EVQVVESGGGLVKPGGSLRLSCAASGFTFSSYTMNWVRQAPGKGLE...   \n",
       "12914  QMQLVQSGPEVKRPGTSVKVSCEASGFTFSSSAILWVRQPRGQRLE...   \n",
       "12915  QVQLVESGGGLVKPGGSLRLSCAASGFTFSDYYMNWIRQAPGKGLE...   \n",
       "12916  EVQLVESGGGLVQPGGSLRLSCAASGFTFSRFAMHWVRQAPGKGLE...   \n",
       "12917  QVQLVQSGAEVKKPGTSMRVSCKASGYTFSTYGIIWVRQAPGQGLE...   \n",
       "\n",
       "                                                      VL  ...   Light J Gene  \\\n",
       "0                                                     ND  ...             ND   \n",
       "1                                                     ND  ...             ND   \n",
       "2                                                     ND  ...             ND   \n",
       "3      DIQMTQSPSFLSASVGDRVTITCRASQGISSYLAWYQQKPGKAPKL...  ...  IGKJ3 (Human)   \n",
       "4      DIQLTQSPSFLSASVGDRVTITCRASQGIDKYLAWYQQKPGQAPKV...  ...  IGKJ3 (Human)   \n",
       "...                                                  ...  ...            ...   \n",
       "12913  EIVLAQSPATLSLSPGERAILSCRASQSVNTYLAWYQQKPGQAPRL...  ...  IGKJ4 (Human)   \n",
       "12914  EIVLRQSPATVSLSPGERATLSCRASQSVHNYLAWFQQKPGQAPRL...  ...  IGKJ1 (Human)   \n",
       "12915  DIQMTQSPSSLSASVGDRVTITCRASQSISNYLNWYQQKPGKAPKL...  ...  IGKJ2 (Human)   \n",
       "12916  DIQMTQSPSSLSASLGDRVTITCRASQTISRYLNWYQQKPGKAPKV...  ...  IGKJ1 (Human)   \n",
       "12917  SYELTQPPSVSVSPGQTARITCSGDAVATQFLYWYQQKSGQAPVMV...  ...  IGLJ2 (Human)   \n",
       "\n",
       "                    CDRH3         CDRL3  \\\n",
       "0           ARGSRNDLRDFDY  QSYNSSLSGLVV   \n",
       "1          AREPYSSGMGGRDY     QQYGSSPYT   \n",
       "2          AKGIYSSSSYWFGP     QAWDSSTVV   \n",
       "3             ARDHSGHALDI   QHLNSYPSMYT   \n",
       "4      VKDSNYDSSGYLINNFDY     QQLYTFPVT   \n",
       "...                   ...           ...   \n",
       "12913    ARDRFGEFIYPGALDI     QQRSNWPLT   \n",
       "12914       AAMVRGGWWYFDL     QQRSDWPWT   \n",
       "12915   ASDPGGLSELAAEYFHH     QQSHSTPYT   \n",
       "12916      ARESTEVTHWYFDL    QQSYVTPEYT   \n",
       "12917  ARQLLFFGDLSGDNGMDV     QSADSRGVV   \n",
       "\n",
       "                                              Structures  \\\n",
       "0                                                     ND   \n",
       "1                                                     ND   \n",
       "2                                                     ND   \n",
       "3      https://www.rcsb.org/structure/8J1T;https://ww...   \n",
       "4                    https://www.rcsb.org/structure/8IX3   \n",
       "...                                                  ...   \n",
       "12913                                                 ND   \n",
       "12914                                                 ND   \n",
       "12915                                                 ND   \n",
       "12916                                                 ND   \n",
       "12917                                                 ND   \n",
       "\n",
       "      ABB Homology Model (if no structure)  \\\n",
       "0                                      NaN   \n",
       "1                                      NaN   \n",
       "2                                      NaN   \n",
       "3                                      NaN   \n",
       "4                                      NaN   \n",
       "...                                    ...   \n",
       "12913                                  NaN   \n",
       "12914                                  NaN   \n",
       "12915                                  NaN   \n",
       "12916                                  NaN   \n",
       "12917                                  NaN   \n",
       "\n",
       "                                                 Sources   Date Added  \\\n",
       "0      Nicholas Curtis et al., 2023 (https://www.bior...  Feb 8, 2024   \n",
       "1      Nicholas Curtis et al., 2023 (https://www.bior...  Feb 8, 2024   \n",
       "2      Nicholas Curtis et al., 2023 (https://www.bior...  Feb 8, 2024   \n",
       "3      Wanbo Tai et al., 2023 (https://www.nature.com...  Feb 8, 2024   \n",
       "4      Hui Sun et al., 2023 (https://journals.asm.org...  Feb 8, 2024   \n",
       "...                                                  ...          ...   \n",
       "12913  Yunlong Cao et al., 2022 (https://www.biorxiv....  Oct 3, 2022   \n",
       "12914  Yunlong Cao et al., 2022 (https://www.biorxiv....  Oct 3, 2022   \n",
       "12915  Yunlong Cao et al., 2022 (https://www.biorxiv....  Oct 3, 2022   \n",
       "12916  Yunlong Cao et al., 2022 (https://www.biorxiv....  Oct 3, 2022   \n",
       "12917  Yunlong Cao et al., 2022 (https://www.biorxiv....  Oct 3, 2022   \n",
       "\n",
       "       Last Updated                                 Update Description  \\\n",
       "0       Feb 8, 2024                                                NaN   \n",
       "1       Feb 8, 2024                                                NaN   \n",
       "2       Feb 8, 2024                                                NaN   \n",
       "3       Feb 8, 2024                                                NaN   \n",
       "4       Feb 8, 2024                                                NaN   \n",
       "...             ...                                                ...   \n",
       "12913  Dec 31, 2022                                                NaN   \n",
       "12914  Dec 31, 2022  21st Mar '23: Overwrote gene assignment from s...   \n",
       "12915  Dec 31, 2022                                                NaN   \n",
       "12916  Dec 31, 2022                                                NaN   \n",
       "12917  Dec 31, 2022                                                NaN   \n",
       "\n",
       "                                     Notes/Following Up?  \n",
       "0                                               Complete  \n",
       "1                                               Complete  \n",
       "2      Binds only non-prefusion stabilised RBD. Complete  \n",
       "3                                               Complete  \n",
       "4                                               Complete  \n",
       "...                                                  ...  \n",
       "12913                                           Complete  \n",
       "12914                                           Complete  \n",
       "12915                                           Complete  \n",
       "12916                                           Complete  \n",
       "12917                                           Complete  \n",
       "\n",
       "[12918 rows x 23 columns]"
      ]
     },
     "execution_count": 71,
     "metadata": {},
     "output_type": "execute_result"
    }
   ],
   "source": [
    "# retrieve dataset and import to dataframe\n",
    "\n",
    "#url = \"https://opig.stats.ox.ac.uk/webapps/covabdab/static/downloads/CoV-AbDab_080224.csv\"\n",
    "fp = \"data/CoV-AbDab_080224.csv\"\n",
    "\n",
    "df = pd.read_csv(fp)\n",
    "df"
   ]
  },
  {
   "cell_type": "code",
   "execution_count": 72,
   "id": "ce9adbed-a9e7-49b0-8c8c-36662e761343",
   "metadata": {},
   "outputs": [
    {
     "name": "stdout",
     "output_type": "stream",
     "text": [
      "<class 'pandas.core.frame.DataFrame'>\n",
      "RangeIndex: 12918 entries, 0 to 12917\n",
      "Data columns (total 23 columns):\n",
      " #   Column                                Non-Null Count  Dtype  \n",
      "---  ------                                --------------  -----  \n",
      " 0   Name                                  12918 non-null  object \n",
      " 1   Ab or Nb                              12918 non-null  object \n",
      " 2   Binds to                              12918 non-null  object \n",
      " 3   Doesn't Bind to                       3201 non-null   object \n",
      " 4   Neutralising Vs                       6373 non-null   object \n",
      " 5   Not Neutralising Vs                   5482 non-null   object \n",
      " 6   Protein + Epitope                     12914 non-null  object \n",
      " 7   Origin                                12913 non-null  object \n",
      " 8   VHorVHH                               12918 non-null  object \n",
      " 9   VL                                    12112 non-null  object \n",
      " 10  Heavy V Gene                          12918 non-null  object \n",
      " 11  Heavy J Gene                          12918 non-null  object \n",
      " 12  Light V Gene                          12112 non-null  object \n",
      " 13  Light J Gene                          12112 non-null  object \n",
      " 14  CDRH3                                 12918 non-null  object \n",
      " 15  CDRL3                                 12107 non-null  object \n",
      " 16  Structures                            12592 non-null  object \n",
      " 17  ABB Homology Model (if no structure)  0 non-null      float64\n",
      " 18  Sources                               12918 non-null  object \n",
      " 19  Date Added                            12918 non-null  object \n",
      " 20  Last Updated                          12918 non-null  object \n",
      " 21  Update Description                    2699 non-null   object \n",
      " 22  Notes/Following Up?                   12918 non-null  object \n",
      "dtypes: float64(1), object(22)\n",
      "memory usage: 2.3+ MB\n"
     ]
    }
   ],
   "source": [
    "df.info()"
   ]
  },
  {
   "cell_type": "markdown",
   "id": "4ad6e081-0088-443d-83c4-a6e582f6161a",
   "metadata": {},
   "source": [
    "## Clean Data"
   ]
  },
  {
   "cell_type": "code",
   "execution_count": 73,
   "id": "280d52f7-41b6-4daf-afe9-82139c4f85b9",
   "metadata": {},
   "outputs": [
    {
     "name": "stderr",
     "output_type": "stream",
     "text": [
      "/tmp/ipykernel_60561/254585956.py:8: FutureWarning: Downcasting object dtype arrays on .fillna, .ffill, .bfill is deprecated and will change in a future version. Call result.infer_objects(copy=False) instead. To opt-in to the future behavior, set `pd.set_option('future.no_silent_downcasting', True)`\n",
      "  df_ML = df_ML[df_ML['Origin'].str.lower().str.contains('human').fillna(False)]\n"
     ]
    },
    {
     "data": {
      "text/html": [
       "<div>\n",
       "<style scoped>\n",
       "    .dataframe tbody tr th:only-of-type {\n",
       "        vertical-align: middle;\n",
       "    }\n",
       "\n",
       "    .dataframe tbody tr th {\n",
       "        vertical-align: top;\n",
       "    }\n",
       "\n",
       "    .dataframe thead th {\n",
       "        text-align: right;\n",
       "    }\n",
       "</style>\n",
       "<table border=\"1\" class=\"dataframe\">\n",
       "  <thead>\n",
       "    <tr style=\"text-align: right;\">\n",
       "      <th></th>\n",
       "      <th>Name</th>\n",
       "      <th>Origin</th>\n",
       "      <th>Neutralising Vs</th>\n",
       "      <th>CDRH3</th>\n",
       "      <th>CDRL3</th>\n",
       "      <th>VHorVHH</th>\n",
       "      <th>VL</th>\n",
       "      <th>isNeutralising</th>\n",
       "    </tr>\n",
       "  </thead>\n",
       "  <tbody>\n",
       "    <tr>\n",
       "      <th>0</th>\n",
       "      <td>Curtis_3548_S-2</td>\n",
       "      <td>B-cells; SARS-CoV2 Human Patient</td>\n",
       "      <td>SARS-CoV2_WT (weak)</td>\n",
       "      <td>ARGSRNDLRDFDY</td>\n",
       "      <td>QSYNSSLSGLVV</td>\n",
       "      <td>ND</td>\n",
       "      <td>ND</td>\n",
       "      <td>1</td>\n",
       "    </tr>\n",
       "    <tr>\n",
       "      <th>1</th>\n",
       "      <td>Curtis_3548_S-7</td>\n",
       "      <td>B-cells; SARS-CoV2 Human Patient</td>\n",
       "      <td>NaN</td>\n",
       "      <td>AREPYSSGMGGRDY</td>\n",
       "      <td>QQYGSSPYT</td>\n",
       "      <td>ND</td>\n",
       "      <td>ND</td>\n",
       "      <td>0</td>\n",
       "    </tr>\n",
       "    <tr>\n",
       "      <th>2</th>\n",
       "      <td>Curtis_3548_RBD-15</td>\n",
       "      <td>B-cells; SARS-CoV2 Human Patient</td>\n",
       "      <td>NaN</td>\n",
       "      <td>AKGIYSSSSYWFGP</td>\n",
       "      <td>QAWDSSTVV</td>\n",
       "      <td>ND</td>\n",
       "      <td>ND</td>\n",
       "      <td>0</td>\n",
       "    </tr>\n",
       "    <tr>\n",
       "      <th>3</th>\n",
       "      <td>8-D9</td>\n",
       "      <td>B-cells; SARS-CoV2 Human Vaccinee (BBIBP-CorV)</td>\n",
       "      <td>SARS-CoV2_WT;SARS-CoV2_Alpha;SARS-CoV2_Beta;SA...</td>\n",
       "      <td>ARDHSGHALDI</td>\n",
       "      <td>QHLNSYPSMYT</td>\n",
       "      <td>VQLVESGGGLVQPGGSLRLSCAASGLTVSSNYMNWVRQAPGKGLEW...</td>\n",
       "      <td>DIQMTQSPSFLSASVGDRVTITCRASQGISSYLAWYQQKPGKAPKL...</td>\n",
       "      <td>1</td>\n",
       "    </tr>\n",
       "    <tr>\n",
       "      <th>4</th>\n",
       "      <td>Sun_1G11</td>\n",
       "      <td>B-cells; SARS-CoV2 Human Patient</td>\n",
       "      <td>SARS-CoV2_WT;SARS-CoV2_Alpha;SARS-CoV2_Beta;SA...</td>\n",
       "      <td>VKDSNYDSSGYLINNFDY</td>\n",
       "      <td>QQLYTFPVT</td>\n",
       "      <td>EVQLVESGGGLVQPGRSLRLSCAASGFKFDDYAMHWVRQAPGKGLE...</td>\n",
       "      <td>DIQLTQSPSFLSASVGDRVTITCRASQGIDKYLAWYQQKPGQAPKV...</td>\n",
       "      <td>1</td>\n",
       "    </tr>\n",
       "  </tbody>\n",
       "</table>\n",
       "</div>"
      ],
      "text/plain": [
       "                 Name                                          Origin  \\\n",
       "0     Curtis_3548_S-2                B-cells; SARS-CoV2 Human Patient   \n",
       "1     Curtis_3548_S-7                B-cells; SARS-CoV2 Human Patient   \n",
       "2  Curtis_3548_RBD-15                B-cells; SARS-CoV2 Human Patient   \n",
       "3                8-D9  B-cells; SARS-CoV2 Human Vaccinee (BBIBP-CorV)   \n",
       "4            Sun_1G11                B-cells; SARS-CoV2 Human Patient   \n",
       "\n",
       "                                     Neutralising Vs               CDRH3  \\\n",
       "0                                SARS-CoV2_WT (weak)       ARGSRNDLRDFDY   \n",
       "1                                                NaN      AREPYSSGMGGRDY   \n",
       "2                                                NaN      AKGIYSSSSYWFGP   \n",
       "3  SARS-CoV2_WT;SARS-CoV2_Alpha;SARS-CoV2_Beta;SA...         ARDHSGHALDI   \n",
       "4  SARS-CoV2_WT;SARS-CoV2_Alpha;SARS-CoV2_Beta;SA...  VKDSNYDSSGYLINNFDY   \n",
       "\n",
       "          CDRL3                                            VHorVHH  \\\n",
       "0  QSYNSSLSGLVV                                                 ND   \n",
       "1     QQYGSSPYT                                                 ND   \n",
       "2     QAWDSSTVV                                                 ND   \n",
       "3   QHLNSYPSMYT  VQLVESGGGLVQPGGSLRLSCAASGLTVSSNYMNWVRQAPGKGLEW...   \n",
       "4     QQLYTFPVT  EVQLVESGGGLVQPGRSLRLSCAASGFKFDDYAMHWVRQAPGKGLE...   \n",
       "\n",
       "                                                  VL  isNeutralising  \n",
       "0                                                 ND               1  \n",
       "1                                                 ND               0  \n",
       "2                                                 ND               0  \n",
       "3  DIQMTQSPSFLSASVGDRVTITCRASQGISSYLAWYQQKPGKAPKL...               1  \n",
       "4  DIQLTQSPSFLSASVGDRVTITCRASQGIDKYLAWYQQKPGQAPKV...               1  "
      ]
     },
     "execution_count": 73,
     "metadata": {},
     "output_type": "execute_result"
    }
   ],
   "source": [
    "# keep columns for data cleaning\n",
    "cols_for_analysis = ['Name','Origin', 'Neutralising Vs', 'CDRH3', 'CDRL3', 'VHorVHH', 'VL']\n",
    "df_ML = df[cols_for_analysis]\n",
    "\n",
    "# keep records of human origin, filter column \"Origin\" that\n",
    "## contains the case-insensitive string \"human,\" and\n",
    "## is not NaN\n",
    "df_ML = df_ML[df_ML['Origin'].str.lower().str.contains('human').fillna(False)]\n",
    "\n",
    "# define binary label isNeurtalising\n",
    "df_ML.loc[:,'isNeutralising'] = 0\n",
    "df_ML.loc[:,'isNeutralising'] = df_ML['Neutralising Vs'].apply(lambda x: 0 if pd.isna(x) else 1)\n",
    "\n",
    "df_ML.head(5)"
   ]
  },
  {
   "cell_type": "code",
   "execution_count": 74,
   "id": "0b8cb9b0-a2a7-4ad5-80d9-a51a0c91a1a4",
   "metadata": {},
   "outputs": [
    {
     "data": {
      "text/plain": [
       "'[<->*X|MRHKDESTNQCGPAVIFYWL]+'"
      ]
     },
     "execution_count": 74,
     "metadata": {},
     "output_type": "execute_result"
    }
   ],
   "source": [
    "# Vocab copied from the ablang2\n",
    "ablang_vocab = {\n",
    "    \"<\": 0,    # Start token\n",
    "    \"-\": 21,   # Padding token\n",
    "    \">\": 22,   # End token\n",
    "    \"*\": 23,   # Mask token\n",
    "    \"X\": 24,   # Unknown (residue) token\n",
    "    \"|\": 25,   # Separation (of heavy and light chain) token\n",
    "    \"M\": 1, \n",
    "    \"R\": 2, \n",
    "    \"H\": 3, \n",
    "    \"K\": 4, \n",
    "    \"D\": 5, \n",
    "    \"E\": 6, \n",
    "    \"S\": 7, \n",
    "    \"T\": 8, \n",
    "    \"N\": 9, \n",
    "    \"Q\": 10, \n",
    "    \"C\": 11,\n",
    "    \"G\": 12, \n",
    "    \"P\": 13, \n",
    "    \"A\": 14, \n",
    "    \"V\": 15, \n",
    "    \"I\": 16, \n",
    "    \"F\": 17, \n",
    "    \"Y\": 18, \n",
    "    \"W\": 19, \n",
    "    \"L\": 20\n",
    "}\n",
    "\n",
    "\"[{}]+\".format(\"\".join(ablang_vocab.keys()))"
   ]
  },
  {
   "cell_type": "code",
   "execution_count": 75,
   "id": "eb8cc0c9-2726-48b9-92a4-d7a911077641",
   "metadata": {},
   "outputs": [
    {
     "data": {
      "text/html": [
       "<div>\n",
       "<style scoped>\n",
       "    .dataframe tbody tr th:only-of-type {\n",
       "        vertical-align: middle;\n",
       "    }\n",
       "\n",
       "    .dataframe tbody tr th {\n",
       "        vertical-align: top;\n",
       "    }\n",
       "\n",
       "    .dataframe thead th {\n",
       "        text-align: right;\n",
       "    }\n",
       "</style>\n",
       "<table border=\"1\" class=\"dataframe\">\n",
       "  <thead>\n",
       "    <tr style=\"text-align: right;\">\n",
       "      <th></th>\n",
       "      <th>Name</th>\n",
       "      <th>Origin</th>\n",
       "      <th>Neutralising Vs</th>\n",
       "      <th>CDRH3</th>\n",
       "      <th>CDRL3</th>\n",
       "      <th>VHorVHH</th>\n",
       "      <th>VL</th>\n",
       "      <th>isNeutralising</th>\n",
       "      <th>seq_cdr3</th>\n",
       "    </tr>\n",
       "  </thead>\n",
       "  <tbody>\n",
       "    <tr>\n",
       "      <th>0</th>\n",
       "      <td>Curtis_3548_S-2</td>\n",
       "      <td>B-cells; SARS-CoV2 Human Patient</td>\n",
       "      <td>SARS-CoV2_WT (weak)</td>\n",
       "      <td>ARGSRNDLRDFDY</td>\n",
       "      <td>QSYNSSLSGLVV</td>\n",
       "      <td>ND</td>\n",
       "      <td>ND</td>\n",
       "      <td>1</td>\n",
       "      <td>[ARGSRNDLRDFDY, QSYNSSLSGLVV]</td>\n",
       "    </tr>\n",
       "    <tr>\n",
       "      <th>1</th>\n",
       "      <td>Curtis_3548_S-7</td>\n",
       "      <td>B-cells; SARS-CoV2 Human Patient</td>\n",
       "      <td>NaN</td>\n",
       "      <td>AREPYSSGMGGRDY</td>\n",
       "      <td>QQYGSSPYT</td>\n",
       "      <td>ND</td>\n",
       "      <td>ND</td>\n",
       "      <td>0</td>\n",
       "      <td>[AREPYSSGMGGRDY, QQYGSSPYT]</td>\n",
       "    </tr>\n",
       "    <tr>\n",
       "      <th>2</th>\n",
       "      <td>Curtis_3548_RBD-15</td>\n",
       "      <td>B-cells; SARS-CoV2 Human Patient</td>\n",
       "      <td>NaN</td>\n",
       "      <td>AKGIYSSSSYWFGP</td>\n",
       "      <td>QAWDSSTVV</td>\n",
       "      <td>ND</td>\n",
       "      <td>ND</td>\n",
       "      <td>0</td>\n",
       "      <td>[AKGIYSSSSYWFGP, QAWDSSTVV]</td>\n",
       "    </tr>\n",
       "    <tr>\n",
       "      <th>3</th>\n",
       "      <td>8-D9</td>\n",
       "      <td>B-cells; SARS-CoV2 Human Vaccinee (BBIBP-CorV)</td>\n",
       "      <td>SARS-CoV2_WT;SARS-CoV2_Alpha;SARS-CoV2_Beta;SA...</td>\n",
       "      <td>ARDHSGHALDI</td>\n",
       "      <td>QHLNSYPSMYT</td>\n",
       "      <td>VQLVESGGGLVQPGGSLRLSCAASGLTVSSNYMNWVRQAPGKGLEW...</td>\n",
       "      <td>DIQMTQSPSFLSASVGDRVTITCRASQGISSYLAWYQQKPGKAPKL...</td>\n",
       "      <td>1</td>\n",
       "      <td>[ARDHSGHALDI, QHLNSYPSMYT]</td>\n",
       "    </tr>\n",
       "    <tr>\n",
       "      <th>4</th>\n",
       "      <td>Sun_1G11</td>\n",
       "      <td>B-cells; SARS-CoV2 Human Patient</td>\n",
       "      <td>SARS-CoV2_WT;SARS-CoV2_Alpha;SARS-CoV2_Beta;SA...</td>\n",
       "      <td>VKDSNYDSSGYLINNFDY</td>\n",
       "      <td>QQLYTFPVT</td>\n",
       "      <td>EVQLVESGGGLVQPGRSLRLSCAASGFKFDDYAMHWVRQAPGKGLE...</td>\n",
       "      <td>DIQLTQSPSFLSASVGDRVTITCRASQGIDKYLAWYQQKPGQAPKV...</td>\n",
       "      <td>1</td>\n",
       "      <td>[VKDSNYDSSGYLINNFDY, QQLYTFPVT]</td>\n",
       "    </tr>\n",
       "    <tr>\n",
       "      <th>...</th>\n",
       "      <td>...</td>\n",
       "      <td>...</td>\n",
       "      <td>...</td>\n",
       "      <td>...</td>\n",
       "      <td>...</td>\n",
       "      <td>...</td>\n",
       "      <td>...</td>\n",
       "      <td>...</td>\n",
       "      <td>...</td>\n",
       "    </tr>\n",
       "    <tr>\n",
       "      <th>11173</th>\n",
       "      <td>ZWD12</td>\n",
       "      <td>B-cells (SARS-CoV2 Vaccinated Human)</td>\n",
       "      <td>SARS-CoV2_WT;SARS-CoV2_Alpha;SARS-CoV2_Beta;SA...</td>\n",
       "      <td>VKDRTDWELIRGYFGH</td>\n",
       "      <td>QQRIIWPPYT</td>\n",
       "      <td>EVQLVESGGGLVQPGGTLRLSCVASGFSFSNYWMSWVRQAPGKGLE...</td>\n",
       "      <td>DIVMTQTPSSLSLSPGDRATLSCRASENIINYLAWYQQRPGQSPRL...</td>\n",
       "      <td>1</td>\n",
       "      <td>[VKDRTDWELIRGYFGH, QQRIIWPPYT]</td>\n",
       "    </tr>\n",
       "    <tr>\n",
       "      <th>11174</th>\n",
       "      <td>ZWC12</td>\n",
       "      <td>B-cells (SARS-CoV2 Vaccinated Human)</td>\n",
       "      <td>SARS-CoV2_WT;SARS-CoV2_Alpha;SARS-CoV2_Beta;SA...</td>\n",
       "      <td>AKGELLWFGDLLHNWFDP</td>\n",
       "      <td>QQYDSWPGT</td>\n",
       "      <td>EVQLVESGGALVQPGGSLRLSCAASGFTFANYAMSWVRQAPGKGLE...</td>\n",
       "      <td>DIQMTQSPFSLSVSPGERATLSCRASQSVSTNLAWYQQKPGQAPRL...</td>\n",
       "      <td>1</td>\n",
       "      <td>[AKGELLWFGDLLHNWFDP, QQYDSWPGT]</td>\n",
       "    </tr>\n",
       "    <tr>\n",
       "      <th>11175</th>\n",
       "      <td>ZWD11</td>\n",
       "      <td>B-cells (SARS-CoV2 Vaccinated Human)</td>\n",
       "      <td>SARS-CoV2_WT;SARS-CoV2_Alpha;SARS-CoV2_Beta;SA...</td>\n",
       "      <td>ARDQADYYYGSGCIV</td>\n",
       "      <td>QQYSNTPLT</td>\n",
       "      <td>EVQLVESGAEVRKPGASVKLSCKASGYTFTSYYIHWVRQAPGQGLE...</td>\n",
       "      <td>DIQMTQSPATLAVSLGERATINCKSSQSVFYTSNNKNYLAWYQQKP...</td>\n",
       "      <td>1</td>\n",
       "      <td>[ARDQADYYYGSGCIV, QQYSNTPLT]</td>\n",
       "    </tr>\n",
       "    <tr>\n",
       "      <th>11176</th>\n",
       "      <td>ZWC10</td>\n",
       "      <td>B-cells (SARS-CoV2 Vaccinated Human)</td>\n",
       "      <td>NaN</td>\n",
       "      <td>ARDEQKDRAMVTLPDY</td>\n",
       "      <td>QQSYNTPPWT</td>\n",
       "      <td>EVQLVESGGGVVQPGRSLRLSCAASGFTFSAYGVHWVRQAPGKGLE...</td>\n",
       "      <td>AIRMTQSPASLSASVGDRITITCRASQSISSYLNWYQHKPGKAPKL...</td>\n",
       "      <td>0</td>\n",
       "      <td>[ARDEQKDRAMVTLPDY, QQSYNTPPWT]</td>\n",
       "    </tr>\n",
       "    <tr>\n",
       "      <th>11177</th>\n",
       "      <td>ZWG9</td>\n",
       "      <td>B-cells (SARS-CoV2 Vaccinated Human)</td>\n",
       "      <td>NaN</td>\n",
       "      <td>ARELDYYGSGSYPDY</td>\n",
       "      <td>QTWGAAVWV</td>\n",
       "      <td>EVQLVESGGGVVQPGRSLRLSCAVSGFTFSSYAMHWVRQTPGKGLE...</td>\n",
       "      <td>QLVLTQSPSASASLGASVKLTCTLSSGHSSYAIAWHQQQPEKGPRF...</td>\n",
       "      <td>0</td>\n",
       "      <td>[ARELDYYGSGSYPDY, QTWGAAVWV]</td>\n",
       "    </tr>\n",
       "  </tbody>\n",
       "</table>\n",
       "<p>8945 rows × 9 columns</p>\n",
       "</div>"
      ],
      "text/plain": [
       "                     Name                                          Origin  \\\n",
       "0         Curtis_3548_S-2                B-cells; SARS-CoV2 Human Patient   \n",
       "1         Curtis_3548_S-7                B-cells; SARS-CoV2 Human Patient   \n",
       "2      Curtis_3548_RBD-15                B-cells; SARS-CoV2 Human Patient   \n",
       "3                    8-D9  B-cells; SARS-CoV2 Human Vaccinee (BBIBP-CorV)   \n",
       "4                Sun_1G11                B-cells; SARS-CoV2 Human Patient   \n",
       "...                   ...                                             ...   \n",
       "11173               ZWD12            B-cells (SARS-CoV2 Vaccinated Human)   \n",
       "11174               ZWC12            B-cells (SARS-CoV2 Vaccinated Human)   \n",
       "11175               ZWD11            B-cells (SARS-CoV2 Vaccinated Human)   \n",
       "11176               ZWC10            B-cells (SARS-CoV2 Vaccinated Human)   \n",
       "11177                ZWG9            B-cells (SARS-CoV2 Vaccinated Human)   \n",
       "\n",
       "                                         Neutralising Vs               CDRH3  \\\n",
       "0                                    SARS-CoV2_WT (weak)       ARGSRNDLRDFDY   \n",
       "1                                                    NaN      AREPYSSGMGGRDY   \n",
       "2                                                    NaN      AKGIYSSSSYWFGP   \n",
       "3      SARS-CoV2_WT;SARS-CoV2_Alpha;SARS-CoV2_Beta;SA...         ARDHSGHALDI   \n",
       "4      SARS-CoV2_WT;SARS-CoV2_Alpha;SARS-CoV2_Beta;SA...  VKDSNYDSSGYLINNFDY   \n",
       "...                                                  ...                 ...   \n",
       "11173  SARS-CoV2_WT;SARS-CoV2_Alpha;SARS-CoV2_Beta;SA...    VKDRTDWELIRGYFGH   \n",
       "11174  SARS-CoV2_WT;SARS-CoV2_Alpha;SARS-CoV2_Beta;SA...  AKGELLWFGDLLHNWFDP   \n",
       "11175  SARS-CoV2_WT;SARS-CoV2_Alpha;SARS-CoV2_Beta;SA...     ARDQADYYYGSGCIV   \n",
       "11176                                                NaN    ARDEQKDRAMVTLPDY   \n",
       "11177                                                NaN     ARELDYYGSGSYPDY   \n",
       "\n",
       "              CDRL3                                            VHorVHH  \\\n",
       "0      QSYNSSLSGLVV                                                 ND   \n",
       "1         QQYGSSPYT                                                 ND   \n",
       "2         QAWDSSTVV                                                 ND   \n",
       "3       QHLNSYPSMYT  VQLVESGGGLVQPGGSLRLSCAASGLTVSSNYMNWVRQAPGKGLEW...   \n",
       "4         QQLYTFPVT  EVQLVESGGGLVQPGRSLRLSCAASGFKFDDYAMHWVRQAPGKGLE...   \n",
       "...             ...                                                ...   \n",
       "11173    QQRIIWPPYT  EVQLVESGGGLVQPGGTLRLSCVASGFSFSNYWMSWVRQAPGKGLE...   \n",
       "11174     QQYDSWPGT  EVQLVESGGALVQPGGSLRLSCAASGFTFANYAMSWVRQAPGKGLE...   \n",
       "11175     QQYSNTPLT  EVQLVESGAEVRKPGASVKLSCKASGYTFTSYYIHWVRQAPGQGLE...   \n",
       "11176    QQSYNTPPWT  EVQLVESGGGVVQPGRSLRLSCAASGFTFSAYGVHWVRQAPGKGLE...   \n",
       "11177     QTWGAAVWV  EVQLVESGGGVVQPGRSLRLSCAVSGFTFSSYAMHWVRQTPGKGLE...   \n",
       "\n",
       "                                                      VL  isNeutralising  \\\n",
       "0                                                     ND               1   \n",
       "1                                                     ND               0   \n",
       "2                                                     ND               0   \n",
       "3      DIQMTQSPSFLSASVGDRVTITCRASQGISSYLAWYQQKPGKAPKL...               1   \n",
       "4      DIQLTQSPSFLSASVGDRVTITCRASQGIDKYLAWYQQKPGQAPKV...               1   \n",
       "...                                                  ...             ...   \n",
       "11173  DIVMTQTPSSLSLSPGDRATLSCRASENIINYLAWYQQRPGQSPRL...               1   \n",
       "11174  DIQMTQSPFSLSVSPGERATLSCRASQSVSTNLAWYQQKPGQAPRL...               1   \n",
       "11175  DIQMTQSPATLAVSLGERATINCKSSQSVFYTSNNKNYLAWYQQKP...               1   \n",
       "11176  AIRMTQSPASLSASVGDRITITCRASQSISSYLNWYQHKPGKAPKL...               0   \n",
       "11177  QLVLTQSPSASASLGASVKLTCTLSSGHSSYAIAWHQQQPEKGPRF...               0   \n",
       "\n",
       "                              seq_cdr3  \n",
       "0        [ARGSRNDLRDFDY, QSYNSSLSGLVV]  \n",
       "1          [AREPYSSGMGGRDY, QQYGSSPYT]  \n",
       "2          [AKGIYSSSSYWFGP, QAWDSSTVV]  \n",
       "3           [ARDHSGHALDI, QHLNSYPSMYT]  \n",
       "4      [VKDSNYDSSGYLINNFDY, QQLYTFPVT]  \n",
       "...                                ...  \n",
       "11173   [VKDRTDWELIRGYFGH, QQRIIWPPYT]  \n",
       "11174  [AKGELLWFGDLLHNWFDP, QQYDSWPGT]  \n",
       "11175     [ARDQADYYYGSGCIV, QQYSNTPLT]  \n",
       "11176   [ARDEQKDRAMVTLPDY, QQSYNTPPWT]  \n",
       "11177     [ARELDYYGSGSYPDY, QTWGAAVWV]  \n",
       "\n",
       "[8945 rows x 9 columns]"
      ]
     },
     "execution_count": 75,
     "metadata": {},
     "output_type": "execute_result"
    }
   ],
   "source": [
    "# Clean \"CDRH3\" and \"CDRL3\" columns\n",
    "\n",
    "## check for valid patterns\n",
    "pattern_valid = \"[{}]+\".format(\"\".join(ablang_vocab.keys()))\n",
    "df_ML['CDRH3'] = df_ML['CDRH3'].apply(lambda x: np.NaN if x == 'ND' else x)\n",
    "df_ML['CDRL3'] = df_ML['CDRL3'].apply(lambda x: np.NaN if x == 'ND' else x)\n",
    "df_ML = df_ML[df_ML['CDRH3'].fillna(' ').str.match(pattern_valid)]\n",
    "df_ML = df_ML[df_ML['CDRL3'].fillna(' ').str.match(pattern_valid)]\n",
    "\n",
    "## remove white spaces in sequence\n",
    "df_ML['CDRH3'] = df_ML['CDRH3'].apply(lambda x: x.replace(\" \", \"\"))\n",
    "df_ML['CDRL3'] = df_ML['CDRL3'].apply(lambda x: x.replace(\" \", \"\"))\n",
    "\n",
    "## group CDRH3 and CDRL3 pairs in list format\n",
    "df_ML.loc[:, 'seq_cdr3'] = df_ML[['CDRH3', 'CDRL3']] \\\n",
    "                        .fillna(\"\") \\\n",
    "                        .apply(lambda x: [x['CDRH3'], x['CDRL3']], axis=1)\n",
    "\n",
    "df_ML"
   ]
  },
  {
   "cell_type": "code",
   "execution_count": 76,
   "id": "e08933ab-59aa-4713-b514-4af4eee88281",
   "metadata": {},
   "outputs": [
    {
     "data": {
      "text/plain": [
       "Index(['Name', 'Origin', 'Neutralising Vs', 'CDRH3', 'CDRL3', 'VHorVHH', 'VL',\n",
       "       'isNeutralising', 'seq_cdr3'],\n",
       "      dtype='object')"
      ]
     },
     "execution_count": 76,
     "metadata": {},
     "output_type": "execute_result"
    }
   ],
   "source": [
    "df_ML.columns"
   ]
  },
  {
   "cell_type": "raw",
   "id": "7edfb642-3050-4f5b-a9f6-3cc1835b998d",
   "metadata": {},
   "source": [
    "# Clean \"VHorVHH\" and \"VL\" columns\n",
    "\n",
    "df_ML['VHorVHH'] = df_ML['VHorVHH'].apply(lambda x: \" \" if x == 'ND' else x)\n",
    "df_ML['VL'] = df_ML['VL'].apply(lambda x: \" \" if x == 'ND' else x)\n",
    "\n",
    "df_ML = df_ML[df_ML['VHorVHH'].fillna(' ').str.match(pattern_valid)]\n",
    "df_ML = df_ML[df_ML['VL'].fillna(' ').str.match(pattern_valid)]\n",
    "\n",
    "## remove white spaces in sequence\n",
    "df_ML['VHorVHH'] = df_ML['VHorVHH'].apply(lambda x: x.replace(\" \", \"\"))\n",
    "df_ML['VL'] = df_ML['VL'].apply(lambda x: x.replace(\" \", \"\"))\n",
    "\n",
    "## group HL pairs in list format\n",
    "df_ML.loc[:, 'seq_VH_VL'] = df_ML[['VHorVHH', 'VL']] \\\n",
    "                        .fillna(\"\") \\\n",
    "                        .apply(lambda x: [x['VHorVHH'], x['VL']], axis=1)"
   ]
  },
  {
   "cell_type": "code",
   "execution_count": 77,
   "id": "2623a0f7-4055-4220-8c8d-79301d9bac0b",
   "metadata": {},
   "outputs": [
    {
     "data": {
      "text/html": [
       "<div>\n",
       "<style scoped>\n",
       "    .dataframe tbody tr th:only-of-type {\n",
       "        vertical-align: middle;\n",
       "    }\n",
       "\n",
       "    .dataframe tbody tr th {\n",
       "        vertical-align: top;\n",
       "    }\n",
       "\n",
       "    .dataframe thead th {\n",
       "        text-align: right;\n",
       "    }\n",
       "</style>\n",
       "<table border=\"1\" class=\"dataframe\">\n",
       "  <thead>\n",
       "    <tr style=\"text-align: right;\">\n",
       "      <th></th>\n",
       "      <th>Name</th>\n",
       "      <th>seq_cdr3</th>\n",
       "      <th>isNeutralising</th>\n",
       "    </tr>\n",
       "  </thead>\n",
       "  <tbody>\n",
       "    <tr>\n",
       "      <th>0</th>\n",
       "      <td>Curtis_3548_S-2</td>\n",
       "      <td>[ARGSRNDLRDFDY, QSYNSSLSGLVV]</td>\n",
       "      <td>1</td>\n",
       "    </tr>\n",
       "    <tr>\n",
       "      <th>1</th>\n",
       "      <td>Curtis_3548_S-7</td>\n",
       "      <td>[AREPYSSGMGGRDY, QQYGSSPYT]</td>\n",
       "      <td>0</td>\n",
       "    </tr>\n",
       "    <tr>\n",
       "      <th>2</th>\n",
       "      <td>Curtis_3548_RBD-15</td>\n",
       "      <td>[AKGIYSSSSYWFGP, QAWDSSTVV]</td>\n",
       "      <td>0</td>\n",
       "    </tr>\n",
       "    <tr>\n",
       "      <th>3</th>\n",
       "      <td>8-D9</td>\n",
       "      <td>[ARDHSGHALDI, QHLNSYPSMYT]</td>\n",
       "      <td>1</td>\n",
       "    </tr>\n",
       "    <tr>\n",
       "      <th>4</th>\n",
       "      <td>Sun_1G11</td>\n",
       "      <td>[VKDSNYDSSGYLINNFDY, QQLYTFPVT]</td>\n",
       "      <td>1</td>\n",
       "    </tr>\n",
       "    <tr>\n",
       "      <th>...</th>\n",
       "      <td>...</td>\n",
       "      <td>...</td>\n",
       "      <td>...</td>\n",
       "    </tr>\n",
       "    <tr>\n",
       "      <th>11173</th>\n",
       "      <td>ZWD12</td>\n",
       "      <td>[VKDRTDWELIRGYFGH, QQRIIWPPYT]</td>\n",
       "      <td>1</td>\n",
       "    </tr>\n",
       "    <tr>\n",
       "      <th>11174</th>\n",
       "      <td>ZWC12</td>\n",
       "      <td>[AKGELLWFGDLLHNWFDP, QQYDSWPGT]</td>\n",
       "      <td>1</td>\n",
       "    </tr>\n",
       "    <tr>\n",
       "      <th>11175</th>\n",
       "      <td>ZWD11</td>\n",
       "      <td>[ARDQADYYYGSGCIV, QQYSNTPLT]</td>\n",
       "      <td>1</td>\n",
       "    </tr>\n",
       "    <tr>\n",
       "      <th>11176</th>\n",
       "      <td>ZWC10</td>\n",
       "      <td>[ARDEQKDRAMVTLPDY, QQSYNTPPWT]</td>\n",
       "      <td>0</td>\n",
       "    </tr>\n",
       "    <tr>\n",
       "      <th>11177</th>\n",
       "      <td>ZWG9</td>\n",
       "      <td>[ARELDYYGSGSYPDY, QTWGAAVWV]</td>\n",
       "      <td>0</td>\n",
       "    </tr>\n",
       "  </tbody>\n",
       "</table>\n",
       "<p>8945 rows × 3 columns</p>\n",
       "</div>"
      ],
      "text/plain": [
       "                     Name                         seq_cdr3  isNeutralising\n",
       "0         Curtis_3548_S-2    [ARGSRNDLRDFDY, QSYNSSLSGLVV]               1\n",
       "1         Curtis_3548_S-7      [AREPYSSGMGGRDY, QQYGSSPYT]               0\n",
       "2      Curtis_3548_RBD-15      [AKGIYSSSSYWFGP, QAWDSSTVV]               0\n",
       "3                    8-D9       [ARDHSGHALDI, QHLNSYPSMYT]               1\n",
       "4                Sun_1G11  [VKDSNYDSSGYLINNFDY, QQLYTFPVT]               1\n",
       "...                   ...                              ...             ...\n",
       "11173               ZWD12   [VKDRTDWELIRGYFGH, QQRIIWPPYT]               1\n",
       "11174               ZWC12  [AKGELLWFGDLLHNWFDP, QQYDSWPGT]               1\n",
       "11175               ZWD11     [ARDQADYYYGSGCIV, QQYSNTPLT]               1\n",
       "11176               ZWC10   [ARDEQKDRAMVTLPDY, QQSYNTPPWT]               0\n",
       "11177                ZWG9     [ARELDYYGSGSYPDY, QTWGAAVWV]               0\n",
       "\n",
       "[8945 rows x 3 columns]"
      ]
     },
     "execution_count": 77,
     "metadata": {},
     "output_type": "execute_result"
    }
   ],
   "source": [
    "## show only necessary columns moving forward\n",
    "cols=['Name', 'seq_cdr3', 'isNeutralising']\n",
    "df_ML[cols]"
   ]
  },
  {
   "cell_type": "markdown",
   "id": "7547e223-0271-497f-a1e8-832ce9c104af",
   "metadata": {},
   "source": [
    "# Generate embeddings"
   ]
  },
  {
   "cell_type": "markdown",
   "id": "9de22e22-903a-482c-a746-d52fd26170f0",
   "metadata": {},
   "source": [
    "## What are embeddings?\n",
    "Loading a pretrained model to perform embedding on antibody sequences involves converting the string representation of these sequences (which consists of amino acid characters) into a numerical format that machine learning models can process. \n",
    "\n",
    "- How Embedding Works\n",
    "Pretrained Models: A pretrained model, such as ablang or ablang2 mentioned earlier, is typically a deep learning model that has been previously trained on a large dataset of antibody sequences. During its training, the model learns to capture the complex patterns and relationships between the amino acids in these sequences, effectively understanding the biological significance behind different sequence motifs and structures.\n",
    "\n",
    "- Sequence to Numerical Representation: When you pass an antibody sequence to such a pretrained model, the model processes the sequence and converts it into a high-dimensional vector (or array) of numbers. This vector is called an \"embedding\". The embedding process captures the essential features of the sequence, such as the presence of certain motifs or the overall sequence structure, in a form that is useful for further computational analysis."
   ]
  },
  {
   "cell_type": "markdown",
   "id": "0ad02ea1-2e1d-40db-9e42-5fceada6bd85",
   "metadata": {},
   "source": [
    "## Encode sequence (generate embedding)"
   ]
  },
  {
   "cell_type": "code",
   "execution_count": 78,
   "id": "55b6ce7a-7a56-4fb0-86be-0747742d3ec7",
   "metadata": {},
   "outputs": [],
   "source": [
    "# check for gpu availability and count cores\n",
    "device = \"cuda\" if torch.cuda.is_available() else \"cpu\"\n",
    "if device == \"cuda\":\n",
    "    num_cpu = min(8, torch.cuda.device_count())\n",
    "else:\n",
    "    num_cpu = min(8, os.cpu_count())"
   ]
  },
  {
   "cell_type": "code",
   "execution_count": 79,
   "id": "b88b3035-14e0-413b-b95f-c5632c5fc38d",
   "metadata": {},
   "outputs": [
    {
     "name": "stderr",
     "output_type": "stream",
     "text": [
      "/opt/jupyterhub/lib/python3.10/site-packages/ablang2/load_model.py:112: FutureWarning: You are using `torch.load` with `weights_only=False` (the current default value), which uses the default pickle module implicitly. It is possible to construct malicious pickle data which will execute arbitrary code during unpickling (See https://github.com/pytorch/pytorch/blob/main/SECURITY.md#untrusted-models for more details). In a future release, the default value for `weights_only` will be flipped to `True`. This limits the functions that could be executed during unpickling. Arbitrary objects will no longer be allowed to be loaded via this mode unless they are explicitly allowlisted by the user via `torch.serialization.add_safe_globals`. We recommend you start setting `weights_only=True` for any use case where you don't have full control of the loaded file. Please open an issue on GitHub for any issues related to this experimental feature.\n",
      "  torch.load(\n"
     ]
    }
   ],
   "source": [
    "# load Ablang2 model to create embedding the sequence\n",
    "# https://github.com/TobiasHeOl/AbLang2\n",
    "\n",
    "# instantiate ablang2 model\n",
    "ablang2_model = ablang2.pretrained(model_to_use='ablang2-paired', random_init=False, ncpu=num_cpu, device=device)"
   ]
  },
  {
   "cell_type": "markdown",
   "id": "0b28b6cd-b8a0-403b-8f0a-7de4673703d7",
   "metadata": {},
   "source": [
    "### CDR3 HL"
   ]
  },
  {
   "cell_type": "code",
   "execution_count": 80,
   "id": "cde86e73-a758-4454-ad87-0259c1368d1d",
   "metadata": {},
   "outputs": [
    {
     "data": {
      "text/plain": [
       "0          [ARGSRNDLRDFDY, QSYNSSLSGLVV]\n",
       "1            [AREPYSSGMGGRDY, QQYGSSPYT]\n",
       "2            [AKGIYSSSSYWFGP, QAWDSSTVV]\n",
       "3             [ARDHSGHALDI, QHLNSYPSMYT]\n",
       "4        [VKDSNYDSSGYLINNFDY, QQLYTFPVT]\n",
       "                      ...               \n",
       "11173     [VKDRTDWELIRGYFGH, QQRIIWPPYT]\n",
       "11174    [AKGELLWFGDLLHNWFDP, QQYDSWPGT]\n",
       "11175       [ARDQADYYYGSGCIV, QQYSNTPLT]\n",
       "11176     [ARDEQKDRAMVTLPDY, QQSYNTPPWT]\n",
       "11177       [ARELDYYGSGSYPDY, QTWGAAVWV]\n",
       "Name: seq_cdr3, Length: 8945, dtype: object"
      ]
     },
     "execution_count": 80,
     "metadata": {},
     "output_type": "execute_result"
    }
   ],
   "source": [
    "df_ML['seq_cdr3'].dropna()"
   ]
  },
  {
   "cell_type": "code",
   "execution_count": 81,
   "id": "e9d2f831-b4fa-4179-b09c-a315c89438df",
   "metadata": {},
   "outputs": [
    {
     "data": {
      "text/plain": [
       "array([[-0.06482342, -0.26118073, -0.30277974, ...,  0.41981305,\n",
       "        -0.13399723,  0.2194267 ],\n",
       "       [-0.12651186, -0.0098996 , -0.26401642, ...,  0.37764497,\n",
       "        -0.08505214,  0.16721512],\n",
       "       [-0.07043607, -0.15615954, -0.2169279 , ...,  0.39137123,\n",
       "        -0.16601669,  0.20430324],\n",
       "       ...,\n",
       "       [-0.05386538,  0.00148973, -0.32013876, ...,  0.37828877,\n",
       "        -0.18918992,  0.22630764],\n",
       "       [-0.10474511, -0.03616413, -0.26576774, ...,  0.35388365,\n",
       "        -0.16938038,  0.17613295],\n",
       "       [ 0.01285474, -0.08284647, -0.23224622, ...,  0.25082452,\n",
       "        -0.10276332,  0.13823575]])"
      ]
     },
     "execution_count": 81,
     "metadata": {},
     "output_type": "execute_result"
    }
   ],
   "source": [
    "# encode \"seq\" column (list of paired H and L sequences)\n",
    "## consider using a collator if the dataset is large\n",
    "\n",
    "# generate embeddings\n",
    "seq_embeddings_cdr3 = ablang2_model(df_ML['seq_cdr3'], mode='seqcoding')\n",
    "seq_embeddings_cdr3"
   ]
  },
  {
   "cell_type": "markdown",
   "id": "41ead964-53a0-4915-8d0c-03cd5979dde7",
   "metadata": {},
   "source": [
    "### VHVHH VL"
   ]
  },
  {
   "cell_type": "raw",
   "id": "4153768f-52dd-48df-bd48-6781f7fd31a5",
   "metadata": {},
   "source": [
    "seq_embeddings_vhvl = ablang2_model(df_ML['seq_VH_VL'], mode='seqcoding')\n",
    "seq_embeddings_vhvl"
   ]
  },
  {
   "cell_type": "markdown",
   "id": "1a5086f7-2f6a-433c-9650-0a07818084ac",
   "metadata": {},
   "source": [
    "## PCA\n",
    "Principal Component Analysis can be used to reduce the dimension of the embeddings."
   ]
  },
  {
   "cell_type": "code",
   "execution_count": 51,
   "id": "8ace2bc4-e800-4e5d-8347-2e99d3993079",
   "metadata": {},
   "outputs": [
    {
     "data": {
      "text/plain": [
       "array([[-0.60026427, -0.62388239],\n",
       "       [ 0.28780931, -1.17396957],\n",
       "       [-0.61517396, -1.15546869],\n",
       "       ...,\n",
       "       [ 0.2814681 , -0.32470453],\n",
       "       [ 0.37308703, -0.29811258],\n",
       "       [ 0.64438755, -1.56749295]])"
      ]
     },
     "execution_count": 51,
     "metadata": {},
     "output_type": "execute_result"
    }
   ],
   "source": [
    "# Perform PCA with the desired number of components (let's say 2 components for visualization)\n",
    "num_components = 2\n",
    "pca = PCA(n_components=num_components)\n",
    "pca_result = pca.fit_transform(seq_embeddings)\n",
    "pca_result"
   ]
  },
  {
   "cell_type": "code",
   "execution_count": 52,
   "id": "83239abb-2a09-48dc-a74f-0472fdbb4e8a",
   "metadata": {},
   "outputs": [
    {
     "data": {
      "text/html": [
       "<div>\n",
       "<style scoped>\n",
       "    .dataframe tbody tr th:only-of-type {\n",
       "        vertical-align: middle;\n",
       "    }\n",
       "\n",
       "    .dataframe tbody tr th {\n",
       "        vertical-align: top;\n",
       "    }\n",
       "\n",
       "    .dataframe thead th {\n",
       "        text-align: right;\n",
       "    }\n",
       "</style>\n",
       "<table border=\"1\" class=\"dataframe\">\n",
       "  <thead>\n",
       "    <tr style=\"text-align: right;\">\n",
       "      <th></th>\n",
       "      <th>Name</th>\n",
       "      <th>seq</th>\n",
       "      <th>isNeutralising</th>\n",
       "    </tr>\n",
       "  </thead>\n",
       "  <tbody>\n",
       "    <tr>\n",
       "      <th>0</th>\n",
       "      <td>Curtis_3548_S-2</td>\n",
       "      <td>[ARGSRNDLRDFDY, QSYNSSLSGLVV]</td>\n",
       "      <td>1</td>\n",
       "    </tr>\n",
       "    <tr>\n",
       "      <th>1</th>\n",
       "      <td>Curtis_3548_S-7</td>\n",
       "      <td>[AREPYSSGMGGRDY, QQYGSSPYT]</td>\n",
       "      <td>0</td>\n",
       "    </tr>\n",
       "    <tr>\n",
       "      <th>2</th>\n",
       "      <td>Curtis_3548_RBD-15</td>\n",
       "      <td>[AKGIYSSSSYWFGP, QAWDSSTVV]</td>\n",
       "      <td>0</td>\n",
       "    </tr>\n",
       "    <tr>\n",
       "      <th>3</th>\n",
       "      <td>8-D9</td>\n",
       "      <td>[ARDHSGHALDI, QHLNSYPSMYT]</td>\n",
       "      <td>1</td>\n",
       "    </tr>\n",
       "    <tr>\n",
       "      <th>4</th>\n",
       "      <td>Sun_1G11</td>\n",
       "      <td>[VKDSNYDSSGYLINNFDY, QQLYTFPVT]</td>\n",
       "      <td>1</td>\n",
       "    </tr>\n",
       "    <tr>\n",
       "      <th>...</th>\n",
       "      <td>...</td>\n",
       "      <td>...</td>\n",
       "      <td>...</td>\n",
       "    </tr>\n",
       "    <tr>\n",
       "      <th>11173</th>\n",
       "      <td>ZWD12</td>\n",
       "      <td>[VKDRTDWELIRGYFGH, QQRIIWPPYT]</td>\n",
       "      <td>1</td>\n",
       "    </tr>\n",
       "    <tr>\n",
       "      <th>11174</th>\n",
       "      <td>ZWC12</td>\n",
       "      <td>[AKGELLWFGDLLHNWFDP, QQYDSWPGT]</td>\n",
       "      <td>1</td>\n",
       "    </tr>\n",
       "    <tr>\n",
       "      <th>11175</th>\n",
       "      <td>ZWD11</td>\n",
       "      <td>[ARDQADYYYGSGCIV, QQYSNTPLT]</td>\n",
       "      <td>1</td>\n",
       "    </tr>\n",
       "    <tr>\n",
       "      <th>11176</th>\n",
       "      <td>ZWC10</td>\n",
       "      <td>[ARDEQKDRAMVTLPDY, QQSYNTPPWT]</td>\n",
       "      <td>0</td>\n",
       "    </tr>\n",
       "    <tr>\n",
       "      <th>11177</th>\n",
       "      <td>ZWG9</td>\n",
       "      <td>[ARELDYYGSGSYPDY, QTWGAAVWV]</td>\n",
       "      <td>0</td>\n",
       "    </tr>\n",
       "  </tbody>\n",
       "</table>\n",
       "<p>8995 rows × 3 columns</p>\n",
       "</div>"
      ],
      "text/plain": [
       "                     Name                              seq  isNeutralising\n",
       "0         Curtis_3548_S-2    [ARGSRNDLRDFDY, QSYNSSLSGLVV]               1\n",
       "1         Curtis_3548_S-7      [AREPYSSGMGGRDY, QQYGSSPYT]               0\n",
       "2      Curtis_3548_RBD-15      [AKGIYSSSSYWFGP, QAWDSSTVV]               0\n",
       "3                    8-D9       [ARDHSGHALDI, QHLNSYPSMYT]               1\n",
       "4                Sun_1G11  [VKDSNYDSSGYLINNFDY, QQLYTFPVT]               1\n",
       "...                   ...                              ...             ...\n",
       "11173               ZWD12   [VKDRTDWELIRGYFGH, QQRIIWPPYT]               1\n",
       "11174               ZWC12  [AKGELLWFGDLLHNWFDP, QQYDSWPGT]               1\n",
       "11175               ZWD11     [ARDQADYYYGSGCIV, QQYSNTPLT]               1\n",
       "11176               ZWC10   [ARDEQKDRAMVTLPDY, QQSYNTPPWT]               0\n",
       "11177                ZWG9     [ARELDYYGSGSYPDY, QTWGAAVWV]               0\n",
       "\n",
       "[8995 rows x 3 columns]"
      ]
     },
     "execution_count": 52,
     "metadata": {},
     "output_type": "execute_result"
    }
   ],
   "source": [
    "df_ML[cols]"
   ]
  },
  {
   "cell_type": "code",
   "execution_count": 53,
   "id": "ea349aa3-a0db-496d-af47-dd5338105801",
   "metadata": {},
   "outputs": [
    {
     "data": {
      "image/png": "[encoded data removed]",
      "text/plain": [
       "<Figure size 1000x800 with 1 Axes>"
      ]
     },
     "metadata": {},
     "output_type": "display_data"
    }
   ],
   "source": [
    "# Create a DataFrame to store the PCA results\n",
    "df_pca = pd.DataFrame(data=pca_result, columns=[f'PC{i + 1}' for i in range(num_components)])\n",
    "df_pca['isNeutralising'] = df_ML['isNeutralising']\n",
    "\n",
    "# # Plot the PCA results\n",
    "plt.figure(figsize=(10, 8))\n",
    "plt.scatter(df_pca['PC1'][df_pca['isNeutralising'] == 0], \n",
    "            df_pca['PC2'][df_pca['isNeutralising'] == 0], \n",
    "            color='r', \n",
    "            label='Not Neutralising')\n",
    "\n",
    "plt.scatter(df_pca['PC1'][df_pca['isNeutralising'] == 1], \n",
    "            df_pca['PC2'][df_pca['isNeutralising'] == 1], \n",
    "            color='g', \n",
    "            label='Neutralising')\n",
    "\n",
    "plt.title('Scatter plot of PC1 vs PC2')\n",
    "plt.xlabel('PC1')\n",
    "plt.ylabel('PC2')\n",
    "plt.legend()\n",
    "plt.show()"
   ]
  },
  {
   "cell_type": "markdown",
   "id": "c84e6687-70cd-4ec1-8064-14b666af8662",
   "metadata": {},
   "source": [
    "# Explore Data\n",
    "First we can compare the distibution of those data related to binidng and non binding and see if there is a different between them\n",
    "We can use simple box plot or even PC to check it."
   ]
  },
  {
   "cell_type": "code",
   "execution_count": 14,
   "id": "f195d6c2-5fc0-4096-b8f2-94d5414ee484",
   "metadata": {},
   "outputs": [
    {
     "name": "stdout",
     "output_type": "stream",
     "text": [
      "isNeutralising\n",
      "0    4845\n",
      "1    4150\n",
      "Name: isNeutralising, dtype: int64\n"
     ]
    },
    {
     "data": {
      "text/plain": [
       "<Axes: >"
      ]
     },
     "execution_count": 14,
     "metadata": {},
     "output_type": "execute_result"
    },
    {
     "data": {
      "image/png": "[encoded data removed]",
      "text/plain": [
       "<Figure size 640x480 with 1 Axes>"
      ]
     },
     "metadata": {},
     "output_type": "display_data"
    }
   ],
   "source": [
    "# check label balance\n",
    "print(df_ML.groupby('isNeutralising')['isNeutralising'].count())\n",
    "df_ML['isNeutralising'].hist()"
   ]
  },
  {
   "cell_type": "code",
   "execution_count": 15,
   "id": "680de0be-b441-42d7-9533-a91a96ac851b",
   "metadata": {},
   "outputs": [
    {
     "data": {
      "text/plain": [
       "<Axes: >"
      ]
     },
     "execution_count": 15,
     "metadata": {},
     "output_type": "execute_result"
    },
    {
     "data": {
      "image/png": "[encoded data removed]",
      "text/plain": [
       "<Figure size 640x480 with 1 Axes>"
      ]
     },
     "metadata": {},
     "output_type": "display_data"
    }
   ],
   "source": [
    "# Check length of \n",
    "df_ML['seq'].apply(lambda x: len(x[0])).hist() # blue, CDRH\n",
    "df_ML['seq'].apply(lambda x: len(x[1])).hist() #orange"
   ]
  },
  {
   "cell_type": "code",
   "execution_count": 16,
   "id": "bbde6e4b-f983-4ecc-b1f9-5d5ee9f1eeb2",
   "metadata": {},
   "outputs": [
    {
     "data": {
      "text/plain": [
       "Index(['Name', 'Origin', 'Neutralising Vs', 'CDRH3', 'CDRL3', 'VHorVHH', 'VL',\n",
       "       'isNeutralising', 'seq'],\n",
       "      dtype='object')"
      ]
     },
     "execution_count": 16,
     "metadata": {},
     "output_type": "execute_result"
    }
   ],
   "source": [
    "df_ML.columns"
   ]
  },
  {
   "cell_type": "code",
   "execution_count": 17,
   "id": "1dd90848-c77b-4c16-b8bc-6b1e6f5ad584",
   "metadata": {},
   "outputs": [
    {
     "name": "stdout",
     "output_type": "stream",
     "text": [
      "CDRH3\n"
     ]
    },
    {
     "data": {
      "text/plain": [
       "{'A': 0.10167,\n",
       " 'R': 0.072,\n",
       " 'G': 0.11258,\n",
       " 'S': 0.07412,\n",
       " 'N': 0.02123,\n",
       " 'D': 0.11239,\n",
       " 'L': 0.04362,\n",
       " 'F': 0.05822,\n",
       " 'Y': 0.12539,\n",
       " 'E': 0.02296,\n",
       " 'P': 0.03862,\n",
       " 'M': 0.01963,\n",
       " 'K': 0.01586,\n",
       " 'I': 0.0274,\n",
       " 'W': 0.02296,\n",
       " 'H': 0.01714,\n",
       " 'V': 0.0533,\n",
       " 'T': 0.0383,\n",
       " 'C': 0.01078,\n",
       " 'Q': 0.01184}"
      ]
     },
     "execution_count": 17,
     "metadata": {},
     "output_type": "execute_result"
    }
   ],
   "source": [
    "# Check amino acid frequency\n",
    "counter_CDRH3 = collections.Counter(df_ML['seq'].apply(lambda x: x[0]).sum())\n",
    "num_total_aa = sum(counter_CDRH3.values())\n",
    "\n",
    "print(\"CDRH3\")\n",
    "{k:round(v/num_total_aa,5) for k, v in counter_CDRH3.items()}"
   ]
  },
  {
   "cell_type": "code",
   "execution_count": 18,
   "id": "b292493c-381c-4cd7-9972-0df1b121d9fd",
   "metadata": {},
   "outputs": [
    {
     "name": "stdout",
     "output_type": "stream",
     "text": [
      "CDRL3\n"
     ]
    },
    {
     "data": {
      "text/plain": [
       "{'A': 0.10167,\n",
       " 'R': 0.072,\n",
       " 'G': 0.11258,\n",
       " 'S': 0.07412,\n",
       " 'N': 0.02123,\n",
       " 'D': 0.11239,\n",
       " 'L': 0.04362,\n",
       " 'F': 0.05822,\n",
       " 'Y': 0.12539,\n",
       " 'E': 0.02296,\n",
       " 'P': 0.03862,\n",
       " 'M': 0.01963,\n",
       " 'K': 0.01586,\n",
       " 'I': 0.0274,\n",
       " 'W': 0.02296,\n",
       " 'H': 0.01714,\n",
       " 'V': 0.0533,\n",
       " 'T': 0.0383,\n",
       " 'C': 0.01078,\n",
       " 'Q': 0.01184}"
      ]
     },
     "execution_count": 18,
     "metadata": {},
     "output_type": "execute_result"
    }
   ],
   "source": [
    "# Check amino acid frequency\n",
    "counter_CDRL3 = collections.Counter(df_ML['seq'].apply(lambda x: x[0]).sum())\n",
    "num_total_aa = sum(counter_CDRL3.values())\n",
    "\n",
    "print(\"CDRL3\")\n",
    "{k:round(v/num_total_aa,5) for k, v in counter_CDRL3.items()}"
   ]
  },
  {
   "cell_type": "code",
   "execution_count": 19,
   "id": "ac00642c-3fd9-4e36-8c4b-ef832c05e50e",
   "metadata": {},
   "outputs": [
    {
     "name": "stdout",
     "output_type": "stream",
     "text": [
      "                len_CDRH3  len_CDRL3  isNeutralising\n",
      "len_CDRH3        1.000000   0.059128        0.014174\n",
      "len_CDRL3        0.059128   1.000000        0.048349\n",
      "isNeutralising   0.014174   0.048349        1.000000\n"
     ]
    }
   ],
   "source": [
    "# Simple correlation between sequence length and neutralising status\n",
    "df_ML['len_CDRH3'] = df_ML['seq'].apply(lambda x: len(x[0]))\n",
    "df_ML['len_CDRL3'] = df_ML['seq'].apply(lambda x: len(x[1]))\n",
    "print(df_ML[['len_CDRH3', 'len_CDRL3', 'isNeutralising']].corr())"
   ]
  },
  {
   "cell_type": "code",
   "execution_count": 20,
   "id": "759f5105-86b1-43dd-acf7-045b715b887c",
   "metadata": {},
   "outputs": [
    {
     "data": {
      "text/plain": [
       "Text(0.5, 1.0, 'Sequence Length Distribution')"
      ]
     },
     "execution_count": 20,
     "metadata": {},
     "output_type": "execute_result"
    },
    {
     "data": {
      "image/png": "[encoded data removed]",
      "text/plain": [
       "<Figure size 640x480 with 1 Axes>"
      ]
     },
     "metadata": {},
     "output_type": "display_data"
    }
   ],
   "source": [
    "# Class balance\n",
    "sns.countplot(x='isNeutralising', data=df_ML)\n",
    "plt.title('Class Distribution')\n",
    "\n",
    "# Sequence length distribution\n",
    "sns.histplot(data=df_ML, x='len_CDRH3', color='blue', kde=True, label='CDRH3 Length', alpha=0.6)\n",
    "sns.histplot(data=df_ML, x='len_CDRL3', color='red', kde=True, label='CDRL3 Length', alpha=0.6)\n",
    "plt.legend()\n",
    "plt.title('Sequence Length Distribution')"
   ]
  },
  {
   "cell_type": "markdown",
   "id": "cd218e7c-6f14-4fea-82fb-f28a3c73c9b2",
   "metadata": {},
   "source": [
    "# Compare Models\n",
    "For binary classification tasks, initiating the modeling process with a simple logistic regression model before progressing to more complex architectures like neural networks (NN) or fully connected (FC) models is a practical approach.\n",
    "\n",
    "Here’s an expanded view on developing a robust machine learning model, incorporating both simple and complex methodologies:\n",
    "\n",
    "- Initial Simple Model: Starting with logistic regression is beneficial due to its simplicity, interpretability, and efficiency in training. This step allows for a preliminary assessment of the dataset's characteristics and the feasibility of achieving meaningful classification.\n",
    "- Progression to Complex Models: After evaluating the performance of the logistic regression model, transitioning to a neural network or a fully connected model can offer deeper insights and potentially improved accuracy. These complex models are capable of capturing nonlinear relationships and interactions within the data.\n",
    "\n",
    "When developing these models, consider several important factors:\n",
    "\n",
    "Data Imbalance: Acknowledge the presence of data imbalance and its potential effects on model performance.\n",
    "Balancing the Dataset: Employ appropriate techniques to balance the dataset, such as resampling methods, to ensure equitable representation of classes.\n",
    "Balancing the Dataset: Employ appropriate techniques to balance the dataset, such as resampling methods, to ensure equitable representation of classes.\n",
    "Data Division: Strategically divide the data into training, validation, and testing sets. Utilize the training and validation sets for fine-tuning the hyperparameters of the models.\n"
   ]
  },
  {
   "cell_type": "code",
   "execution_count": 49,
   "id": "d37167b9-bee6-418b-b351-d75077949db0",
   "metadata": {},
   "outputs": [],
   "source": [
    "# Set the random seeds for numpy and tensorflow to ensure reproducible results\n",
    "np.random.seed(42)\n",
    "tf.random.set_seed(42)"
   ]
  },
  {
   "cell_type": "code",
   "execution_count": 22,
   "id": "ea3d2ed7-117b-4dce-a7db-23871e950326",
   "metadata": {},
   "outputs": [],
   "source": [
    "# This split ensures balanced classes in the train and test sets\n",
    "X_train, X_test, y_train, y_test = train_test_split(\n",
    "    seq_embeddings_cdr3, df_ML['isNeutralising'], test_size=0.1, random_state=0, stratify=df_ML['isNeutralising']\n",
    ")"
   ]
  },
  {
   "cell_type": "code",
   "execution_count": 23,
   "id": "427121e6-41bd-4c0b-b74d-958db4b15ac7",
   "metadata": {},
   "outputs": [],
   "source": [
    "sc = StandardScaler()\n",
    "X_train = sc.fit_transform(X_train)\n",
    "X_test = sc.transform(X_test)\n",
    "X_train = np.array(X_train)\n",
    "X_test = np.array(X_test)\n",
    "y_train = np.array(y_train)\n",
    "y_test = np.array(y_test)"
   ]
  },
  {
   "cell_type": "markdown",
   "id": "c10b4c90-abfc-4888-8518-8445848b3fff",
   "metadata": {},
   "source": [
    "### logistic Regression model "
   ]
  },
  {
   "cell_type": "code",
   "execution_count": 24,
   "id": "15d7c367-ac7d-4a1a-9dc2-b0bc04ca32cb",
   "metadata": {},
   "outputs": [],
   "source": [
    "# Initialize an empty DataFrame to store simplified metrics\n",
    "metrics_df = pd.DataFrame(columns=['Model','Accuracy', 'f1_Score'])"
   ]
  },
  {
   "cell_type": "code",
   "execution_count": 25,
   "id": "3b38a05c-2dd3-462d-b677-b837b60ff75e",
   "metadata": {},
   "outputs": [
    {
     "name": "stdout",
     "output_type": "stream",
     "text": [
      "Accuracy: 0.6222222222222222\n",
      "f1_score: 0.5728643216080402\n",
      "              precision    recall  f1-score   support\n",
      "\n",
      "           0       0.64      0.68      0.66       485\n",
      "           1       0.60      0.55      0.57       415\n",
      "\n",
      "    accuracy                           0.62       900\n",
      "   macro avg       0.62      0.62      0.62       900\n",
      "weighted avg       0.62      0.62      0.62       900\n",
      "\n"
     ]
    },
    {
     "name": "stderr",
     "output_type": "stream",
     "text": [
      "/tmp/ipykernel_48110/247066646.py:13: FutureWarning: The behavior of DataFrame concatenation with empty or all-NA entries is deprecated. In a future version, this will no longer exclude empty or all-NA columns when determining the result dtypes. To retain the old behavior, exclude the relevant entries before the concat operation.\n",
      "  metrics_df = pd.concat([metrics_df, new_row_df], ignore_index=True)\n"
     ]
    }
   ],
   "source": [
    "# Create and train the Logistic Regression model\n",
    "model = LogisticRegression(max_iter=1000, C=1.0)\n",
    "model.fit(X_train, y_train)\n",
    "\n",
    "# Predict the labels for the test set\n",
    "y_pred = model.predict(X_test)\n",
    "\n",
    "# # Evaluate the model\n",
    "accuracy = accuracy_score(y_test, y_pred)\n",
    "f1 = f1_score(y_test, y_pred, average='binary')  # Ensure average='binary' for binary classification\n",
    "new_row = {'Model': 'LogisticRegression', 'Accuracy': accuracy, 'f1_Score': f1}\n",
    "new_row_df = pd.DataFrame([new_row])\n",
    "metrics_df = pd.concat([metrics_df, new_row_df], ignore_index=True)\n",
    "print(f'Accuracy: {accuracy}')\n",
    "print(f'f1_score: {f1}')\n",
    "print(classification_report(y_test, y_pred))"
   ]
  },
  {
   "cell_type": "code",
   "execution_count": 26,
   "id": "3b97626f-866b-41ef-9b13-30e9145b4943",
   "metadata": {},
   "outputs": [
    {
     "data": {
      "text/html": [
       "<div>\n",
       "<style scoped>\n",
       "    .dataframe tbody tr th:only-of-type {\n",
       "        vertical-align: middle;\n",
       "    }\n",
       "\n",
       "    .dataframe tbody tr th {\n",
       "        vertical-align: top;\n",
       "    }\n",
       "\n",
       "    .dataframe thead th {\n",
       "        text-align: right;\n",
       "    }\n",
       "</style>\n",
       "<table border=\"1\" class=\"dataframe\">\n",
       "  <thead>\n",
       "    <tr style=\"text-align: right;\">\n",
       "      <th></th>\n",
       "      <th>Model</th>\n",
       "      <th>Accuracy</th>\n",
       "      <th>f1_Score</th>\n",
       "    </tr>\n",
       "  </thead>\n",
       "  <tbody>\n",
       "    <tr>\n",
       "      <th>0</th>\n",
       "      <td>LogisticRegression</td>\n",
       "      <td>0.622222</td>\n",
       "      <td>0.572864</td>\n",
       "    </tr>\n",
       "  </tbody>\n",
       "</table>\n",
       "</div>"
      ],
      "text/plain": [
       "                Model  Accuracy  f1_Score\n",
       "0  LogisticRegression  0.622222  0.572864"
      ]
     },
     "execution_count": 26,
     "metadata": {},
     "output_type": "execute_result"
    }
   ],
   "source": [
    "metrics_df"
   ]
  },
  {
   "cell_type": "markdown",
   "id": "e2ab1db3-afca-42d4-bfc2-ec6c74c69549",
   "metadata": {},
   "source": [
    "### A NN model "
   ]
  },
  {
   "cell_type": "code",
   "execution_count": 27,
   "id": "c2b2cabc-f182-4e46-a5b4-c3fdb8d44ed9",
   "metadata": {},
   "outputs": [],
   "source": [
    "# set parameters:\n",
    "n_epochs = 20\n",
    "batch_size = 50"
   ]
  },
  {
   "cell_type": "code",
   "execution_count": 28,
   "id": "19bd1e2f-c53a-478c-b80b-a29bd77f6fc0",
   "metadata": {},
   "outputs": [
    {
     "name": "stderr",
     "output_type": "stream",
     "text": [
      "2024-08-07 15:53:51.576699: I external/local_xla/xla/stream_executor/cuda/cuda_executor.cc:998] successful NUMA node read from SysFS had negative value (-1), but there must be at least one NUMA node, so returning NUMA node zero. See more at https://github.com/torvalds/linux/blob/v6.0/Documentation/ABI/testing/sysfs-bus-pci#L344-L355\n",
      "2024-08-07 15:53:51.577670: W tensorflow/core/common_runtime/gpu/gpu_device.cc:2251] Cannot dlopen some GPU libraries. Please make sure the missing libraries mentioned above are installed properly if you would like to use GPU. Follow the guide at https://www.tensorflow.org/install/gpu for how to download and setup the required libraries for your platform.\n",
      "Skipping registering GPU devices...\n"
     ]
    }
   ],
   "source": [
    "ann = tf.keras.models.Sequential([\n",
    "    tf.keras.layers.Dense(units=6, activation='relu'),\n",
    "    tf.keras.layers.Dense(units=6, activation='relu'),\n",
    "    tf.keras.layers.Dense(units=1, activation='sigmoid')\n",
    "])\n",
    "# Compiling the ANN\n",
    "ann.compile(optimizer = 'adam', loss = 'binary_crossentropy', metrics = ['accuracy'])"
   ]
  },
  {
   "cell_type": "code",
   "execution_count": 29,
   "id": "53b45e60-ad01-430e-bb84-7797169042ca",
   "metadata": {
    "scrolled": true
   },
   "outputs": [
    {
     "name": "stdout",
     "output_type": "stream",
     "text": [
      "Epoch 1/20\n",
      "\u001b[1m130/130\u001b[0m \u001b[32m━━━━━━━━━━━━━━━━━━━━\u001b[0m\u001b[37m\u001b[0m \u001b[1m1s\u001b[0m 3ms/step - accuracy: 0.5050 - loss: 0.7190 - val_accuracy: 0.5435 - val_loss: 0.6889\n",
      "Epoch 2/20\n",
      "\u001b[1m130/130\u001b[0m \u001b[32m━━━━━━━━━━━━━━━━━━━━\u001b[0m\u001b[37m\u001b[0m \u001b[1m0s\u001b[0m 1ms/step - accuracy: 0.5623 - loss: 0.6794 - val_accuracy: 0.5639 - val_loss: 0.6812\n",
      "Epoch 3/20\n",
      "\u001b[1m130/130\u001b[0m \u001b[32m━━━━━━━━━━━━━━━━━━━━\u001b[0m\u001b[37m\u001b[0m \u001b[1m0s\u001b[0m 1ms/step - accuracy: 0.5824 - loss: 0.6673 - val_accuracy: 0.5701 - val_loss: 0.6762\n",
      "Epoch 4/20\n",
      "\u001b[1m130/130\u001b[0m \u001b[32m━━━━━━━━━━━━━━━━━━━━\u001b[0m\u001b[37m\u001b[0m \u001b[1m0s\u001b[0m 1ms/step - accuracy: 0.5926 - loss: 0.6580 - val_accuracy: 0.5825 - val_loss: 0.6716\n",
      "Epoch 5/20\n",
      "\u001b[1m130/130\u001b[0m \u001b[32m━━━━━━━━━━━━━━━━━━━━\u001b[0m\u001b[37m\u001b[0m \u001b[1m0s\u001b[0m 1ms/step - accuracy: 0.5999 - loss: 0.6499 - val_accuracy: 0.5818 - val_loss: 0.6696\n",
      "Epoch 6/20\n",
      "\u001b[1m130/130\u001b[0m \u001b[32m━━━━━━━━━━━━━━━━━━━━\u001b[0m\u001b[37m\u001b[0m \u001b[1m0s\u001b[0m 1ms/step - accuracy: 0.6165 - loss: 0.6427 - val_accuracy: 0.5874 - val_loss: 0.6654\n",
      "Epoch 7/20\n",
      "\u001b[1m130/130\u001b[0m \u001b[32m━━━━━━━━━━━━━━━━━━━━\u001b[0m\u001b[37m\u001b[0m \u001b[1m0s\u001b[0m 1ms/step - accuracy: 0.6259 - loss: 0.6355 - val_accuracy: 0.5923 - val_loss: 0.6623\n",
      "Epoch 8/20\n",
      "\u001b[1m130/130\u001b[0m \u001b[32m━━━━━━━━━━━━━━━━━━━━\u001b[0m\u001b[37m\u001b[0m \u001b[1m0s\u001b[0m 1ms/step - accuracy: 0.6333 - loss: 0.6276 - val_accuracy: 0.5886 - val_loss: 0.6628\n",
      "Epoch 9/20\n",
      "\u001b[1m130/130\u001b[0m \u001b[32m━━━━━━━━━━━━━━━━━━━━\u001b[0m\u001b[37m\u001b[0m \u001b[1m0s\u001b[0m 1ms/step - accuracy: 0.6410 - loss: 0.6202 - val_accuracy: 0.5923 - val_loss: 0.6644\n",
      "Epoch 10/20\n",
      "\u001b[1m130/130\u001b[0m \u001b[32m━━━━━━━━━━━━━━━━━━━━\u001b[0m\u001b[37m\u001b[0m \u001b[1m0s\u001b[0m 1ms/step - accuracy: 0.6451 - loss: 0.6150 - val_accuracy: 0.5880 - val_loss: 0.6678\n",
      "Epoch 11/20\n",
      "\u001b[1m130/130\u001b[0m \u001b[32m━━━━━━━━━━━━━━━━━━━━\u001b[0m\u001b[37m\u001b[0m \u001b[1m0s\u001b[0m 1ms/step - accuracy: 0.6570 - loss: 0.6061 - val_accuracy: 0.5954 - val_loss: 0.6686\n",
      "Epoch 12/20\n",
      "\u001b[1m130/130\u001b[0m \u001b[32m━━━━━━━━━━━━━━━━━━━━\u001b[0m\u001b[37m\u001b[0m \u001b[1m0s\u001b[0m 1ms/step - accuracy: 0.6629 - loss: 0.5997 - val_accuracy: 0.5923 - val_loss: 0.6695\n",
      "Epoch 13/20\n",
      "\u001b[1m130/130\u001b[0m \u001b[32m━━━━━━━━━━━━━━━━━━━━\u001b[0m\u001b[37m\u001b[0m \u001b[1m0s\u001b[0m 1ms/step - accuracy: 0.6685 - loss: 0.5921 - val_accuracy: 0.5954 - val_loss: 0.6701\n",
      "Epoch 14/20\n",
      "\u001b[1m130/130\u001b[0m \u001b[32m━━━━━━━━━━━━━━━━━━━━\u001b[0m\u001b[37m\u001b[0m \u001b[1m0s\u001b[0m 1ms/step - accuracy: 0.6752 - loss: 0.5866 - val_accuracy: 0.5905 - val_loss: 0.6760\n",
      "Epoch 15/20\n",
      "\u001b[1m130/130\u001b[0m \u001b[32m━━━━━━━━━━━━━━━━━━━━\u001b[0m\u001b[37m\u001b[0m \u001b[1m0s\u001b[0m 1ms/step - accuracy: 0.6816 - loss: 0.5794 - val_accuracy: 0.5954 - val_loss: 0.6772\n",
      "Epoch 16/20\n",
      "\u001b[1m130/130\u001b[0m \u001b[32m━━━━━━━━━━━━━━━━━━━━\u001b[0m\u001b[37m\u001b[0m \u001b[1m0s\u001b[0m 1ms/step - accuracy: 0.6904 - loss: 0.5719 - val_accuracy: 0.5886 - val_loss: 0.6829\n",
      "Epoch 17/20\n",
      "\u001b[1m130/130\u001b[0m \u001b[32m━━━━━━━━━━━━━━━━━━━━\u001b[0m\u001b[37m\u001b[0m \u001b[1m0s\u001b[0m 1ms/step - accuracy: 0.6951 - loss: 0.5673 - val_accuracy: 0.5862 - val_loss: 0.6862\n",
      "Epoch 18/20\n",
      "\u001b[1m130/130\u001b[0m \u001b[32m━━━━━━━━━━━━━━━━━━━━\u001b[0m\u001b[37m\u001b[0m \u001b[1m0s\u001b[0m 1ms/step - accuracy: 0.7013 - loss: 0.5612 - val_accuracy: 0.5942 - val_loss: 0.6922\n",
      "Epoch 19/20\n",
      "\u001b[1m130/130\u001b[0m \u001b[32m━━━━━━━━━━━━━━━━━━━━\u001b[0m\u001b[37m\u001b[0m \u001b[1m0s\u001b[0m 1ms/step - accuracy: 0.7041 - loss: 0.5569 - val_accuracy: 0.5930 - val_loss: 0.6936\n",
      "Epoch 20/20\n",
      "\u001b[1m130/130\u001b[0m \u001b[32m━━━━━━━━━━━━━━━━━━━━\u001b[0m\u001b[37m\u001b[0m \u001b[1m0s\u001b[0m 1ms/step - accuracy: 0.7106 - loss: 0.5504 - val_accuracy: 0.5973 - val_loss: 0.6990\n"
     ]
    }
   ],
   "source": [
    "# Training the ANN on the Training set\n",
    "history = ann.fit(X_train, y_train, batch_size=batch_size, epochs=n_epochs, validation_split=0.2)"
   ]
  },
  {
   "cell_type": "code",
   "execution_count": 30,
   "id": "2cf0283f-520d-4369-9122-d3e2c6f4103b",
   "metadata": {},
   "outputs": [
    {
     "data": {
      "image/png": "[encoded data removed]",
      "text/plain": [
       "<Figure size 1000x600 with 1 Axes>"
      ]
     },
     "metadata": {},
     "output_type": "display_data"
    }
   ],
   "source": [
    "# Extracting loss and validation loss from the history object\n",
    "training_loss = history.history['loss']\n",
    "validation_loss = history.history['val_loss']\n",
    "epochs = range(1, len(training_loss) + 1)\n",
    "\n",
    "# Plotting training and validation loss\n",
    "plt.figure(figsize=(10, 6))\n",
    "plt.plot(epochs, training_loss, 'bo-', label='Training Loss')\n",
    "plt.plot(epochs, validation_loss, 'ro-', label='Validation Loss')\n",
    "plt.title('Training vs. Validation Loss')\n",
    "plt.xlabel('Epochs')\n",
    "plt.ylabel('Loss')\n",
    "plt.legend()\n",
    "plt.show()"
   ]
  },
  {
   "cell_type": "markdown",
   "id": "dc6becc2-3432-4849-a73e-065789c5e2ff",
   "metadata": {},
   "source": [
    "### How should we interpert this plot?\n",
    "\n",
    "1. Training Loss vs. Validation Loss:\n",
    "- The training loss measures how well the model is fitting the training data. As the training progresses (more epochs), the model learns and the training loss typically decreases.\n",
    "- The validation loss measures how well the model performs on a separate set of data not seen during training, giving an indication of how well the model generalizes.\n",
    "\n",
    "2. Interpretation of the Loss Trends:\n",
    "- Initially, both training and validation losses decrease, which is good—it means the model is learning and generalizing well.\n",
    "- However, after a certain number of epochs, the validation loss stops decreasing and starts to fluctuate or even increase slightly while the training loss continues to decrease. This is a classic sign of overfitting.\n",
    "\n",
    "3. Overfitting:\n",
    "- Overfitting occurs when the model learns the training data too well, including noise and details that do not generalize to new data. It's like memorizing the answers instead of understanding the subject.\n",
    "- In the plot, overfitting is suggested because the model's loss on the validation set is no longer decreasing alongside the training loss. The model is improving on the training data but not on the validation data.\n",
    "\n",
    "### Improving the Model:\n",
    "- Early Stopping: Implement early stopping to terminate the training process when the validation loss stops decreasing, preventing overfitting by not allowing the model to train excessively.\n",
    "- Regularization: Introduce regularization methods like L1 or L2 regularization to constrain the magnitude of the model weights, which can discourage overfitting by imposing complexity penalties on the model's loss function.\n",
    "- Dropout: Add dropout layers to the neural network architecture to introduce regularization by randomly setting a fraction of the input units to 0 at each update during training, which can help prevent overfitting.\n",
    "- Data Augmentation: Employ data augmentation techniques to synthetically expand the training dataset by applying random, yet realistic, transformations to the training data. This can lead to a model that generalizes better.\n",
    "- Reduce Model Complexity: Simplify the model's architecture by reducing the number of layers or the number of neurons in each layer if the model is too complicated and overfitting the training data.\n",
    "- Adjust Learning Rate and Batch Size: Fine-tune the learning rate and batch size to control the training dynamics. A learning rate that's too high can cause the model to converge too quickly to suboptimal solutions, whereas one that's too low can slow down the training process. Similarly, an appropriate batch size can balance between computational efficiency and the regularizing effect of stochasticity in the gradient descent.\n",
    "- Perform Hyperparameter Tuning: Run systematic experiments to find the best model parameters, including the learning rate, batch size, and other model-specific hyperparameters. This can be done using techniques like grid search or random search, or more sophisticated methods like Bayesian optimization. By tuning hyperparameters, you can potentially improve the model's performance and robustness.\n",
    "    \n",
    "For beginners, it's important to monitor both training and validation loss and look for signs of overfitting. Interventions like those mentioned above can help ensure that your model learns to generalize well, rather than just memorizing the training dataset."
   ]
  },
  {
   "cell_type": "code",
   "execution_count": 31,
   "id": "520e99c5-820b-40af-a307-6cb5177a31eb",
   "metadata": {},
   "outputs": [
    {
     "name": "stdout",
     "output_type": "stream",
     "text": [
      "\u001b[1m29/29\u001b[0m \u001b[32m━━━━━━━━━━━━━━━━━━━━\u001b[0m\u001b[37m\u001b[0m \u001b[1m0s\u001b[0m 1ms/step \n",
      "Accuracy: 0.5788888888888889\n",
      "f1_score: 0.49933949801849403\n",
      "              precision    recall  f1-score   support\n",
      "\n",
      "           0       0.59      0.68      0.64       485\n",
      "           1       0.55      0.46      0.50       415\n",
      "\n",
      "    accuracy                           0.58       900\n",
      "   macro avg       0.57      0.57      0.57       900\n",
      "weighted avg       0.58      0.58      0.57       900\n",
      "\n"
     ]
    },
    {
     "data": {
      "text/html": [
       "<div>\n",
       "<style scoped>\n",
       "    .dataframe tbody tr th:only-of-type {\n",
       "        vertical-align: middle;\n",
       "    }\n",
       "\n",
       "    .dataframe tbody tr th {\n",
       "        vertical-align: top;\n",
       "    }\n",
       "\n",
       "    .dataframe thead th {\n",
       "        text-align: right;\n",
       "    }\n",
       "</style>\n",
       "<table border=\"1\" class=\"dataframe\">\n",
       "  <thead>\n",
       "    <tr style=\"text-align: right;\">\n",
       "      <th></th>\n",
       "      <th>Model</th>\n",
       "      <th>Accuracy</th>\n",
       "      <th>f1_Score</th>\n",
       "    </tr>\n",
       "  </thead>\n",
       "  <tbody>\n",
       "    <tr>\n",
       "      <th>0</th>\n",
       "      <td>LogisticRegression</td>\n",
       "      <td>0.622222</td>\n",
       "      <td>0.572864</td>\n",
       "    </tr>\n",
       "    <tr>\n",
       "      <th>1</th>\n",
       "      <td>nn_shallow</td>\n",
       "      <td>0.578889</td>\n",
       "      <td>0.499339</td>\n",
       "    </tr>\n",
       "  </tbody>\n",
       "</table>\n",
       "</div>"
      ],
      "text/plain": [
       "                Model  Accuracy  f1_Score\n",
       "0  LogisticRegression  0.622222  0.572864\n",
       "1          nn_shallow  0.578889  0.499339"
      ]
     },
     "execution_count": 31,
     "metadata": {},
     "output_type": "execute_result"
    }
   ],
   "source": [
    "# Predict the labels for the test set\n",
    "predictions_prob = ann.predict(X_test)\n",
    "\n",
    "# Assuming `predictions` are the output probabilities from your model\n",
    "y_pred = (predictions_prob > 0.5).astype(int)\n",
    "\n",
    "# Evaluate the model\n",
    "accuracy = accuracy_score(y_test, y_pred)\n",
    "f1 = f1_score(y_test, y_pred, average='binary')  # Ensure average='binary' for binary classification\n",
    "new_row = {'Model': 'nn_shallow', 'Accuracy': accuracy, 'f1_Score': f1}\n",
    "new_row_df = pd.DataFrame([new_row])\n",
    "metrics_df = pd.concat([metrics_df, new_row_df], ignore_index=True)\n",
    "print(f'Accuracy: {accuracy}')\n",
    "print(f'f1_score: {f1}')\n",
    "print(classification_report(y_test, y_pred))\n",
    "metrics_df"
   ]
  },
  {
   "cell_type": "markdown",
   "id": "01e5df4e-45d2-477f-a178-a052f6c503f7",
   "metadata": {},
   "source": [
    "The original model is a simple neural network with two hidden layers, each consisting of 6 units. This design may be too simplistic, especially if the input dimensionality is high (e.g., 480 features). With only 6 units in each layer, the model may not have enough capacity to learn complex patterns in the data, which could lead to underfitting.\n",
    "\n",
    "Increased Layer Units:\n",
    "- The proposed model begins with a significantly larger number of units (240) in the first hidden layer. Starting with more units can help the model capture a wide variety of patterns and relationships in the data, given the high dimensionality of the inputs.\n",
    "-mGradually decreasing the number of units in subsequent layers (from 240 to 120, then 60, and finally 30) before reaching the output layer allows the model to refine and distill these patterns into more abstract representations. This approach is akin to funneling the information in a controlled manner, which can be particularly effective in learning from a large number of features.\n",
    "\n",
    "Regularization:\n",
    "- Regularization is applied to each layer in the form of L2 regularization with a factor of 0.01. L2 regularization penalizes the weights' magnitudes by adding a term to the loss function proportional to the sum of the squared weights. This encourages the model to keep the weights small, which can help prevent overfitting by discouraging the model from relying too heavily on any single feature or combination of features.\n",
    "- Regularization can be crucial when increasing the number of units in the layers as it helps to maintain the generalization ability of the model despite the added complexity.\n",
    "\n",
    "Learning rate:\n",
    "- Adjusting the learning rate to 0.001 for better performance. A smaller learning rate can make the optimization process more gradual and precise, potentially leading to better convergence on a minimum of the loss function.\n",
    "\n",
    "\n",
    "While the proposed model has the potential to learn complex patterns better, it is also more prone to overfitting due to its increased capacity. Therefore, it is essential to monitor the model's performance on both training and validation datasets and consider implementing additional strategies such as dropout, early stopping, or further hyperparameter tuning to find the optimal model configuration."
   ]
  },
  {
   "cell_type": "code",
   "execution_count": 32,
   "id": "15afbb37-c06c-44e6-ae82-068e35db9a5a",
   "metadata": {},
   "outputs": [],
   "source": [
    "# Define the model architecture\n",
    "ann = tf.keras.models.Sequential([\n",
    "    tf.keras.layers.Dense(units=240, activation='relu', kernel_regularizer=regularizers.l2(0.01)),\n",
    "    tf.keras.layers.Dense(units=120, activation='relu', kernel_regularizer=regularizers.l2(0.01)),\n",
    "    tf.keras.layers.Dense(units=60, activation='relu', kernel_regularizer=regularizers.l2(0.01)),\n",
    "    tf.keras.layers.Dense(units=30, activation='relu', kernel_regularizer=regularizers.l2(0.01)),\n",
    "    tf.keras.layers.Dense(units=1, activation='sigmoid')\n",
    "])\n",
    "# Compiling the ANN\n",
    "ann.compile(optimizer = keras.optimizers.Adam(learning_rate=0.001), loss = 'binary_crossentropy', metrics = ['accuracy'])"
   ]
  },
  {
   "cell_type": "code",
   "execution_count": 33,
   "id": "2ca22b1e-9fd4-4e2a-a1da-dd86f585b5cd",
   "metadata": {},
   "outputs": [
    {
     "name": "stdout",
     "output_type": "stream",
     "text": [
      "Epoch 1/20\n",
      "\u001b[1m130/130\u001b[0m \u001b[32m━━━━━━━━━━━━━━━━━━━━\u001b[0m\u001b[37m\u001b[0m \u001b[1m2s\u001b[0m 5ms/step - accuracy: 0.5555 - loss: 4.6798 - val_accuracy: 0.5645 - val_loss: 1.2771\n",
      "Epoch 2/20\n",
      "\u001b[1m130/130\u001b[0m \u001b[32m━━━━━━━━━━━━━━━━━━━━\u001b[0m\u001b[37m\u001b[0m \u001b[1m1s\u001b[0m 8ms/step - accuracy: 0.5740 - loss: 1.0583 - val_accuracy: 0.5578 - val_loss: 0.7584\n",
      "Epoch 3/20\n",
      "\u001b[1m130/130\u001b[0m \u001b[32m━━━━━━━━━━━━━━━━━━━━\u001b[0m\u001b[37m\u001b[0m \u001b[1m1s\u001b[0m 8ms/step - accuracy: 0.5649 - loss: 0.7410 - val_accuracy: 0.5503 - val_loss: 0.7033\n",
      "Epoch 4/20\n",
      "\u001b[1m130/130\u001b[0m \u001b[32m━━━━━━━━━━━━━━━━━━━━\u001b[0m\u001b[37m\u001b[0m \u001b[1m0s\u001b[0m 3ms/step - accuracy: 0.5601 - loss: 0.7033 - val_accuracy: 0.5608 - val_loss: 0.6927\n",
      "Epoch 5/20\n",
      "\u001b[1m130/130\u001b[0m \u001b[32m━━━━━━━━━━━━━━━━━━━━\u001b[0m\u001b[37m\u001b[0m \u001b[1m0s\u001b[0m 4ms/step - accuracy: 0.5549 - loss: 0.6954 - val_accuracy: 0.5683 - val_loss: 0.6893\n",
      "Epoch 6/20\n",
      "\u001b[1m130/130\u001b[0m \u001b[32m━━━━━━━━━━━━━━━━━━━━\u001b[0m\u001b[37m\u001b[0m \u001b[1m0s\u001b[0m 3ms/step - accuracy: 0.5564 - loss: 0.6926 - val_accuracy: 0.5683 - val_loss: 0.6875\n",
      "Epoch 7/20\n",
      "\u001b[1m130/130\u001b[0m \u001b[32m━━━━━━━━━━━━━━━━━━━━\u001b[0m\u001b[37m\u001b[0m \u001b[1m1s\u001b[0m 8ms/step - accuracy: 0.5579 - loss: 0.6912 - val_accuracy: 0.5763 - val_loss: 0.6861\n",
      "Epoch 8/20\n",
      "\u001b[1m130/130\u001b[0m \u001b[32m━━━━━━━━━━━━━━━━━━━━\u001b[0m\u001b[37m\u001b[0m \u001b[1m1s\u001b[0m 8ms/step - accuracy: 0.5670 - loss: 0.6906 - val_accuracy: 0.5781 - val_loss: 0.6858\n",
      "Epoch 9/20\n",
      "\u001b[1m130/130\u001b[0m \u001b[32m━━━━━━━━━━━━━━━━━━━━\u001b[0m\u001b[37m\u001b[0m \u001b[1m1s\u001b[0m 7ms/step - accuracy: 0.5686 - loss: 0.6899 - val_accuracy: 0.5825 - val_loss: 0.6857\n",
      "Epoch 10/20\n",
      "\u001b[1m130/130\u001b[0m \u001b[32m━━━━━━━━━━━━━━━━━━━━\u001b[0m\u001b[37m\u001b[0m \u001b[1m1s\u001b[0m 8ms/step - accuracy: 0.5720 - loss: 0.6895 - val_accuracy: 0.5788 - val_loss: 0.6859\n",
      "Epoch 11/20\n",
      "\u001b[1m130/130\u001b[0m \u001b[32m━━━━━━━━━━━━━━━━━━━━\u001b[0m\u001b[37m\u001b[0m \u001b[1m1s\u001b[0m 4ms/step - accuracy: 0.5720 - loss: 0.6888 - val_accuracy: 0.5831 - val_loss: 0.6855\n",
      "Epoch 12/20\n",
      "\u001b[1m130/130\u001b[0m \u001b[32m━━━━━━━━━━━━━━━━━━━━\u001b[0m\u001b[37m\u001b[0m \u001b[1m1s\u001b[0m 7ms/step - accuracy: 0.5751 - loss: 0.6885 - val_accuracy: 0.5750 - val_loss: 0.6858\n",
      "Epoch 13/20\n",
      "\u001b[1m130/130\u001b[0m \u001b[32m━━━━━━━━━━━━━━━━━━━━\u001b[0m\u001b[37m\u001b[0m \u001b[1m0s\u001b[0m 3ms/step - accuracy: 0.5796 - loss: 0.6872 - val_accuracy: 0.5818 - val_loss: 0.6860\n",
      "Epoch 14/20\n",
      "\u001b[1m130/130\u001b[0m \u001b[32m━━━━━━━━━━━━━━━━━━━━\u001b[0m\u001b[37m\u001b[0m \u001b[1m0s\u001b[0m 4ms/step - accuracy: 0.5857 - loss: 0.6861 - val_accuracy: 0.5763 - val_loss: 0.6859\n",
      "Epoch 15/20\n",
      "\u001b[1m130/130\u001b[0m \u001b[32m━━━━━━━━━━━━━━━━━━━━\u001b[0m\u001b[37m\u001b[0m \u001b[1m0s\u001b[0m 3ms/step - accuracy: 0.5957 - loss: 0.6856 - val_accuracy: 0.5738 - val_loss: 0.6867\n",
      "Epoch 16/20\n",
      "\u001b[1m130/130\u001b[0m \u001b[32m━━━━━━━━━━━━━━━━━━━━\u001b[0m\u001b[37m\u001b[0m \u001b[1m0s\u001b[0m 3ms/step - accuracy: 0.6024 - loss: 0.6846 - val_accuracy: 0.5855 - val_loss: 0.6885\n",
      "Epoch 17/20\n",
      "\u001b[1m130/130\u001b[0m \u001b[32m━━━━━━━━━━━━━━━━━━━━\u001b[0m\u001b[37m\u001b[0m \u001b[1m1s\u001b[0m 8ms/step - accuracy: 0.6142 - loss: 0.6826 - val_accuracy: 0.5893 - val_loss: 0.6900\n",
      "Epoch 18/20\n",
      "\u001b[1m130/130\u001b[0m \u001b[32m━━━━━━━━━━━━━━━━━━━━\u001b[0m\u001b[37m\u001b[0m \u001b[1m0s\u001b[0m 3ms/step - accuracy: 0.6151 - loss: 0.6816 - val_accuracy: 0.5899 - val_loss: 0.6914\n",
      "Epoch 19/20\n",
      "\u001b[1m130/130\u001b[0m \u001b[32m━━━━━━━━━━━━━━━━━━━━\u001b[0m\u001b[37m\u001b[0m \u001b[1m0s\u001b[0m 3ms/step - accuracy: 0.6217 - loss: 0.6803 - val_accuracy: 0.5942 - val_loss: 0.6948\n",
      "Epoch 20/20\n",
      "\u001b[1m130/130\u001b[0m \u001b[32m━━━━━━━━━━━━━━━━━━━━\u001b[0m\u001b[37m\u001b[0m \u001b[1m0s\u001b[0m 3ms/step - accuracy: 0.6270 - loss: 0.6803 - val_accuracy: 0.5973 - val_loss: 0.6923\n"
     ]
    }
   ],
   "source": [
    "# Training the ANN on the Training set\n",
    "history = ann.fit(X_train, y_train, batch_size=batch_size, epochs=n_epochs, validation_split=0.2)"
   ]
  },
  {
   "cell_type": "code",
   "execution_count": 34,
   "id": "bbc55ad5-e279-42d1-b07f-eb2be21ce864",
   "metadata": {},
   "outputs": [
    {
     "data": {
      "image/png": "[encoded data removed]",
      "text/plain": [
       "<Figure size 1000x600 with 1 Axes>"
      ]
     },
     "metadata": {},
     "output_type": "display_data"
    }
   ],
   "source": [
    "# Extracting loss and validation loss from the history object\n",
    "training_loss = history.history['loss']\n",
    "validation_loss = history.history['val_loss']\n",
    "epochs = range(1, len(training_loss) + 1)\n",
    "\n",
    "# Plotting training and validation loss\n",
    "plt.figure(figsize=(10, 6))\n",
    "plt.plot(epochs, training_loss, 'bo-', label='Training Loss')\n",
    "plt.plot(epochs, validation_loss, 'ro-', label='Validation Loss')\n",
    "plt.title('Training vs. Validation Loss')\n",
    "plt.xlabel('Epochs')\n",
    "plt.ylabel('Loss')\n",
    "plt.legend()\n",
    "plt.show()"
   ]
  },
  {
   "cell_type": "code",
   "execution_count": 35,
   "id": "ddfe486a-eb8c-47cc-aa83-3cb63a61c8bc",
   "metadata": {},
   "outputs": [
    {
     "name": "stdout",
     "output_type": "stream",
     "text": [
      "\u001b[1m29/29\u001b[0m \u001b[32m━━━━━━━━━━━━━━━━━━━━\u001b[0m\u001b[37m\u001b[0m \u001b[1m0s\u001b[0m 2ms/step\n",
      "Accuracy: 0.6111111111111112\n",
      "f1_score: 0.55470737913486\n",
      "              precision    recall  f1-score   support\n",
      "\n",
      "           0       0.63      0.68      0.65       485\n",
      "           1       0.59      0.53      0.55       415\n",
      "\n",
      "    accuracy                           0.61       900\n",
      "   macro avg       0.61      0.60      0.60       900\n",
      "weighted avg       0.61      0.61      0.61       900\n",
      "\n"
     ]
    },
    {
     "data": {
      "text/html": [
       "<div>\n",
       "<style scoped>\n",
       "    .dataframe tbody tr th:only-of-type {\n",
       "        vertical-align: middle;\n",
       "    }\n",
       "\n",
       "    .dataframe tbody tr th {\n",
       "        vertical-align: top;\n",
       "    }\n",
       "\n",
       "    .dataframe thead th {\n",
       "        text-align: right;\n",
       "    }\n",
       "</style>\n",
       "<table border=\"1\" class=\"dataframe\">\n",
       "  <thead>\n",
       "    <tr style=\"text-align: right;\">\n",
       "      <th></th>\n",
       "      <th>Model</th>\n",
       "      <th>Accuracy</th>\n",
       "      <th>f1_Score</th>\n",
       "    </tr>\n",
       "  </thead>\n",
       "  <tbody>\n",
       "    <tr>\n",
       "      <th>0</th>\n",
       "      <td>LogisticRegression</td>\n",
       "      <td>0.622222</td>\n",
       "      <td>0.572864</td>\n",
       "    </tr>\n",
       "    <tr>\n",
       "      <th>1</th>\n",
       "      <td>nn_shallow</td>\n",
       "      <td>0.578889</td>\n",
       "      <td>0.499339</td>\n",
       "    </tr>\n",
       "    <tr>\n",
       "      <th>2</th>\n",
       "      <td>nn_deep</td>\n",
       "      <td>0.611111</td>\n",
       "      <td>0.554707</td>\n",
       "    </tr>\n",
       "  </tbody>\n",
       "</table>\n",
       "</div>"
      ],
      "text/plain": [
       "                Model  Accuracy  f1_Score\n",
       "0  LogisticRegression  0.622222  0.572864\n",
       "1          nn_shallow  0.578889  0.499339\n",
       "2             nn_deep  0.611111  0.554707"
      ]
     },
     "execution_count": 35,
     "metadata": {},
     "output_type": "execute_result"
    }
   ],
   "source": [
    "# Predict the labels for the test set\n",
    "predictions_prob = ann.predict(X_test)\n",
    "\n",
    "# Assuming `predictions` are the output probabilities from your model\n",
    "y_pred = (predictions_prob > 0.5).astype(int)\n",
    "\n",
    "# Evaluate the model\n",
    "accuracy = accuracy_score(y_test, y_pred)\n",
    "f1 = f1_score(y_test, y_pred, average='binary')  # Ensure average='binary' for binary classification\n",
    "new_row = {'Model': 'nn_deep', 'Accuracy': accuracy, 'f1_Score': f1}\n",
    "new_row_df = pd.DataFrame([new_row])\n",
    "metrics_df = pd.concat([metrics_df, new_row_df], ignore_index=True)\n",
    "print(f'Accuracy: {accuracy}')\n",
    "print(f'f1_score: {f1}')\n",
    "print(classification_report(y_test, y_pred))\n",
    "metrics_df"
   ]
  },
  {
   "cell_type": "markdown",
   "id": "7201898e-63c1-479e-adaf-720e0e178337",
   "metadata": {},
   "source": [
    "### balancing data using weight adjustment "
   ]
  },
  {
   "cell_type": "code",
   "execution_count": 36,
   "id": "bd6ba3b5",
   "metadata": {},
   "outputs": [],
   "source": [
    "# let's improve the model by adjusting the weight of low sample data.\n",
    "# Calculate class weights\n",
    "weights = class_weight.compute_class_weight(\n",
    "    'balanced',\n",
    "    classes=np.unique(y_train),\n",
    "    y=y_train\n",
    ")\n",
    "class_weights = dict(enumerate(weights))"
   ]
  },
  {
   "cell_type": "code",
   "execution_count": 37,
   "id": "1adf7429-fd1d-4c52-9126-3fe8274a0e28",
   "metadata": {},
   "outputs": [
    {
     "data": {
      "text/plain": [
       "{0: 0.9283256880733946, 1: 1.0836680053547523}"
      ]
     },
     "execution_count": 37,
     "metadata": {},
     "output_type": "execute_result"
    }
   ],
   "source": [
    "class_weights"
   ]
  },
  {
   "cell_type": "code",
   "execution_count": 38,
   "id": "7b392966-f7b9-4123-92bb-55d057345565",
   "metadata": {},
   "outputs": [],
   "source": [
    "# Define the model architecture\n",
    "ann = tf.keras.models.Sequential([\n",
    "    tf.keras.layers.Dense(units=240, activation='relu', kernel_regularizer=regularizers.l2(0.01)),\n",
    "    tf.keras.layers.Dense(units=120, activation='relu', kernel_regularizer=regularizers.l2(0.01)),\n",
    "    tf.keras.layers.Dense(units=60, activation='relu', kernel_regularizer=regularizers.l2(0.01)),\n",
    "    tf.keras.layers.Dense(units=30, activation='relu', kernel_regularizer=regularizers.l2(0.01)),\n",
    "    tf.keras.layers.Dense(units=1, activation='sigmoid')\n",
    "])\n",
    "# Compiling the ANN\n",
    "ann.compile(optimizer = keras.optimizers.Adam(learning_rate=0.001), loss = 'binary_crossentropy', metrics = ['accuracy'])"
   ]
  },
  {
   "cell_type": "code",
   "execution_count": 39,
   "id": "7d6a3c08-9d6b-46a2-98ec-d754416c3acf",
   "metadata": {
    "scrolled": true
   },
   "outputs": [
    {
     "name": "stdout",
     "output_type": "stream",
     "text": [
      "Epoch 1/20\n",
      "\u001b[1m130/130\u001b[0m \u001b[32m━━━━━━━━━━━━━━━━━━━━\u001b[0m\u001b[37m\u001b[0m \u001b[1m2s\u001b[0m 8ms/step - accuracy: 0.5351 - loss: 4.6019 - val_accuracy: 0.5627 - val_loss: 1.2222\n",
      "Epoch 2/20\n",
      "\u001b[1m130/130\u001b[0m \u001b[32m━━━━━━━━━━━━━━━━━━━━\u001b[0m\u001b[37m\u001b[0m \u001b[1m1s\u001b[0m 8ms/step - accuracy: 0.5587 - loss: 1.0233 - val_accuracy: 0.5695 - val_loss: 0.7543\n",
      "Epoch 3/20\n",
      "\u001b[1m130/130\u001b[0m \u001b[32m━━━━━━━━━━━━━━━━━━━━\u001b[0m\u001b[37m\u001b[0m \u001b[1m1s\u001b[0m 9ms/step - accuracy: 0.5536 - loss: 0.7391 - val_accuracy: 0.5670 - val_loss: 0.7058\n",
      "Epoch 4/20\n",
      "\u001b[1m130/130\u001b[0m \u001b[32m━━━━━━━━━━━━━━━━━━━━\u001b[0m\u001b[37m\u001b[0m \u001b[1m1s\u001b[0m 8ms/step - accuracy: 0.5562 - loss: 0.7063 - val_accuracy: 0.5707 - val_loss: 0.6960\n",
      "Epoch 5/20\n",
      "\u001b[1m130/130\u001b[0m \u001b[32m━━━━━━━━━━━━━━━━━━━━\u001b[0m\u001b[37m\u001b[0m \u001b[1m0s\u001b[0m 4ms/step - accuracy: 0.5554 - loss: 0.6992 - val_accuracy: 0.5750 - val_loss: 0.6925\n",
      "Epoch 6/20\n",
      "\u001b[1m130/130\u001b[0m \u001b[32m━━━━━━━━━━━━━━━━━━━━\u001b[0m\u001b[37m\u001b[0m \u001b[1m0s\u001b[0m 3ms/step - accuracy: 0.5570 - loss: 0.6968 - val_accuracy: 0.5750 - val_loss: 0.6908\n",
      "Epoch 7/20\n",
      "\u001b[1m130/130\u001b[0m \u001b[32m━━━━━━━━━━━━━━━━━━━━\u001b[0m\u001b[37m\u001b[0m \u001b[1m0s\u001b[0m 4ms/step - accuracy: 0.5603 - loss: 0.6953 - val_accuracy: 0.5775 - val_loss: 0.6891\n",
      "Epoch 8/20\n",
      "\u001b[1m130/130\u001b[0m \u001b[32m━━━━━━━━━━━━━━━━━━━━\u001b[0m\u001b[37m\u001b[0m \u001b[1m0s\u001b[0m 3ms/step - accuracy: 0.5649 - loss: 0.6938 - val_accuracy: 0.5794 - val_loss: 0.6885\n",
      "Epoch 9/20\n",
      "\u001b[1m130/130\u001b[0m \u001b[32m━━━━━━━━━━━━━━━━━━━━\u001b[0m\u001b[37m\u001b[0m \u001b[1m1s\u001b[0m 8ms/step - accuracy: 0.5701 - loss: 0.6930 - val_accuracy: 0.5738 - val_loss: 0.6879\n",
      "Epoch 10/20\n",
      "\u001b[1m130/130\u001b[0m \u001b[32m━━━━━━━━━━━━━━━━━━━━\u001b[0m\u001b[37m\u001b[0m \u001b[1m1s\u001b[0m 8ms/step - accuracy: 0.5694 - loss: 0.6922 - val_accuracy: 0.5720 - val_loss: 0.6869\n",
      "Epoch 11/20\n",
      "\u001b[1m130/130\u001b[0m \u001b[32m━━━━━━━━━━━━━━━━━━━━\u001b[0m\u001b[37m\u001b[0m \u001b[1m1s\u001b[0m 6ms/step - accuracy: 0.5774 - loss: 0.6915 - val_accuracy: 0.5775 - val_loss: 0.6874\n",
      "Epoch 12/20\n",
      "\u001b[1m130/130\u001b[0m \u001b[32m━━━━━━━━━━━━━━━━━━━━\u001b[0m\u001b[37m\u001b[0m \u001b[1m0s\u001b[0m 3ms/step - accuracy: 0.5743 - loss: 0.6919 - val_accuracy: 0.5800 - val_loss: 0.6868\n",
      "Epoch 13/20\n",
      "\u001b[1m130/130\u001b[0m \u001b[32m━━━━━━━━━━━━━━━━━━━━\u001b[0m\u001b[37m\u001b[0m \u001b[1m0s\u001b[0m 3ms/step - accuracy: 0.5762 - loss: 0.6902 - val_accuracy: 0.5831 - val_loss: 0.6861\n",
      "Epoch 14/20\n",
      "\u001b[1m130/130\u001b[0m \u001b[32m━━━━━━━━━━━━━━━━━━━━\u001b[0m\u001b[37m\u001b[0m \u001b[1m0s\u001b[0m 3ms/step - accuracy: 0.5811 - loss: 0.6890 - val_accuracy: 0.5899 - val_loss: 0.6867\n",
      "Epoch 15/20\n",
      "\u001b[1m130/130\u001b[0m \u001b[32m━━━━━━━━━━━━━━━━━━━━\u001b[0m\u001b[37m\u001b[0m \u001b[1m0s\u001b[0m 3ms/step - accuracy: 0.5766 - loss: 0.6891 - val_accuracy: 0.5874 - val_loss: 0.6870\n",
      "Epoch 16/20\n",
      "\u001b[1m130/130\u001b[0m \u001b[32m━━━━━━━━━━━━━━━━━━━━\u001b[0m\u001b[37m\u001b[0m \u001b[1m0s\u001b[0m 3ms/step - accuracy: 0.5837 - loss: 0.6885 - val_accuracy: 0.5855 - val_loss: 0.6890\n",
      "Epoch 17/20\n",
      "\u001b[1m130/130\u001b[0m \u001b[32m━━━━━━━━━━━━━━━━━━━━\u001b[0m\u001b[37m\u001b[0m \u001b[1m0s\u001b[0m 3ms/step - accuracy: 0.5937 - loss: 0.6869 - val_accuracy: 0.5905 - val_loss: 0.6893\n",
      "Epoch 18/20\n",
      "\u001b[1m130/130\u001b[0m \u001b[32m━━━━━━━━━━━━━━━━━━━━\u001b[0m\u001b[37m\u001b[0m \u001b[1m0s\u001b[0m 3ms/step - accuracy: 0.5941 - loss: 0.6862 - val_accuracy: 0.5837 - val_loss: 0.6895\n",
      "Epoch 19/20\n",
      "\u001b[1m130/130\u001b[0m \u001b[32m━━━━━━━━━━━━━━━━━━━━\u001b[0m\u001b[37m\u001b[0m \u001b[1m0s\u001b[0m 3ms/step - accuracy: 0.5971 - loss: 0.6855 - val_accuracy: 0.5769 - val_loss: 0.6910\n",
      "Epoch 20/20\n",
      "\u001b[1m130/130\u001b[0m \u001b[32m━━━━━━━━━━━━━━━━━━━━\u001b[0m\u001b[37m\u001b[0m \u001b[1m0s\u001b[0m 3ms/step - accuracy: 0.6037 - loss: 0.6838 - val_accuracy: 0.5763 - val_loss: 0.6930\n"
     ]
    }
   ],
   "source": [
    "# Training the ANN on the Training set with class weight adjustment\n",
    "history = ann.fit(X_train, y_train, batch_size=batch_size, epochs=n_epochs, validation_split=0.2, class_weight=class_weights)"
   ]
  },
  {
   "cell_type": "code",
   "execution_count": 40,
   "id": "ffd32a64-b0e1-4492-a5a8-5e878b70b115",
   "metadata": {},
   "outputs": [
    {
     "data": {
      "image/png": "[encoded data removed]",
      "text/plain": [
       "<Figure size 1000x600 with 1 Axes>"
      ]
     },
     "metadata": {},
     "output_type": "display_data"
    }
   ],
   "source": [
    "# Extracting loss and validation loss from the history object\n",
    "training_loss = history.history['loss']\n",
    "validation_loss = history.history['val_loss']\n",
    "epochs = range(1, len(training_loss) + 1)\n",
    "\n",
    "# Plotting training and validation loss\n",
    "plt.figure(figsize=(10, 6))\n",
    "plt.plot(epochs, training_loss, 'bo-', label='Training Loss')\n",
    "plt.plot(epochs, validation_loss, 'ro-', label='Validation Loss')\n",
    "plt.title('Training vs. Validation Loss')\n",
    "plt.xlabel('Epochs')\n",
    "plt.ylabel('Loss')\n",
    "plt.legend()\n",
    "plt.show()"
   ]
  },
  {
   "cell_type": "code",
   "execution_count": 41,
   "id": "ba30ad81-336c-44f6-98bb-e97249d86af3",
   "metadata": {},
   "outputs": [
    {
     "name": "stdout",
     "output_type": "stream",
     "text": [
      "\u001b[1m29/29\u001b[0m \u001b[32m━━━━━━━━━━━━━━━━━━━━\u001b[0m\u001b[37m\u001b[0m \u001b[1m0s\u001b[0m 2ms/step\n",
      "Accuracy: 0.58\n",
      "f1_score: 0.6142857142857143\n",
      "              precision    recall  f1-score   support\n",
      "\n",
      "           0       0.66      0.46      0.54       485\n",
      "           1       0.53      0.73      0.61       415\n",
      "\n",
      "    accuracy                           0.58       900\n",
      "   macro avg       0.60      0.59      0.58       900\n",
      "weighted avg       0.60      0.58      0.57       900\n",
      "\n"
     ]
    },
    {
     "data": {
      "text/html": [
       "<div>\n",
       "<style scoped>\n",
       "    .dataframe tbody tr th:only-of-type {\n",
       "        vertical-align: middle;\n",
       "    }\n",
       "\n",
       "    .dataframe tbody tr th {\n",
       "        vertical-align: top;\n",
       "    }\n",
       "\n",
       "    .dataframe thead th {\n",
       "        text-align: right;\n",
       "    }\n",
       "</style>\n",
       "<table border=\"1\" class=\"dataframe\">\n",
       "  <thead>\n",
       "    <tr style=\"text-align: right;\">\n",
       "      <th></th>\n",
       "      <th>Model</th>\n",
       "      <th>Accuracy</th>\n",
       "      <th>f1_Score</th>\n",
       "    </tr>\n",
       "  </thead>\n",
       "  <tbody>\n",
       "    <tr>\n",
       "      <th>0</th>\n",
       "      <td>LogisticRegression</td>\n",
       "      <td>0.622222</td>\n",
       "      <td>0.572864</td>\n",
       "    </tr>\n",
       "    <tr>\n",
       "      <th>1</th>\n",
       "      <td>nn_shallow</td>\n",
       "      <td>0.578889</td>\n",
       "      <td>0.499339</td>\n",
       "    </tr>\n",
       "    <tr>\n",
       "      <th>2</th>\n",
       "      <td>nn_deep</td>\n",
       "      <td>0.611111</td>\n",
       "      <td>0.554707</td>\n",
       "    </tr>\n",
       "    <tr>\n",
       "      <th>3</th>\n",
       "      <td>nn_deep_weighted</td>\n",
       "      <td>0.580000</td>\n",
       "      <td>0.614286</td>\n",
       "    </tr>\n",
       "  </tbody>\n",
       "</table>\n",
       "</div>"
      ],
      "text/plain": [
       "                Model  Accuracy  f1_Score\n",
       "0  LogisticRegression  0.622222  0.572864\n",
       "1          nn_shallow  0.578889  0.499339\n",
       "2             nn_deep  0.611111  0.554707\n",
       "3    nn_deep_weighted  0.580000  0.614286"
      ]
     },
     "execution_count": 41,
     "metadata": {},
     "output_type": "execute_result"
    }
   ],
   "source": [
    "# Predict the labels for the test set\n",
    "predictions_prob = ann.predict(X_test)\n",
    "\n",
    "# Assuming `predictions` are the output probabilities from your model\n",
    "y_pred = (predictions_prob > 0.5).astype(int)\n",
    "\n",
    "# Evaluate the model\n",
    "accuracy = accuracy_score(y_test, y_pred)\n",
    "f1 = f1_score(y_test, y_pred, average='binary')  # Ensure average='binary' for binary classification\n",
    "new_row = {'Model': 'nn_deep_weighted', 'Accuracy': accuracy, 'f1_Score': f1}\n",
    "new_row_df = pd.DataFrame([new_row])\n",
    "metrics_df = pd.concat([metrics_df, new_row_df], ignore_index=True)\n",
    "print(f'Accuracy: {accuracy}')\n",
    "print(f'f1_score: {f1}')\n",
    "print(classification_report(y_test, y_pred))\n",
    "metrics_df"
   ]
  },
  {
   "cell_type": "code",
   "execution_count": 42,
   "id": "44287cec-b566-4637-8bc3-b44329ea124c",
   "metadata": {
    "scrolled": true
   },
   "outputs": [
    {
     "name": "stdout",
     "output_type": "stream",
     "text": [
      "Training for fold 1 ...\n",
      "Epoch 1/20\n"
     ]
    },
    {
     "name": "stderr",
     "output_type": "stream",
     "text": [
      "/opt/jupyterhub/lib/python3.10/site-packages/keras/src/layers/core/dense.py:87: UserWarning: Do not pass an `input_shape`/`input_dim` argument to a layer. When using Sequential models, prefer using an `Input(shape)` object as the first layer in the model instead.\n",
      "  super().__init__(activity_regularizer=activity_regularizer, **kwargs)\n"
     ]
    },
    {
     "name": "stdout",
     "output_type": "stream",
     "text": [
      "\u001b[1m130/130\u001b[0m \u001b[32m━━━━━━━━━━━━━━━━━━━━\u001b[0m\u001b[37m\u001b[0m \u001b[1m2s\u001b[0m 5ms/step - accuracy: 0.5528 - loss: 4.5893 - val_accuracy: 0.5547 - val_loss: 1.2124\n",
      "Epoch 2/20\n",
      "\u001b[1m130/130\u001b[0m \u001b[32m━━━━━━━━━━━━━━━━━━━━\u001b[0m\u001b[37m\u001b[0m \u001b[1m1s\u001b[0m 8ms/step - accuracy: 0.5631 - loss: 1.0128 - val_accuracy: 0.5503 - val_loss: 0.7509\n",
      "Epoch 3/20\n",
      "\u001b[1m130/130\u001b[0m \u001b[32m━━━━━━━━━━━━━━━━━━━━\u001b[0m\u001b[37m\u001b[0m \u001b[1m0s\u001b[0m 4ms/step - accuracy: 0.5525 - loss: 0.7344 - val_accuracy: 0.5633 - val_loss: 0.7045\n",
      "Epoch 4/20\n",
      "\u001b[1m130/130\u001b[0m \u001b[32m━━━━━━━━━━━━━━━━━━━━\u001b[0m\u001b[37m\u001b[0m \u001b[1m1s\u001b[0m 4ms/step - accuracy: 0.5558 - loss: 0.7025 - val_accuracy: 0.5608 - val_loss: 0.6951\n",
      "Epoch 5/20\n",
      "\u001b[1m130/130\u001b[0m \u001b[32m━━━━━━━━━━━━━━━━━━━━\u001b[0m\u001b[37m\u001b[0m \u001b[1m1s\u001b[0m 4ms/step - accuracy: 0.5648 - loss: 0.6954 - val_accuracy: 0.5534 - val_loss: 0.6921\n",
      "Epoch 6/20\n",
      "\u001b[1m130/130\u001b[0m \u001b[32m━━━━━━━━━━━━━━━━━━━━\u001b[0m\u001b[37m\u001b[0m \u001b[1m1s\u001b[0m 7ms/step - accuracy: 0.5692 - loss: 0.6923 - val_accuracy: 0.5689 - val_loss: 0.6906\n",
      "Epoch 7/20\n",
      "\u001b[1m130/130\u001b[0m \u001b[32m━━━━━━━━━━━━━━━━━━━━\u001b[0m\u001b[37m\u001b[0m \u001b[1m1s\u001b[0m 5ms/step - accuracy: 0.5755 - loss: 0.6907 - val_accuracy: 0.5812 - val_loss: 0.6898\n",
      "Epoch 8/20\n",
      "\u001b[1m130/130\u001b[0m \u001b[32m━━━━━━━━━━━━━━━━━━━━\u001b[0m\u001b[37m\u001b[0m \u001b[1m0s\u001b[0m 3ms/step - accuracy: 0.5755 - loss: 0.6898 - val_accuracy: 0.5738 - val_loss: 0.6903\n",
      "Epoch 9/20\n",
      "\u001b[1m130/130\u001b[0m \u001b[32m━━━━━━━━━━━━━━━━━━━━\u001b[0m\u001b[37m\u001b[0m \u001b[1m0s\u001b[0m 3ms/step - accuracy: 0.5789 - loss: 0.6890 - val_accuracy: 0.5862 - val_loss: 0.6895\n",
      "Epoch 10/20\n",
      "\u001b[1m130/130\u001b[0m \u001b[32m━━━━━━━━━━━━━━━━━━━━\u001b[0m\u001b[37m\u001b[0m \u001b[1m0s\u001b[0m 3ms/step - accuracy: 0.5924 - loss: 0.6876 - val_accuracy: 0.5825 - val_loss: 0.6920\n",
      "Epoch 11/20\n",
      "\u001b[1m130/130\u001b[0m \u001b[32m━━━━━━━━━━━━━━━━━━━━\u001b[0m\u001b[37m\u001b[0m \u001b[1m1s\u001b[0m 4ms/step - accuracy: 0.5963 - loss: 0.6878 - val_accuracy: 0.5800 - val_loss: 0.6961\n",
      "Epoch 12/20\n",
      "\u001b[1m130/130\u001b[0m \u001b[32m━━━━━━━━━━━━━━━━━━━━\u001b[0m\u001b[37m\u001b[0m \u001b[1m0s\u001b[0m 4ms/step - accuracy: 0.5985 - loss: 0.6874 - val_accuracy: 0.5825 - val_loss: 0.6909\n",
      "Epoch 13/20\n",
      "\u001b[1m130/130\u001b[0m \u001b[32m━━━━━━━━━━━━━━━━━━━━\u001b[0m\u001b[37m\u001b[0m \u001b[1m1s\u001b[0m 4ms/step - accuracy: 0.6068 - loss: 0.6842 - val_accuracy: 0.5874 - val_loss: 0.6927\n",
      "Epoch 14/20\n",
      "\u001b[1m130/130\u001b[0m \u001b[32m━━━━━━━━━━━━━━━━━━━━\u001b[0m\u001b[37m\u001b[0m \u001b[1m0s\u001b[0m 3ms/step - accuracy: 0.6113 - loss: 0.6827 - val_accuracy: 0.5831 - val_loss: 0.6945\n",
      "Epoch 15/20\n",
      "\u001b[1m130/130\u001b[0m \u001b[32m━━━━━━━━━━━━━━━━━━━━\u001b[0m\u001b[37m\u001b[0m \u001b[1m1s\u001b[0m 5ms/step - accuracy: 0.6195 - loss: 0.6810 - val_accuracy: 0.5899 - val_loss: 0.6930\n",
      "Epoch 16/20\n",
      "\u001b[1m130/130\u001b[0m \u001b[32m━━━━━━━━━━━━━━━━━━━━\u001b[0m\u001b[37m\u001b[0m \u001b[1m1s\u001b[0m 5ms/step - accuracy: 0.6214 - loss: 0.6776 - val_accuracy: 0.5886 - val_loss: 0.6956\n",
      "Epoch 17/20\n",
      "\u001b[1m130/130\u001b[0m \u001b[32m━━━━━━━━━━━━━━━━━━━━\u001b[0m\u001b[37m\u001b[0m \u001b[1m0s\u001b[0m 3ms/step - accuracy: 0.6299 - loss: 0.6762 - val_accuracy: 0.5930 - val_loss: 0.6948\n",
      "Epoch 18/20\n",
      "\u001b[1m130/130\u001b[0m \u001b[32m━━━━━━━━━━━━━━━━━━━━\u001b[0m\u001b[37m\u001b[0m \u001b[1m0s\u001b[0m 3ms/step - accuracy: 0.6333 - loss: 0.6721 - val_accuracy: 0.5905 - val_loss: 0.6948\n",
      "Epoch 19/20\n",
      "\u001b[1m130/130\u001b[0m \u001b[32m━━━━━━━━━━━━━━━━━━━━\u001b[0m\u001b[37m\u001b[0m \u001b[1m0s\u001b[0m 3ms/step - accuracy: 0.6411 - loss: 0.6704 - val_accuracy: 0.5973 - val_loss: 0.6951\n",
      "Epoch 20/20\n",
      "\u001b[1m130/130\u001b[0m \u001b[32m━━━━━━━━━━━━━━━━━━━━\u001b[0m\u001b[37m\u001b[0m \u001b[1m0s\u001b[0m 3ms/step - accuracy: 0.6421 - loss: 0.6677 - val_accuracy: 0.5886 - val_loss: 0.6949\n",
      "Training for fold 2 ...\n",
      "Epoch 1/20\n"
     ]
    },
    {
     "name": "stderr",
     "output_type": "stream",
     "text": [
      "/opt/jupyterhub/lib/python3.10/site-packages/keras/src/layers/core/dense.py:87: UserWarning: Do not pass an `input_shape`/`input_dim` argument to a layer. When using Sequential models, prefer using an `Input(shape)` object as the first layer in the model instead.\n",
      "  super().__init__(activity_regularizer=activity_regularizer, **kwargs)\n"
     ]
    },
    {
     "name": "stdout",
     "output_type": "stream",
     "text": [
      "\u001b[1m130/130\u001b[0m \u001b[32m━━━━━━━━━━━━━━━━━━━━\u001b[0m\u001b[37m\u001b[0m \u001b[1m2s\u001b[0m 5ms/step - accuracy: 0.5402 - loss: 4.9099 - val_accuracy: 0.5744 - val_loss: 1.5027\n",
      "Epoch 2/20\n",
      "\u001b[1m130/130\u001b[0m \u001b[32m━━━━━━━━━━━━━━━━━━━━\u001b[0m\u001b[37m\u001b[0m \u001b[1m1s\u001b[0m 4ms/step - accuracy: 0.5745 - loss: 1.2191 - val_accuracy: 0.5596 - val_loss: 0.8195\n",
      "Epoch 3/20\n",
      "\u001b[1m130/130\u001b[0m \u001b[32m━━━━━━━━━━━━━━━━━━━━\u001b[0m\u001b[37m\u001b[0m \u001b[1m0s\u001b[0m 3ms/step - accuracy: 0.5756 - loss: 0.7831 - val_accuracy: 0.5522 - val_loss: 0.7257\n",
      "Epoch 4/20\n",
      "\u001b[1m130/130\u001b[0m \u001b[32m━━━━━━━━━━━━━━━━━━━━\u001b[0m\u001b[37m\u001b[0m \u001b[1m0s\u001b[0m 3ms/step - accuracy: 0.5736 - loss: 0.7171 - val_accuracy: 0.5429 - val_loss: 0.7033\n",
      "Epoch 5/20\n",
      "\u001b[1m130/130\u001b[0m \u001b[32m━━━━━━━━━━━━━━━━━━━━\u001b[0m\u001b[37m\u001b[0m \u001b[1m1s\u001b[0m 6ms/step - accuracy: 0.5794 - loss: 0.7005 - val_accuracy: 0.5522 - val_loss: 0.6963\n",
      "Epoch 6/20\n",
      "\u001b[1m130/130\u001b[0m \u001b[32m━━━━━━━━━━━━━━━━━━━━\u001b[0m\u001b[37m\u001b[0m \u001b[1m0s\u001b[0m 3ms/step - accuracy: 0.5723 - loss: 0.6945 - val_accuracy: 0.5540 - val_loss: 0.6939\n",
      "Epoch 7/20\n",
      "\u001b[1m130/130\u001b[0m \u001b[32m━━━━━━━━━━━━━━━━━━━━\u001b[0m\u001b[37m\u001b[0m \u001b[1m0s\u001b[0m 4ms/step - accuracy: 0.5633 - loss: 0.6921 - val_accuracy: 0.5596 - val_loss: 0.6923\n",
      "Epoch 8/20\n",
      "\u001b[1m130/130\u001b[0m \u001b[32m━━━━━━━━━━━━━━━━━━━━\u001b[0m\u001b[37m\u001b[0m \u001b[1m0s\u001b[0m 3ms/step - accuracy: 0.5590 - loss: 0.6900 - val_accuracy: 0.5578 - val_loss: 0.6914\n",
      "Epoch 9/20\n",
      "\u001b[1m130/130\u001b[0m \u001b[32m━━━━━━━━━━━━━━━━━━━━\u001b[0m\u001b[37m\u001b[0m \u001b[1m0s\u001b[0m 3ms/step - accuracy: 0.5648 - loss: 0.6888 - val_accuracy: 0.5621 - val_loss: 0.6915\n",
      "Epoch 10/20\n",
      "\u001b[1m130/130\u001b[0m \u001b[32m━━━━━━━━━━━━━━━━━━━━\u001b[0m\u001b[37m\u001b[0m \u001b[1m1s\u001b[0m 7ms/step - accuracy: 0.5640 - loss: 0.6888 - val_accuracy: 0.5615 - val_loss: 0.6933\n",
      "Epoch 11/20\n",
      "\u001b[1m130/130\u001b[0m \u001b[32m━━━━━━━━━━━━━━━━━━━━\u001b[0m\u001b[37m\u001b[0m \u001b[1m1s\u001b[0m 7ms/step - accuracy: 0.5689 - loss: 0.6890 - val_accuracy: 0.5732 - val_loss: 0.6938\n",
      "Epoch 12/20\n",
      "\u001b[1m130/130\u001b[0m \u001b[32m━━━━━━━━━━━━━━━━━━━━\u001b[0m\u001b[37m\u001b[0m \u001b[1m0s\u001b[0m 4ms/step - accuracy: 0.5740 - loss: 0.6896 - val_accuracy: 0.5744 - val_loss: 0.6954\n",
      "Epoch 13/20\n",
      "\u001b[1m130/130\u001b[0m \u001b[32m━━━━━━━━━━━━━━━━━━━━\u001b[0m\u001b[37m\u001b[0m \u001b[1m0s\u001b[0m 3ms/step - accuracy: 0.5824 - loss: 0.6900 - val_accuracy: 0.5744 - val_loss: 0.6993\n",
      "Epoch 14/20\n",
      "\u001b[1m130/130\u001b[0m \u001b[32m━━━━━━━━━━━━━━━━━━━━\u001b[0m\u001b[37m\u001b[0m \u001b[1m0s\u001b[0m 4ms/step - accuracy: 0.5818 - loss: 0.6889 - val_accuracy: 0.5707 - val_loss: 0.7009\n",
      "Epoch 15/20\n",
      "\u001b[1m130/130\u001b[0m \u001b[32m━━━━━━━━━━━━━━━━━━━━\u001b[0m\u001b[37m\u001b[0m \u001b[1m1s\u001b[0m 7ms/step - accuracy: 0.5890 - loss: 0.6883 - val_accuracy: 0.5750 - val_loss: 0.7030\n",
      "Epoch 16/20\n",
      "\u001b[1m130/130\u001b[0m \u001b[32m━━━━━━━━━━━━━━━━━━━━\u001b[0m\u001b[37m\u001b[0m \u001b[1m0s\u001b[0m 4ms/step - accuracy: 0.5976 - loss: 0.6878 - val_accuracy: 0.5670 - val_loss: 0.7090\n",
      "Epoch 17/20\n",
      "\u001b[1m130/130\u001b[0m \u001b[32m━━━━━━━━━━━━━━━━━━━━\u001b[0m\u001b[37m\u001b[0m \u001b[1m0s\u001b[0m 3ms/step - accuracy: 0.5998 - loss: 0.6874 - val_accuracy: 0.5720 - val_loss: 0.7045\n",
      "Epoch 18/20\n",
      "\u001b[1m130/130\u001b[0m \u001b[32m━━━━━━━━━━━━━━━━━━━━\u001b[0m\u001b[37m\u001b[0m \u001b[1m0s\u001b[0m 3ms/step - accuracy: 0.6085 - loss: 0.6834 - val_accuracy: 0.5621 - val_loss: 0.7115\n",
      "Epoch 19/20\n",
      "\u001b[1m130/130\u001b[0m \u001b[32m━━━━━━━━━━━━━━━━━━━━\u001b[0m\u001b[37m\u001b[0m \u001b[1m0s\u001b[0m 3ms/step - accuracy: 0.6102 - loss: 0.6805 - val_accuracy: 0.5689 - val_loss: 0.7109\n",
      "Epoch 20/20\n",
      "\u001b[1m130/130\u001b[0m \u001b[32m━━━━━━━━━━━━━━━━━━━━\u001b[0m\u001b[37m\u001b[0m \u001b[1m1s\u001b[0m 5ms/step - accuracy: 0.6110 - loss: 0.6774 - val_accuracy: 0.5757 - val_loss: 0.7124\n",
      "Training for fold 3 ...\n",
      "Epoch 1/20\n"
     ]
    },
    {
     "name": "stderr",
     "output_type": "stream",
     "text": [
      "/opt/jupyterhub/lib/python3.10/site-packages/keras/src/layers/core/dense.py:87: UserWarning: Do not pass an `input_shape`/`input_dim` argument to a layer. When using Sequential models, prefer using an `Input(shape)` object as the first layer in the model instead.\n",
      "  super().__init__(activity_regularizer=activity_regularizer, **kwargs)\n"
     ]
    },
    {
     "name": "stdout",
     "output_type": "stream",
     "text": [
      "\u001b[1m130/130\u001b[0m \u001b[32m━━━━━━━━━━━━━━━━━━━━\u001b[0m\u001b[37m\u001b[0m \u001b[1m2s\u001b[0m 5ms/step - accuracy: 0.5755 - loss: 4.7502 - val_accuracy: 0.5435 - val_loss: 1.3535\n",
      "Epoch 2/20\n",
      "\u001b[1m130/130\u001b[0m \u001b[32m━━━━━━━━━━━━━━━━━━━━\u001b[0m\u001b[37m\u001b[0m \u001b[1m1s\u001b[0m 7ms/step - accuracy: 0.5896 - loss: 1.1001 - val_accuracy: 0.5417 - val_loss: 0.7749\n",
      "Epoch 3/20\n",
      "\u001b[1m130/130\u001b[0m \u001b[32m━━━━━━━━━━━━━━━━━━━━\u001b[0m\u001b[37m\u001b[0m \u001b[1m0s\u001b[0m 3ms/step - accuracy: 0.5852 - loss: 0.7431 - val_accuracy: 0.5411 - val_loss: 0.7122\n",
      "Epoch 4/20\n",
      "\u001b[1m130/130\u001b[0m \u001b[32m━━━━━━━━━━━━━━━━━━━━\u001b[0m\u001b[37m\u001b[0m \u001b[1m0s\u001b[0m 3ms/step - accuracy: 0.5789 - loss: 0.7003 - val_accuracy: 0.5497 - val_loss: 0.7002\n",
      "Epoch 5/20\n",
      "\u001b[1m130/130\u001b[0m \u001b[32m━━━━━━━━━━━━━━━━━━━━\u001b[0m\u001b[37m\u001b[0m \u001b[1m0s\u001b[0m 3ms/step - accuracy: 0.5820 - loss: 0.6909 - val_accuracy: 0.5540 - val_loss: 0.6971\n",
      "Epoch 6/20\n",
      "\u001b[1m130/130\u001b[0m \u001b[32m━━━━━━━━━━━━━━━━━━━━\u001b[0m\u001b[37m\u001b[0m \u001b[1m1s\u001b[0m 4ms/step - accuracy: 0.5864 - loss: 0.6870 - val_accuracy: 0.5510 - val_loss: 0.6979\n",
      "Epoch 7/20\n",
      "\u001b[1m130/130\u001b[0m \u001b[32m━━━━━━━━━━━━━━━━━━━━\u001b[0m\u001b[37m\u001b[0m \u001b[1m1s\u001b[0m 7ms/step - accuracy: 0.5837 - loss: 0.6846 - val_accuracy: 0.5448 - val_loss: 0.6975\n",
      "Epoch 8/20\n",
      "\u001b[1m130/130\u001b[0m \u001b[32m━━━━━━━━━━━━━━━━━━━━\u001b[0m\u001b[37m\u001b[0m \u001b[1m1s\u001b[0m 5ms/step - accuracy: 0.5973 - loss: 0.6823 - val_accuracy: 0.5559 - val_loss: 0.6983\n",
      "Epoch 9/20\n",
      "\u001b[1m130/130\u001b[0m \u001b[32m━━━━━━━━━━━━━━━━━━━━\u001b[0m\u001b[37m\u001b[0m \u001b[1m1s\u001b[0m 6ms/step - accuracy: 0.6007 - loss: 0.6822 - val_accuracy: 0.5571 - val_loss: 0.7022\n",
      "Epoch 10/20\n",
      "\u001b[1m130/130\u001b[0m \u001b[32m━━━━━━━━━━━━━━━━━━━━\u001b[0m\u001b[37m\u001b[0m \u001b[1m1s\u001b[0m 7ms/step - accuracy: 0.6041 - loss: 0.6828 - val_accuracy: 0.5584 - val_loss: 0.7054\n",
      "Epoch 11/20\n",
      "\u001b[1m130/130\u001b[0m \u001b[32m━━━━━━━━━━━━━━━━━━━━\u001b[0m\u001b[37m\u001b[0m \u001b[1m1s\u001b[0m 5ms/step - accuracy: 0.6069 - loss: 0.6818 - val_accuracy: 0.5559 - val_loss: 0.7071\n",
      "Epoch 12/20\n",
      "\u001b[1m130/130\u001b[0m \u001b[32m━━━━━━━━━━━━━━━━━━━━\u001b[0m\u001b[37m\u001b[0m \u001b[1m1s\u001b[0m 4ms/step - accuracy: 0.6163 - loss: 0.6816 - val_accuracy: 0.5658 - val_loss: 0.7051\n",
      "Epoch 13/20\n",
      "\u001b[1m130/130\u001b[0m \u001b[32m━━━━━━━━━━━━━━━━━━━━\u001b[0m\u001b[37m\u001b[0m \u001b[1m0s\u001b[0m 4ms/step - accuracy: 0.6231 - loss: 0.6777 - val_accuracy: 0.5683 - val_loss: 0.7060\n",
      "Epoch 14/20\n",
      "\u001b[1m130/130\u001b[0m \u001b[32m━━━━━━━━━━━━━━━━━━━━\u001b[0m\u001b[37m\u001b[0m \u001b[1m0s\u001b[0m 3ms/step - accuracy: 0.6301 - loss: 0.6748 - val_accuracy: 0.5750 - val_loss: 0.7046\n",
      "Epoch 15/20\n",
      "\u001b[1m130/130\u001b[0m \u001b[32m━━━━━━━━━━━━━━━━━━━━\u001b[0m\u001b[37m\u001b[0m \u001b[1m0s\u001b[0m 4ms/step - accuracy: 0.6395 - loss: 0.6708 - val_accuracy: 0.5775 - val_loss: 0.7045\n",
      "Epoch 16/20\n",
      "\u001b[1m130/130\u001b[0m \u001b[32m━━━━━━━━━━━━━━━━━━━━\u001b[0m\u001b[37m\u001b[0m \u001b[1m1s\u001b[0m 7ms/step - accuracy: 0.6428 - loss: 0.6672 - val_accuracy: 0.5781 - val_loss: 0.7066\n",
      "Epoch 17/20\n",
      "\u001b[1m130/130\u001b[0m \u001b[32m━━━━━━━━━━━━━━━━━━━━\u001b[0m\u001b[37m\u001b[0m \u001b[1m1s\u001b[0m 7ms/step - accuracy: 0.6453 - loss: 0.6634 - val_accuracy: 0.5701 - val_loss: 0.7084\n",
      "Epoch 18/20\n",
      "\u001b[1m130/130\u001b[0m \u001b[32m━━━━━━━━━━━━━━━━━━━━\u001b[0m\u001b[37m\u001b[0m \u001b[1m1s\u001b[0m 6ms/step - accuracy: 0.6622 - loss: 0.6594 - val_accuracy: 0.5781 - val_loss: 0.7077\n",
      "Epoch 19/20\n",
      "\u001b[1m130/130\u001b[0m \u001b[32m━━━━━━━━━━━━━━━━━━━━\u001b[0m\u001b[37m\u001b[0m \u001b[1m1s\u001b[0m 7ms/step - accuracy: 0.6668 - loss: 0.6577 - val_accuracy: 0.5781 - val_loss: 0.7121\n",
      "Epoch 20/20\n",
      "\u001b[1m130/130\u001b[0m \u001b[32m━━━━━━━━━━━━━━━━━━━━\u001b[0m\u001b[37m\u001b[0m \u001b[1m1s\u001b[0m 7ms/step - accuracy: 0.6666 - loss: 0.6530 - val_accuracy: 0.5788 - val_loss: 0.7143\n",
      "Training for fold 4 ...\n",
      "Epoch 1/20\n"
     ]
    },
    {
     "name": "stderr",
     "output_type": "stream",
     "text": [
      "/opt/jupyterhub/lib/python3.10/site-packages/keras/src/layers/core/dense.py:87: UserWarning: Do not pass an `input_shape`/`input_dim` argument to a layer. When using Sequential models, prefer using an `Input(shape)` object as the first layer in the model instead.\n",
      "  super().__init__(activity_regularizer=activity_regularizer, **kwargs)\n"
     ]
    },
    {
     "name": "stdout",
     "output_type": "stream",
     "text": [
      "\u001b[1m130/130\u001b[0m \u001b[32m━━━━━━━━━━━━━━━━━━━━\u001b[0m\u001b[37m\u001b[0m \u001b[1m2s\u001b[0m 5ms/step - accuracy: 0.5410 - loss: 4.7991 - val_accuracy: 0.5701 - val_loss: 1.3604\n",
      "Epoch 2/20\n",
      "\u001b[1m130/130\u001b[0m \u001b[32m━━━━━━━━━━━━━━━━━━━━\u001b[0m\u001b[37m\u001b[0m \u001b[1m1s\u001b[0m 7ms/step - accuracy: 0.5584 - loss: 1.1165 - val_accuracy: 0.5720 - val_loss: 0.7748\n",
      "Epoch 3/20\n",
      "\u001b[1m130/130\u001b[0m \u001b[32m━━━━━━━━━━━━━━━━━━━━\u001b[0m\u001b[37m\u001b[0m \u001b[1m1s\u001b[0m 7ms/step - accuracy: 0.5518 - loss: 0.7538 - val_accuracy: 0.5720 - val_loss: 0.7093\n",
      "Epoch 4/20\n",
      "\u001b[1m130/130\u001b[0m \u001b[32m━━━━━━━━━━━━━━━━━━━━\u001b[0m\u001b[37m\u001b[0m \u001b[1m1s\u001b[0m 7ms/step - accuracy: 0.5610 - loss: 0.7083 - val_accuracy: 0.5707 - val_loss: 0.6968\n",
      "Epoch 5/20\n",
      "\u001b[1m130/130\u001b[0m \u001b[32m━━━━━━━━━━━━━━━━━━━━\u001b[0m\u001b[37m\u001b[0m \u001b[1m1s\u001b[0m 7ms/step - accuracy: 0.5635 - loss: 0.6986 - val_accuracy: 0.5738 - val_loss: 0.6933\n",
      "Epoch 6/20\n",
      "\u001b[1m130/130\u001b[0m \u001b[32m━━━━━━━━━━━━━━━━━━━━\u001b[0m\u001b[37m\u001b[0m \u001b[1m1s\u001b[0m 7ms/step - accuracy: 0.5639 - loss: 0.6953 - val_accuracy: 0.5639 - val_loss: 0.6923\n",
      "Epoch 7/20\n",
      "\u001b[1m130/130\u001b[0m \u001b[32m━━━━━━━━━━━━━━━━━━━━\u001b[0m\u001b[37m\u001b[0m \u001b[1m0s\u001b[0m 3ms/step - accuracy: 0.5612 - loss: 0.6943 - val_accuracy: 0.5615 - val_loss: 0.6914\n",
      "Epoch 8/20\n",
      "\u001b[1m130/130\u001b[0m \u001b[32m━━━━━━━━━━━━━━━━━━━━\u001b[0m\u001b[37m\u001b[0m \u001b[1m0s\u001b[0m 3ms/step - accuracy: 0.5682 - loss: 0.6934 - val_accuracy: 0.5707 - val_loss: 0.6909\n",
      "Epoch 9/20\n",
      "\u001b[1m130/130\u001b[0m \u001b[32m━━━━━━━━━━━━━━━━━━━━\u001b[0m\u001b[37m\u001b[0m \u001b[1m1s\u001b[0m 7ms/step - accuracy: 0.5705 - loss: 0.6931 - val_accuracy: 0.5713 - val_loss: 0.6908\n",
      "Epoch 10/20\n",
      "\u001b[1m130/130\u001b[0m \u001b[32m━━━━━━━━━━━━━━━━━━━━\u001b[0m\u001b[37m\u001b[0m \u001b[1m0s\u001b[0m 4ms/step - accuracy: 0.5679 - loss: 0.6932 - val_accuracy: 0.5707 - val_loss: 0.6913\n",
      "Epoch 11/20\n",
      "\u001b[1m130/130\u001b[0m \u001b[32m━━━━━━━━━━━━━━━━━━━━\u001b[0m\u001b[37m\u001b[0m \u001b[1m0s\u001b[0m 3ms/step - accuracy: 0.5736 - loss: 0.6933 - val_accuracy: 0.5689 - val_loss: 0.6928\n",
      "Epoch 12/20\n",
      "\u001b[1m130/130\u001b[0m \u001b[32m━━━━━━━━━━━━━━━━━━━━\u001b[0m\u001b[37m\u001b[0m \u001b[1m0s\u001b[0m 4ms/step - accuracy: 0.5689 - loss: 0.6938 - val_accuracy: 0.5670 - val_loss: 0.6929\n",
      "Epoch 13/20\n",
      "\u001b[1m130/130\u001b[0m \u001b[32m━━━━━━━━━━━━━━━━━━━━\u001b[0m\u001b[37m\u001b[0m \u001b[1m0s\u001b[0m 3ms/step - accuracy: 0.5693 - loss: 0.6939 - val_accuracy: 0.5757 - val_loss: 0.6935\n",
      "Epoch 14/20\n",
      "\u001b[1m130/130\u001b[0m \u001b[32m━━━━━━━━━━━━━━━━━━━━\u001b[0m\u001b[37m\u001b[0m \u001b[1m1s\u001b[0m 7ms/step - accuracy: 0.5716 - loss: 0.6936 - val_accuracy: 0.5738 - val_loss: 0.6928\n",
      "Epoch 15/20\n",
      "\u001b[1m130/130\u001b[0m \u001b[32m━━━━━━━━━━━━━━━━━━━━\u001b[0m\u001b[37m\u001b[0m \u001b[1m1s\u001b[0m 7ms/step - accuracy: 0.5756 - loss: 0.6926 - val_accuracy: 0.5726 - val_loss: 0.6939\n",
      "Epoch 16/20\n",
      "\u001b[1m130/130\u001b[0m \u001b[32m━━━━━━━━━━━━━━━━━━━━\u001b[0m\u001b[37m\u001b[0m \u001b[1m1s\u001b[0m 7ms/step - accuracy: 0.5830 - loss: 0.6923 - val_accuracy: 0.5720 - val_loss: 0.6924\n",
      "Epoch 17/20\n",
      "\u001b[1m130/130\u001b[0m \u001b[32m━━━━━━━━━━━━━━━━━━━━\u001b[0m\u001b[37m\u001b[0m \u001b[1m0s\u001b[0m 3ms/step - accuracy: 0.5890 - loss: 0.6898 - val_accuracy: 0.5800 - val_loss: 0.6924\n",
      "Epoch 18/20\n",
      "\u001b[1m130/130\u001b[0m \u001b[32m━━━━━━━━━━━━━━━━━━━━\u001b[0m\u001b[37m\u001b[0m \u001b[1m0s\u001b[0m 3ms/step - accuracy: 0.5911 - loss: 0.6894 - val_accuracy: 0.5818 - val_loss: 0.6929\n",
      "Epoch 19/20\n",
      "\u001b[1m130/130\u001b[0m \u001b[32m━━━━━━━━━━━━━━━━━━━━\u001b[0m\u001b[37m\u001b[0m \u001b[1m0s\u001b[0m 3ms/step - accuracy: 0.5959 - loss: 0.6873 - val_accuracy: 0.5806 - val_loss: 0.6936\n",
      "Epoch 20/20\n",
      "\u001b[1m130/130\u001b[0m \u001b[32m━━━━━━━━━━━━━━━━━━━━\u001b[0m\u001b[37m\u001b[0m \u001b[1m1s\u001b[0m 4ms/step - accuracy: 0.6029 - loss: 0.6853 - val_accuracy: 0.5893 - val_loss: 0.6929\n",
      "Training for fold 5 ...\n",
      "Epoch 1/20\n"
     ]
    },
    {
     "name": "stderr",
     "output_type": "stream",
     "text": [
      "/opt/jupyterhub/lib/python3.10/site-packages/keras/src/layers/core/dense.py:87: UserWarning: Do not pass an `input_shape`/`input_dim` argument to a layer. When using Sequential models, prefer using an `Input(shape)` object as the first layer in the model instead.\n",
      "  super().__init__(activity_regularizer=activity_regularizer, **kwargs)\n"
     ]
    },
    {
     "name": "stdout",
     "output_type": "stream",
     "text": [
      "\u001b[1m130/130\u001b[0m \u001b[32m━━━━━━━━━━━━━━━━━━━━\u001b[0m\u001b[37m\u001b[0m \u001b[1m2s\u001b[0m 8ms/step - accuracy: 0.5277 - loss: 4.6187 - val_accuracy: 0.5720 - val_loss: 1.2041\n",
      "Epoch 2/20\n",
      "\u001b[1m130/130\u001b[0m \u001b[32m━━━━━━━━━━━━━━━━━━━━\u001b[0m\u001b[37m\u001b[0m \u001b[1m0s\u001b[0m 3ms/step - accuracy: 0.5516 - loss: 1.0125 - val_accuracy: 0.5510 - val_loss: 0.7544\n",
      "Epoch 3/20\n",
      "\u001b[1m130/130\u001b[0m \u001b[32m━━━━━━━━━━━━━━━━━━━━\u001b[0m\u001b[37m\u001b[0m \u001b[1m1s\u001b[0m 4ms/step - accuracy: 0.5482 - loss: 0.7372 - val_accuracy: 0.5423 - val_loss: 0.7048\n",
      "Epoch 4/20\n",
      "\u001b[1m130/130\u001b[0m \u001b[32m━━━━━━━━━━━━━━━━━━━━\u001b[0m\u001b[37m\u001b[0m \u001b[1m1s\u001b[0m 6ms/step - accuracy: 0.5415 - loss: 0.7029 - val_accuracy: 0.5448 - val_loss: 0.6947\n",
      "Epoch 5/20\n",
      "\u001b[1m130/130\u001b[0m \u001b[32m━━━━━━━━━━━━━━━━━━━━\u001b[0m\u001b[37m\u001b[0m \u001b[1m1s\u001b[0m 6ms/step - accuracy: 0.5429 - loss: 0.6953 - val_accuracy: 0.5553 - val_loss: 0.6916\n",
      "Epoch 6/20\n",
      "\u001b[1m130/130\u001b[0m \u001b[32m━━━━━━━━━━━━━━━━━━━━\u001b[0m\u001b[37m\u001b[0m \u001b[1m1s\u001b[0m 7ms/step - accuracy: 0.5487 - loss: 0.6929 - val_accuracy: 0.5726 - val_loss: 0.6903\n",
      "Epoch 7/20\n",
      "\u001b[1m130/130\u001b[0m \u001b[32m━━━━━━━━━━━━━━━━━━━━\u001b[0m\u001b[37m\u001b[0m \u001b[1m0s\u001b[0m 3ms/step - accuracy: 0.5427 - loss: 0.6916 - val_accuracy: 0.5720 - val_loss: 0.6894\n",
      "Epoch 8/20\n",
      "\u001b[1m130/130\u001b[0m \u001b[32m━━━━━━━━━━━━━━━━━━━━\u001b[0m\u001b[37m\u001b[0m \u001b[1m0s\u001b[0m 3ms/step - accuracy: 0.5578 - loss: 0.6904 - val_accuracy: 0.5689 - val_loss: 0.6889\n",
      "Epoch 9/20\n",
      "\u001b[1m130/130\u001b[0m \u001b[32m━━━━━━━━━━━━━━━━━━━━\u001b[0m\u001b[37m\u001b[0m \u001b[1m0s\u001b[0m 3ms/step - accuracy: 0.5632 - loss: 0.6896 - val_accuracy: 0.5621 - val_loss: 0.6886\n",
      "Epoch 10/20\n",
      "\u001b[1m130/130\u001b[0m \u001b[32m━━━━━━━━━━━━━━━━━━━━\u001b[0m\u001b[37m\u001b[0m \u001b[1m0s\u001b[0m 4ms/step - accuracy: 0.5660 - loss: 0.6892 - val_accuracy: 0.5689 - val_loss: 0.6895\n",
      "Epoch 11/20\n",
      "\u001b[1m130/130\u001b[0m \u001b[32m━━━━━━━━━━━━━━━━━━━━\u001b[0m\u001b[37m\u001b[0m \u001b[1m0s\u001b[0m 3ms/step - accuracy: 0.5744 - loss: 0.6896 - val_accuracy: 0.5689 - val_loss: 0.6925\n",
      "Epoch 12/20\n",
      "\u001b[1m130/130\u001b[0m \u001b[32m━━━━━━━━━━━━━━━━━━━━\u001b[0m\u001b[37m\u001b[0m \u001b[1m0s\u001b[0m 3ms/step - accuracy: 0.5825 - loss: 0.6903 - val_accuracy: 0.5658 - val_loss: 0.6925\n",
      "Epoch 13/20\n",
      "\u001b[1m130/130\u001b[0m \u001b[32m━━━━━━━━━━━━━━━━━━━━\u001b[0m\u001b[37m\u001b[0m \u001b[1m0s\u001b[0m 3ms/step - accuracy: 0.5863 - loss: 0.6894 - val_accuracy: 0.5652 - val_loss: 0.6921\n",
      "Epoch 14/20\n",
      "\u001b[1m130/130\u001b[0m \u001b[32m━━━━━━━━━━━━━━━━━━━━\u001b[0m\u001b[37m\u001b[0m \u001b[1m0s\u001b[0m 4ms/step - accuracy: 0.5882 - loss: 0.6870 - val_accuracy: 0.5670 - val_loss: 0.6948\n",
      "Epoch 15/20\n",
      "\u001b[1m130/130\u001b[0m \u001b[32m━━━━━━━━━━━━━━━━━━━━\u001b[0m\u001b[37m\u001b[0m \u001b[1m1s\u001b[0m 4ms/step - accuracy: 0.5924 - loss: 0.6871 - val_accuracy: 0.5676 - val_loss: 0.6919\n",
      "Epoch 16/20\n",
      "\u001b[1m130/130\u001b[0m \u001b[32m━━━━━━━━━━━━━━━━━━━━\u001b[0m\u001b[37m\u001b[0m \u001b[1m0s\u001b[0m 4ms/step - accuracy: 0.5956 - loss: 0.6851 - val_accuracy: 0.5639 - val_loss: 0.6948\n",
      "Epoch 17/20\n",
      "\u001b[1m130/130\u001b[0m \u001b[32m━━━━━━━━━━━━━━━━━━━━\u001b[0m\u001b[37m\u001b[0m \u001b[1m0s\u001b[0m 3ms/step - accuracy: 0.6033 - loss: 0.6833 - val_accuracy: 0.5701 - val_loss: 0.6914\n",
      "Epoch 18/20\n",
      "\u001b[1m130/130\u001b[0m \u001b[32m━━━━━━━━━━━━━━━━━━━━\u001b[0m\u001b[37m\u001b[0m \u001b[1m0s\u001b[0m 3ms/step - accuracy: 0.6021 - loss: 0.6806 - val_accuracy: 0.5738 - val_loss: 0.6915\n",
      "Epoch 19/20\n",
      "\u001b[1m130/130\u001b[0m \u001b[32m━━━━━━━━━━━━━━━━━━━━\u001b[0m\u001b[37m\u001b[0m \u001b[1m0s\u001b[0m 3ms/step - accuracy: 0.6050 - loss: 0.6773 - val_accuracy: 0.5713 - val_loss: 0.6924\n",
      "Epoch 20/20\n",
      "\u001b[1m130/130\u001b[0m \u001b[32m━━━━━━━━━━━━━━━━━━━━\u001b[0m\u001b[37m\u001b[0m \u001b[1m0s\u001b[0m 4ms/step - accuracy: 0.6131 - loss: 0.6760 - val_accuracy: 0.5732 - val_loss: 0.6935\n"
     ]
    }
   ],
   "source": [
    "# Define the K-fold cross validator\n",
    "num_folds = 5\n",
    "kfold = KFold(n_splits=num_folds, shuffle=True)\n",
    "\n",
    "# Lists to store results of each fold\n",
    "all_y_test = []\n",
    "all_y_pred = []\n",
    "\n",
    "# K-fold Cross Validation model evaluation\n",
    "fold_no = 1\n",
    "X= X_train\n",
    "y = y_train\n",
    "for train, test in kfold.split(X, y):\n",
    "\n",
    "    # Define the model architecture\n",
    "    ann = tf.keras.models.Sequential([\n",
    "        tf.keras.layers.Dense(units=240, activation='relu', kernel_regularizer=regularizers.l2(0.01), input_shape=(X.shape[1],)),\n",
    "        tf.keras.layers.Dense(units=120, activation='relu', kernel_regularizer=regularizers.l2(0.01)),\n",
    "        tf.keras.layers.Dense(units=60, activation='relu', kernel_regularizer=regularizers.l2(0.01)),\n",
    "        tf.keras.layers.Dense(units=30, activation='relu', kernel_regularizer=regularizers.l2(0.01)),\n",
    "        tf.keras.layers.Dense(units=1, activation='sigmoid')\n",
    "    ])\n",
    "\n",
    "    # Compile the model\n",
    "    ann.compile(optimizer=keras.optimizers.Adam(learning_rate=0.001), loss='binary_crossentropy', metrics=['accuracy'])\n",
    "  \n",
    "    # Fit the model\n",
    "    print(f'Training for fold {fold_no} ...')\n",
    "    ann.fit(X[train], y[train], batch_size=batch_size, epochs=n_epochs, verbose=1, validation_data=(X[test], y[test]))\n",
    "    \n",
    "    # Generate predictions\n",
    "    y_pred = model.predict(X[test])\n",
    "    y_pred_binary = (y_pred > 0.5).astype(int)\n",
    "    \n",
    "    # Store the true labels and predictions\n",
    "    all_y_test.extend(y[test])\n",
    "    all_y_pred.extend(y_pred_binary.flatten())  # Flatten to ensure it's a 1D array\n",
    "\n",
    "    # Increase fold number\n",
    "    fold_no += 1"
   ]
  },
  {
   "cell_type": "code",
   "execution_count": 43,
   "id": "fa1fbe9d-db9f-4b72-b961-97916f0227ba",
   "metadata": {},
   "outputs": [
    {
     "name": "stdout",
     "output_type": "stream",
     "text": [
      "Overall performance:\n",
      "Accuracy: 0.6594193946880791\n",
      "f1_score: 0.6132697433020059\n",
      "              precision    recall  f1-score   support\n",
      "\n",
      "           0       0.67      0.72      0.70      4360\n",
      "           1       0.64      0.59      0.61      3735\n",
      "\n",
      "    accuracy                           0.66      8095\n",
      "   macro avg       0.66      0.65      0.65      8095\n",
      "weighted avg       0.66      0.66      0.66      8095\n",
      "\n"
     ]
    },
    {
     "data": {
      "text/html": [
       "<div>\n",
       "<style scoped>\n",
       "    .dataframe tbody tr th:only-of-type {\n",
       "        vertical-align: middle;\n",
       "    }\n",
       "\n",
       "    .dataframe tbody tr th {\n",
       "        vertical-align: top;\n",
       "    }\n",
       "\n",
       "    .dataframe thead th {\n",
       "        text-align: right;\n",
       "    }\n",
       "</style>\n",
       "<table border=\"1\" class=\"dataframe\">\n",
       "  <thead>\n",
       "    <tr style=\"text-align: right;\">\n",
       "      <th></th>\n",
       "      <th>Model</th>\n",
       "      <th>Accuracy</th>\n",
       "      <th>f1_Score</th>\n",
       "    </tr>\n",
       "  </thead>\n",
       "  <tbody>\n",
       "    <tr>\n",
       "      <th>0</th>\n",
       "      <td>LogisticRegression</td>\n",
       "      <td>0.622222</td>\n",
       "      <td>0.572864</td>\n",
       "    </tr>\n",
       "    <tr>\n",
       "      <th>1</th>\n",
       "      <td>nn_shallow</td>\n",
       "      <td>0.578889</td>\n",
       "      <td>0.499339</td>\n",
       "    </tr>\n",
       "    <tr>\n",
       "      <th>2</th>\n",
       "      <td>nn_deep</td>\n",
       "      <td>0.611111</td>\n",
       "      <td>0.554707</td>\n",
       "    </tr>\n",
       "    <tr>\n",
       "      <th>3</th>\n",
       "      <td>nn_deep_weighted</td>\n",
       "      <td>0.580000</td>\n",
       "      <td>0.614286</td>\n",
       "    </tr>\n",
       "    <tr>\n",
       "      <th>4</th>\n",
       "      <td>nn_deep_weighted_5fold</td>\n",
       "      <td>0.659419</td>\n",
       "      <td>0.613270</td>\n",
       "    </tr>\n",
       "  </tbody>\n",
       "</table>\n",
       "</div>"
      ],
      "text/plain": [
       "                    Model  Accuracy  f1_Score\n",
       "0      LogisticRegression  0.622222  0.572864\n",
       "1              nn_shallow  0.578889  0.499339\n",
       "2                 nn_deep  0.611111  0.554707\n",
       "3        nn_deep_weighted  0.580000  0.614286\n",
       "4  nn_deep_weighted_5fold  0.659419  0.613270"
      ]
     },
     "execution_count": 43,
     "metadata": {},
     "output_type": "execute_result"
    }
   ],
   "source": [
    "# Performance assessment\n",
    "# Now, all_y_test and all_y_pred contain all the test labels and predictions across all folds\n",
    "print('Overall performance:')\n",
    "# Evaluate the model\n",
    "accuracy = accuracy_score(all_y_test, all_y_pred)\n",
    "f1 = f1_score(all_y_test, all_y_pred, average='binary')  \n",
    "new_row = {'Model': 'nn_deep_weighted_5fold', 'Accuracy': accuracy, 'f1_Score': f1}\n",
    "new_row_df = pd.DataFrame([new_row])\n",
    "metrics_df = pd.concat([metrics_df, new_row_df], ignore_index=True)\n",
    "print(f'Accuracy: {accuracy}')\n",
    "print(f'f1_score: {f1}')\n",
    "print(classification_report(all_y_test, all_y_pred))\n",
    "metrics_df"
   ]
  },
  {
   "cell_type": "markdown",
   "id": "f56d052a-f9f4-4097-8287-d03951996ad3",
   "metadata": {},
   "source": [
    "## icn3dpy"
   ]
  },
  {
   "cell_type": "raw",
   "id": "5282e4aa-496c-4332-9337-0fc6d34f4cba",
   "metadata": {},
   "source": [
    "# show 3D structure (Run if icn3dpy is installed)\n",
    "offset = int(MAXCNT * 0.8)\n",
    "matchCnt = sum([1 for pred, test in zip(y_pred, y_test) if pred == test])\n",
    "totalCnt = len(y_pred)\n",
    "\n",
    "# Find the first non-empty pdbid and its sequence\n",
    "for i, pdbid in enumerate(pdbids[offset:], start=offset):\n",
    "    if pdbid:  # Checks if pdbid is not empty\n",
    "        seq = seqs[i]\n",
    "        print(f\"PDB ID: {pdbid}, seq: {seq}\")\n",
    "\n",
    "        idStr = f'mmdbid={pdbid}'\n",
    "        # Ensure seq is a string for concatenation\n",
    "        seqStr = ''.join(seq) if isinstance(seq, list) else seq\n",
    "        cmdStr = f'select :{seqStr} | name test; color F00; style proteins sphere'\n",
    "        view = icn3dpy.view(q=idStr, command=cmdStr)\n",
    "        view\n",
    "        break  # Exit the loop after the first match\n",
    "\n",
    "print(f\"totalCnt: {totalCnt}, matchCnt: {matchCnt}, Matched ratio: {matchCnt/totalCnt}\")"
   ]
  },
  {
   "cell_type": "raw",
   "id": "49364a0e-eac6-4805-aaae-5ddfa5872476",
   "metadata": {},
   "source": [
    "idStr = 'mmdbid=' + pdbid\n",
    "cmdStr = 'select :' + seqStr + ' | name test; color F00; style proteins sphere'\n",
    "print (idStr, cmdStr)"
   ]
  },
  {
   "cell_type": "raw",
   "id": "cef1c10f-11b7-45e9-894e-586775e17f0b",
   "metadata": {},
   "source": [
    "view = icn3dpy.view(q=idStr,command=cmdStr)\n",
    "view"
   ]
  },
  {
   "cell_type": "markdown",
   "id": "bb2526a8-8ca8-4be1-917e-572d2043de0e",
   "metadata": {},
   "source": [
    "## Stats on Results"
   ]
  },
  {
   "cell_type": "code",
   "execution_count": 44,
   "id": "9a1259c0-106f-4163-a2ed-caa5996c4a7c",
   "metadata": {},
   "outputs": [
    {
     "data": {
      "text/html": [
       "<div>\n",
       "<style scoped>\n",
       "    .dataframe tbody tr th:only-of-type {\n",
       "        vertical-align: middle;\n",
       "    }\n",
       "\n",
       "    .dataframe tbody tr th {\n",
       "        vertical-align: top;\n",
       "    }\n",
       "\n",
       "    .dataframe thead th {\n",
       "        text-align: right;\n",
       "    }\n",
       "</style>\n",
       "<table border=\"1\" class=\"dataframe\">\n",
       "  <thead>\n",
       "    <tr style=\"text-align: right;\">\n",
       "      <th></th>\n",
       "      <th>Model</th>\n",
       "      <th>Accuracy</th>\n",
       "      <th>f1_Score</th>\n",
       "    </tr>\n",
       "  </thead>\n",
       "  <tbody>\n",
       "    <tr>\n",
       "      <th>0</th>\n",
       "      <td>LogisticRegression</td>\n",
       "      <td>0.622222</td>\n",
       "      <td>0.572864</td>\n",
       "    </tr>\n",
       "    <tr>\n",
       "      <th>1</th>\n",
       "      <td>nn_shallow</td>\n",
       "      <td>0.578889</td>\n",
       "      <td>0.499339</td>\n",
       "    </tr>\n",
       "    <tr>\n",
       "      <th>2</th>\n",
       "      <td>nn_deep</td>\n",
       "      <td>0.611111</td>\n",
       "      <td>0.554707</td>\n",
       "    </tr>\n",
       "    <tr>\n",
       "      <th>3</th>\n",
       "      <td>nn_deep_weighted</td>\n",
       "      <td>0.580000</td>\n",
       "      <td>0.614286</td>\n",
       "    </tr>\n",
       "    <tr>\n",
       "      <th>4</th>\n",
       "      <td>nn_deep_weighted_5fold</td>\n",
       "      <td>0.659419</td>\n",
       "      <td>0.613270</td>\n",
       "    </tr>\n",
       "  </tbody>\n",
       "</table>\n",
       "</div>"
      ],
      "text/plain": [
       "                    Model  Accuracy  f1_Score\n",
       "0      LogisticRegression  0.622222  0.572864\n",
       "1              nn_shallow  0.578889  0.499339\n",
       "2                 nn_deep  0.611111  0.554707\n",
       "3        nn_deep_weighted  0.580000  0.614286\n",
       "4  nn_deep_weighted_5fold  0.659419  0.613270"
      ]
     },
     "execution_count": 44,
     "metadata": {},
     "output_type": "execute_result"
    }
   ],
   "source": [
    "metrics_df"
   ]
  },
  {
   "cell_type": "code",
   "execution_count": 45,
   "id": "338ffb76-d87f-49d6-8f64-3ab283ad9c2a",
   "metadata": {},
   "outputs": [
    {
     "name": "stdout",
     "output_type": "stream",
     "text": [
      "\u001b[1m29/29\u001b[0m \u001b[32m━━━━━━━━━━━━━━━━━━━━\u001b[0m\u001b[37m\u001b[0m \u001b[1m0s\u001b[0m 2ms/step\n"
     ]
    },
    {
     "data": {
      "image/png": "[encoded data removed]",
      "text/plain": [
       "<Figure size 1000x600 with 1 Axes>"
      ]
     },
     "metadata": {},
     "output_type": "display_data"
    }
   ],
   "source": [
    "# let dig more into the results:\n",
    "from sklearn.metrics import roc_curve\n",
    "y_probs = ann.predict(X_test)\n",
    "# Calculate FPR, TPR, and thresholds for the ROC curve\n",
    "fpr, tpr, roc_thresholds = roc_curve(y_test, y_probs)\n",
    "import matplotlib.pyplot as plt\n",
    "\n",
    "# Plotting the ROC curve\n",
    "plt.figure(figsize=(10, 6))\n",
    "plt.plot(fpr, tpr, label='ROC Curve')\n",
    "plt.plot([0, 1], [0, 1], 'k--', label='Random Chance')  # random chance line\n",
    "plt.xlabel('False Positive Rate')\n",
    "plt.ylabel('True Positive Rate')\n",
    "plt.title('ROC Curve')\n",
    "plt.legend(loc='best')\n",
    "plt.show()"
   ]
  },
  {
   "cell_type": "code",
   "execution_count": 46,
   "id": "e5717914-5a2a-4052-bf57-56b8042d4585",
   "metadata": {},
   "outputs": [
    {
     "data": {
      "image/png": "[encoded data removed]",
      "text/plain": [
       "<Figure size 1000x600 with 1 Axes>"
      ]
     },
     "metadata": {},
     "output_type": "display_data"
    }
   ],
   "source": [
    "# Define a range of thresholds to evaluate\n",
    "thresholds = np.linspace(0, 1, 101)\n",
    "\n",
    "# Calculate F1 scores for each threshold\n",
    "f1_scores = [f1_score(y_test, y_probs > threshold) for threshold in thresholds]\n",
    "\n",
    "# Plotting F1 scores against thresholds\n",
    "plt.figure(figsize=(10, 6))\n",
    "plt.plot(thresholds, f1_scores, label='F1 Score')\n",
    "plt.xlabel('Threshold')\n",
    "plt.ylabel('F1 Score')\n",
    "plt.title('F1 Score vs. Threshold')\n",
    "plt.legend(loc='best')\n",
    "plt.show()"
   ]
  },
  {
   "cell_type": "code",
   "execution_count": 47,
   "id": "81cc9a8b-7508-47b8-9aad-44b040ffbd1c",
   "metadata": {},
   "outputs": [
    {
     "name": "stdout",
     "output_type": "stream",
     "text": [
      "\u001b[1m29/29\u001b[0m \u001b[32m━━━━━━━━━━━━━━━━━━━━\u001b[0m\u001b[37m\u001b[0m \u001b[1m0s\u001b[0m 968us/step\n"
     ]
    },
    {
     "data": {
      "image/png": "[encoded data removed]",
      "text/plain": [
       "<Figure size 640x480 with 1 Axes>"
      ]
     },
     "metadata": {},
     "output_type": "display_data"
    }
   ],
   "source": [
    "# let find the optimal threshold for balancing false positives and false negatives \n",
    "# to do that we are using calibration plot.\n",
    "# Step 1: we should predict the probablities\n",
    "y_probs = ann.predict(X_test)\n",
    "# Step 2: Calculate Precision, Recall, and Thresholds\n",
    "from sklearn.metrics import precision_recall_curve\n",
    "# Calculate precision, recall, and thresholds\n",
    "precision, recall, thresholds = precision_recall_curve(y_test, y_probs)\n",
    "# Step 3: Create a Calibration Plot\n",
    "\n",
    "from sklearn.calibration import calibration_curve\n",
    "import matplotlib.pyplot as plt\n",
    "\n",
    "# Calibration curve\n",
    "prob_true, prob_pred = calibration_curve(y_test, y_probs, n_bins=10)\n",
    "\n",
    "# Plotting the calibration curve\n",
    "plt.plot(prob_pred, prob_true, marker='o', linewidth=1, label='ANN')\n",
    "plt.plot([0, 1], [0, 1], linestyle='--', label='Perfectly calibrated')\n",
    "plt.xlabel('Mean predicted probability')\n",
    "plt.ylabel('Fraction of positives')\n",
    "plt.title('Calibration plot')\n",
    "plt.legend()\n",
    "plt.show()"
   ]
  }
 ],
 "metadata": {
  "kernelspec": {
   "display_name": "Python 3 (ipykernel)",
   "language": "python",
   "name": "python3"
  },
  "language_info": {
   "codemirror_mode": {
    "name": "ipython",
    "version": 3
   },
   "file_extension": ".py",
   "mimetype": "text/x-python",
   "name": "python",
   "nbconvert_exporter": "python",
   "pygments_lexer": "ipython3",
   "version": "3.10.12"
  }
 },
 "nbformat": 4,
 "nbformat_minor": 5
}
